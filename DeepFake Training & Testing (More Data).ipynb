{
 "cells": [
  {
   "cell_type": "code",
   "execution_count": 1,
   "metadata": {},
   "outputs": [],
   "source": [
    "import glob\n",
    "import pandas as pd\n",
    "import matplotlib.pyplot as plt\n",
    "import numpy as np\n",
    "from PIL import Image\n",
    "import cv2\n",
    "import math\n",
    "from IPython import display\n",
    "import time"
   ]
  },
  {
   "cell_type": "code",
   "execution_count": 2,
   "metadata": {},
   "outputs": [
    {
     "name": "stderr",
     "output_type": "stream",
     "text": [
      "I0730 23:00:34.462886 140628753123136 file_utils.py:39] PyTorch version 1.2.0 available.\n",
      "I0730 23:00:35.528417 140628753123136 file_utils.py:55] TensorFlow version 2.2.0-dev20200218 available.\n"
     ]
    }
   ],
   "source": [
    "# !pip install efficientnet_pytorch\n",
    "# !pip install torchsummary seaborn transformers albumentations\n",
    "\n",
    "# torch\n",
    "import torch\n",
    "from torch.utils.data import Dataset, DataLoader\n",
    "import torch.nn as nn #conv2d \n",
    "from torchvision import transforms, models\n",
    "from efficientnet_pytorch import EfficientNet\n",
    "from torchsummary import summary\n",
    "\n",
    "import seaborn as sns\n",
    "from tqdm.notebook import tqdm\n",
    "\n",
    "from sklearn.metrics import accuracy_score, confusion_matrix\n",
    "from scipy.special import softmax\n",
    "\n",
    "from transformers import get_cosine_schedule_with_warmup\n",
    "from transformers import AdamW\n",
    "\n",
    "from albumentations import *\n",
    "from albumentations import (VerticalFlip, \n",
    "                            HorizontalFlip, \n",
    "                            Flip, \n",
    "                            RandomRotate90, \n",
    "                            Rotate, \n",
    "                            ShiftScaleRotate, \n",
    "                            CenterCrop, \n",
    "                            OpticalDistortion, \n",
    "                            GridDistortion, \n",
    "                            ElasticTransform, \n",
    "                            JpegCompression, \n",
    "                            HueSaturationValue,\n",
    "                            RGBShift, \n",
    "                            RandomBrightness, \n",
    "                            RandomContrast, \n",
    "                            Blur, \n",
    "                            MotionBlur, \n",
    "                            MedianBlur, \n",
    "                            GaussNoise, \n",
    "                            CLAHE, \n",
    "                            ChannelShuffle, \n",
    "                            InvertImg, \n",
    "                            RandomGamma, \n",
    "                            ToGray, \n",
    "                            PadIfNeeded \n",
    "                           )\n",
    "from albumentations.pytorch import ToTensor\n",
    "\n",
    "import gc\n",
    "\n",
    "import warnings\n",
    "warnings.filterwarnings(\"ignore\")"
   ]
  },
  {
   "cell_type": "markdown",
   "metadata": {},
   "source": [
    "## TRAIN SET"
   ]
  },
  {
   "cell_type": "code",
   "execution_count": 3,
   "metadata": {},
   "outputs": [],
   "source": [
    "data_dir = [[\"/home/umit/xDataset/Sentinel-img/train-real\",6817],\n",
    "            [\"/home/umit/xDataset/deepfake_database/train/real\",7250]\n",
    "           ]"
   ]
  },
  {
   "cell_type": "code",
   "execution_count": 4,
   "metadata": {},
   "outputs": [],
   "source": [
    "train_balance_real_full = None\n",
    "for x in data_dir:\n",
    "    \n",
    "    _dir = x[0]\n",
    "    sampleNum = x[1]\n",
    "    \n",
    "    data_samples = []\n",
    "    train_data_real = []\n",
    "    \n",
    "    # JPEG\n",
    "    _list_jpeg = glob.glob(_dir + '/*.jpeg')\n",
    "    data_samples += _list_jpeg\n",
    "    # JPG\n",
    "    _list_jpg = glob.glob(_dir + '/*.jpg')\n",
    "    data_samples += _list_jpg\n",
    "    # PNG\n",
    "    _list_png = glob.glob(_dir + '/*.png')\n",
    "    data_samples += _list_png\n",
    "    \n",
    "    train_data_real = pd.DataFrame(data_samples,columns = ['image_path'])\n",
    "    train_data_real['real'] = 1\n",
    "    train_data_real['fake'] = 0\n",
    "    \n",
    "    if train_balance_real_full is None:\n",
    "        train_balance_real_full = train_data_real.sample(n=sampleNum, random_state=1,replace=False)\n",
    "    else:\n",
    "        train_balance_real_full = pd.concat([train_balance_real_full, \n",
    "                                       train_data_real.sample(n=sampleNum, random_state=1,replace=False)],\n",
    "                                       ignore_index=True)"
   ]
  },
  {
   "cell_type": "code",
   "execution_count": 5,
   "metadata": {},
   "outputs": [
    {
     "data": {
      "text/html": [
       "<div>\n",
       "<style scoped>\n",
       "    .dataframe tbody tr th:only-of-type {\n",
       "        vertical-align: middle;\n",
       "    }\n",
       "\n",
       "    .dataframe tbody tr th {\n",
       "        vertical-align: top;\n",
       "    }\n",
       "\n",
       "    .dataframe thead th {\n",
       "        text-align: right;\n",
       "    }\n",
       "</style>\n",
       "<table border=\"1\" class=\"dataframe\">\n",
       "  <thead>\n",
       "    <tr style=\"text-align: right;\">\n",
       "      <th></th>\n",
       "      <th>image_path</th>\n",
       "      <th>real</th>\n",
       "      <th>fake</th>\n",
       "    </tr>\n",
       "  </thead>\n",
       "  <tbody>\n",
       "    <tr>\n",
       "      <th>0</th>\n",
       "      <td>/home/umit/xDataset/Sentinel-img/train-real/tr...</td>\n",
       "      <td>1</td>\n",
       "      <td>0</td>\n",
       "    </tr>\n",
       "    <tr>\n",
       "      <th>1</th>\n",
       "      <td>/home/umit/xDataset/Sentinel-img/train-real/tr...</td>\n",
       "      <td>1</td>\n",
       "      <td>0</td>\n",
       "    </tr>\n",
       "    <tr>\n",
       "      <th>2</th>\n",
       "      <td>/home/umit/xDataset/Sentinel-img/train-real/tr...</td>\n",
       "      <td>1</td>\n",
       "      <td>0</td>\n",
       "    </tr>\n",
       "    <tr>\n",
       "      <th>3</th>\n",
       "      <td>/home/umit/xDataset/Sentinel-img/train-real/tr...</td>\n",
       "      <td>1</td>\n",
       "      <td>0</td>\n",
       "    </tr>\n",
       "    <tr>\n",
       "      <th>4</th>\n",
       "      <td>/home/umit/xDataset/Sentinel-img/train-real/tr...</td>\n",
       "      <td>1</td>\n",
       "      <td>0</td>\n",
       "    </tr>\n",
       "  </tbody>\n",
       "</table>\n",
       "</div>"
      ],
      "text/plain": [
       "                                          image_path  real  fake\n",
       "0  /home/umit/xDataset/Sentinel-img/train-real/tr...     1     0\n",
       "1  /home/umit/xDataset/Sentinel-img/train-real/tr...     1     0\n",
       "2  /home/umit/xDataset/Sentinel-img/train-real/tr...     1     0\n",
       "3  /home/umit/xDataset/Sentinel-img/train-real/tr...     1     0\n",
       "4  /home/umit/xDataset/Sentinel-img/train-real/tr...     1     0"
      ]
     },
     "execution_count": 5,
     "metadata": {},
     "output_type": "execute_result"
    }
   ],
   "source": [
    "train_balance_real_full.head()"
   ]
  },
  {
   "cell_type": "code",
   "execution_count": 6,
   "metadata": {},
   "outputs": [],
   "source": [
    "data_dir = [[\"/home/umit/xDataset/Sentinel-img/train-fake\",5275],\n",
    "            [\"/home/umit/xDataset/deepfake_database/train/fake\",5103]\n",
    "            ]"
   ]
  },
  {
   "cell_type": "code",
   "execution_count": 7,
   "metadata": {},
   "outputs": [],
   "source": [
    "train_balance_fake_full = None\n",
    "for x in data_dir:\n",
    "    \n",
    "    _dir = x[0]\n",
    "    sampleNum = x[1]\n",
    "    \n",
    "    data_samples = []\n",
    "    train_data_fake = []\n",
    "    \n",
    "    # JPEG\n",
    "    _list_jpeg = glob.glob(_dir + '/*.jpeg')\n",
    "    data_samples += _list_jpeg\n",
    "    # JPG\n",
    "    _list_jpg = glob.glob(_dir + '/*.jpg')\n",
    "    data_samples += _list_jpg\n",
    "    # PNG\n",
    "    _list_png = glob.glob(_dir + '/*.png')\n",
    "    data_samples += _list_png\n",
    "\n",
    "    train_data_fake = pd.DataFrame(data_samples,columns = ['image_path'])\n",
    "    train_data_fake['real'] = 0.0\n",
    "    train_data_fake['fake'] = 1.0\n",
    "    \n",
    "    if train_balance_fake_full is None:\n",
    "        train_balance_fake_full = train_data_fake.sample(n=sampleNum, random_state=1,replace=False)\n",
    "    else:\n",
    "        train_balance_fake_full = pd.concat([train_balance_fake_full, \n",
    "                                       train_data_fake.sample(n=sampleNum, random_state=1,replace=False)],\n",
    "                                       ignore_index=True)"
   ]
  },
  {
   "cell_type": "code",
   "execution_count": 8,
   "metadata": {},
   "outputs": [
    {
     "data": {
      "text/html": [
       "<div>\n",
       "<style scoped>\n",
       "    .dataframe tbody tr th:only-of-type {\n",
       "        vertical-align: middle;\n",
       "    }\n",
       "\n",
       "    .dataframe tbody tr th {\n",
       "        vertical-align: top;\n",
       "    }\n",
       "\n",
       "    .dataframe thead th {\n",
       "        text-align: right;\n",
       "    }\n",
       "</style>\n",
       "<table border=\"1\" class=\"dataframe\">\n",
       "  <thead>\n",
       "    <tr style=\"text-align: right;\">\n",
       "      <th></th>\n",
       "      <th>image_path</th>\n",
       "      <th>real</th>\n",
       "      <th>fake</th>\n",
       "    </tr>\n",
       "  </thead>\n",
       "  <tbody>\n",
       "    <tr>\n",
       "      <th>0</th>\n",
       "      <td>/home/umit/xDataset/Sentinel-img/train-fake/tr...</td>\n",
       "      <td>0.0</td>\n",
       "      <td>1.0</td>\n",
       "    </tr>\n",
       "    <tr>\n",
       "      <th>1</th>\n",
       "      <td>/home/umit/xDataset/Sentinel-img/train-fake/tr...</td>\n",
       "      <td>0.0</td>\n",
       "      <td>1.0</td>\n",
       "    </tr>\n",
       "    <tr>\n",
       "      <th>2</th>\n",
       "      <td>/home/umit/xDataset/Sentinel-img/train-fake/tr...</td>\n",
       "      <td>0.0</td>\n",
       "      <td>1.0</td>\n",
       "    </tr>\n",
       "    <tr>\n",
       "      <th>3</th>\n",
       "      <td>/home/umit/xDataset/Sentinel-img/train-fake/tr...</td>\n",
       "      <td>0.0</td>\n",
       "      <td>1.0</td>\n",
       "    </tr>\n",
       "    <tr>\n",
       "      <th>4</th>\n",
       "      <td>/home/umit/xDataset/Sentinel-img/train-fake/tr...</td>\n",
       "      <td>0.0</td>\n",
       "      <td>1.0</td>\n",
       "    </tr>\n",
       "  </tbody>\n",
       "</table>\n",
       "</div>"
      ],
      "text/plain": [
       "                                          image_path  real  fake\n",
       "0  /home/umit/xDataset/Sentinel-img/train-fake/tr...   0.0   1.0\n",
       "1  /home/umit/xDataset/Sentinel-img/train-fake/tr...   0.0   1.0\n",
       "2  /home/umit/xDataset/Sentinel-img/train-fake/tr...   0.0   1.0\n",
       "3  /home/umit/xDataset/Sentinel-img/train-fake/tr...   0.0   1.0\n",
       "4  /home/umit/xDataset/Sentinel-img/train-fake/tr...   0.0   1.0"
      ]
     },
     "execution_count": 8,
     "metadata": {},
     "output_type": "execute_result"
    }
   ],
   "source": [
    "train_balance_fake_full.head()"
   ]
  },
  {
   "cell_type": "code",
   "execution_count": 9,
   "metadata": {},
   "outputs": [
    {
     "data": {
      "text/html": [
       "<div>\n",
       "<style scoped>\n",
       "    .dataframe tbody tr th:only-of-type {\n",
       "        vertical-align: middle;\n",
       "    }\n",
       "\n",
       "    .dataframe tbody tr th {\n",
       "        vertical-align: top;\n",
       "    }\n",
       "\n",
       "    .dataframe thead th {\n",
       "        text-align: right;\n",
       "    }\n",
       "</style>\n",
       "<table border=\"1\" class=\"dataframe\">\n",
       "  <thead>\n",
       "    <tr style=\"text-align: right;\">\n",
       "      <th></th>\n",
       "      <th>image_path</th>\n",
       "      <th>real</th>\n",
       "      <th>fake</th>\n",
       "    </tr>\n",
       "  </thead>\n",
       "  <tbody>\n",
       "    <tr>\n",
       "      <th>24440</th>\n",
       "      <td>/home/umit/xDataset/deepfake_database/train/fa...</td>\n",
       "      <td>0.0</td>\n",
       "      <td>1.0</td>\n",
       "    </tr>\n",
       "    <tr>\n",
       "      <th>24441</th>\n",
       "      <td>/home/umit/xDataset/deepfake_database/train/fa...</td>\n",
       "      <td>0.0</td>\n",
       "      <td>1.0</td>\n",
       "    </tr>\n",
       "    <tr>\n",
       "      <th>24442</th>\n",
       "      <td>/home/umit/xDataset/deepfake_database/train/fa...</td>\n",
       "      <td>0.0</td>\n",
       "      <td>1.0</td>\n",
       "    </tr>\n",
       "    <tr>\n",
       "      <th>24443</th>\n",
       "      <td>/home/umit/xDataset/deepfake_database/train/fa...</td>\n",
       "      <td>0.0</td>\n",
       "      <td>1.0</td>\n",
       "    </tr>\n",
       "    <tr>\n",
       "      <th>24444</th>\n",
       "      <td>/home/umit/xDataset/deepfake_database/train/fa...</td>\n",
       "      <td>0.0</td>\n",
       "      <td>1.0</td>\n",
       "    </tr>\n",
       "  </tbody>\n",
       "</table>\n",
       "</div>"
      ],
      "text/plain": [
       "                                              image_path  real  fake\n",
       "24440  /home/umit/xDataset/deepfake_database/train/fa...   0.0   1.0\n",
       "24441  /home/umit/xDataset/deepfake_database/train/fa...   0.0   1.0\n",
       "24442  /home/umit/xDataset/deepfake_database/train/fa...   0.0   1.0\n",
       "24443  /home/umit/xDataset/deepfake_database/train/fa...   0.0   1.0\n",
       "24444  /home/umit/xDataset/deepfake_database/train/fa...   0.0   1.0"
      ]
     },
     "execution_count": 9,
     "metadata": {},
     "output_type": "execute_result"
    }
   ],
   "source": [
    "train_data = pd.concat([train_balance_real_full, train_balance_fake_full],ignore_index=True)\n",
    "train_data.tail()"
   ]
  },
  {
   "cell_type": "code",
   "execution_count": 10,
   "metadata": {},
   "outputs": [
    {
     "data": {
      "text/plain": [
       "Text(0.5, 1.0, 'Real')"
      ]
     },
     "execution_count": 10,
     "metadata": {},
     "output_type": "execute_result"
    },
    {
     "data": {
      "image/png": "[encoded data removed]",
      "text/plain": [
       "<Figure size 1152x720 with 4 Axes>"
      ]
     },
     "metadata": {
      "needs_background": "light"
     },
     "output_type": "display_data"
    }
   ],
   "source": [
    "# Push CTRL + ENTER for update\n",
    "rand_fake = len(train_data['image_path'][train_data['fake']==1])\n",
    "rand_real = len(train_data['image_path'][train_data['real']==1])\n",
    "\n",
    "img_fake_1= plt.imread(train_data['image_path'][train_data['fake']==1].iloc[np.random.randint(rand_fake)])\n",
    "img_fake_2= plt.imread(train_data['image_path'][train_data['fake']==1].iloc[np.random.randint(rand_fake)])\n",
    "img_real_1= plt.imread(train_data['image_path'][train_data['real']==1].iloc[np.random.randint(rand_real)])\n",
    "img_real_2= plt.imread(train_data['image_path'][train_data['real']==1].iloc[np.random.randint(rand_real)])\n",
    "\n",
    "fig = plt.figure(figsize=(16,10))\n",
    "\n",
    "ax = fig.add_subplot(2, 2, 1)\n",
    "ax.imshow(img_fake_1)\n",
    "ax.set_title('Fake', fontsize = 20)\n",
    "\n",
    "ax = fig.add_subplot(2, 2, 2)\n",
    "ax.imshow(img_fake_2)\n",
    "ax.set_title('Fake', fontsize = 20)\n",
    "\n",
    "ax = fig.add_subplot(2, 2, 3)\n",
    "ax.imshow(img_real_1)\n",
    "ax.set_title('Real', fontsize = 20)\n",
    "\n",
    "ax = fig.add_subplot(2, 2, 4)\n",
    "ax.imshow(img_real_2)\n",
    "ax.set_title('Real', fontsize = 20)"
   ]
  },
  {
   "cell_type": "markdown",
   "metadata": {},
   "source": [
    "## VALIDATION SET"
   ]
  },
  {
   "cell_type": "code",
   "execution_count": 11,
   "metadata": {},
   "outputs": [],
   "source": [
    "data_dir = [[\"/home/umit/xDataset/Sentinel-img/valid-real\",1812],\n",
    "            ]"
   ]
  },
  {
   "cell_type": "code",
   "execution_count": 12,
   "metadata": {},
   "outputs": [],
   "source": [
    "valid_balance_real_full = None\n",
    "for x in data_dir:\n",
    "    \n",
    "    _dir = x[0]\n",
    "    sampleNum = x[1]\n",
    "    \n",
    "    data_samples = []\n",
    "    valid_data_real = []\n",
    "    \n",
    "    # JPEG\n",
    "    _list_jpeg = glob.glob(_dir + '/*.jpeg')\n",
    "    data_samples += _list_jpeg\n",
    "    # JPG\n",
    "    _list_jpg = glob.glob(_dir + '/*.jpg')\n",
    "    data_samples += _list_jpg\n",
    "    # PNG\n",
    "    _list_png = glob.glob(_dir + '/*.png')\n",
    "    data_samples += _list_png\n",
    "    \n",
    "    valid_data_real = pd.DataFrame(data_samples,columns = ['image_path'])\n",
    "    valid_data_real['real'] = 1\n",
    "    valid_data_real['fake'] = 0\n",
    "    \n",
    "    if valid_balance_real_full is None:\n",
    "        valid_balance_real_full = valid_data_real.sample(n=sampleNum, random_state=1,replace=False)\n",
    "    else:\n",
    "        valid_balance_real_full = pd.concat([valid_balance_real_full, \n",
    "                                       valid_data_real.sample(n=sampleNum, random_state=1,replace=False)],\n",
    "                                       ignore_index=True)"
   ]
  },
  {
   "cell_type": "code",
   "execution_count": 13,
   "metadata": {},
   "outputs": [
    {
     "data": {
      "text/html": [
       "<div>\n",
       "<style scoped>\n",
       "    .dataframe tbody tr th:only-of-type {\n",
       "        vertical-align: middle;\n",
       "    }\n",
       "\n",
       "    .dataframe tbody tr th {\n",
       "        vertical-align: top;\n",
       "    }\n",
       "\n",
       "    .dataframe thead th {\n",
       "        text-align: right;\n",
       "    }\n",
       "</style>\n",
       "<table border=\"1\" class=\"dataframe\">\n",
       "  <thead>\n",
       "    <tr style=\"text-align: right;\">\n",
       "      <th></th>\n",
       "      <th>image_path</th>\n",
       "      <th>real</th>\n",
       "      <th>fake</th>\n",
       "    </tr>\n",
       "  </thead>\n",
       "  <tbody>\n",
       "    <tr>\n",
       "      <th>1141</th>\n",
       "      <td>/home/umit/xDataset/Sentinel-img/valid-real/va...</td>\n",
       "      <td>1</td>\n",
       "      <td>0</td>\n",
       "    </tr>\n",
       "    <tr>\n",
       "      <th>966</th>\n",
       "      <td>/home/umit/xDataset/Sentinel-img/valid-real/va...</td>\n",
       "      <td>1</td>\n",
       "      <td>0</td>\n",
       "    </tr>\n",
       "    <tr>\n",
       "      <th>707</th>\n",
       "      <td>/home/umit/xDataset/Sentinel-img/valid-real/va...</td>\n",
       "      <td>1</td>\n",
       "      <td>0</td>\n",
       "    </tr>\n",
       "    <tr>\n",
       "      <th>1208</th>\n",
       "      <td>/home/umit/xDataset/Sentinel-img/valid-real/va...</td>\n",
       "      <td>1</td>\n",
       "      <td>0</td>\n",
       "    </tr>\n",
       "    <tr>\n",
       "      <th>1308</th>\n",
       "      <td>/home/umit/xDataset/Sentinel-img/valid-real/va...</td>\n",
       "      <td>1</td>\n",
       "      <td>0</td>\n",
       "    </tr>\n",
       "  </tbody>\n",
       "</table>\n",
       "</div>"
      ],
      "text/plain": [
       "                                             image_path  real  fake\n",
       "1141  /home/umit/xDataset/Sentinel-img/valid-real/va...     1     0\n",
       "966   /home/umit/xDataset/Sentinel-img/valid-real/va...     1     0\n",
       "707   /home/umit/xDataset/Sentinel-img/valid-real/va...     1     0\n",
       "1208  /home/umit/xDataset/Sentinel-img/valid-real/va...     1     0\n",
       "1308  /home/umit/xDataset/Sentinel-img/valid-real/va...     1     0"
      ]
     },
     "execution_count": 13,
     "metadata": {},
     "output_type": "execute_result"
    }
   ],
   "source": [
    "valid_balance_real_full.head()"
   ]
  },
  {
   "cell_type": "code",
   "execution_count": 14,
   "metadata": {},
   "outputs": [],
   "source": [
    "data_dir = [[\"/home/umit/xDataset/Sentinel-img/valid-fake\",1336],\n",
    "            ]"
   ]
  },
  {
   "cell_type": "code",
   "execution_count": 15,
   "metadata": {},
   "outputs": [],
   "source": [
    "valid_balance_fake_full = None\n",
    "for x in data_dir:\n",
    "    \n",
    "    _dir = x[0]\n",
    "    sampleNum = x[1]\n",
    "    \n",
    "    data_samples = []\n",
    "    valid_data_fake = []\n",
    "    \n",
    "    # JPEG\n",
    "    _list_jpeg = glob.glob(_dir + '/*.jpeg')\n",
    "    data_samples += _list_jpeg\n",
    "    # JPG\n",
    "    _list_jpg = glob.glob(_dir + '/*.jpg')\n",
    "    data_samples += _list_jpg\n",
    "    # PNG\n",
    "    _list_png = glob.glob(_dir + '/*.png')\n",
    "    data_samples += _list_png\n",
    "\n",
    "    valid_data_fake = pd.DataFrame(data_samples,columns = ['image_path'])\n",
    "    valid_data_fake['real'] = 0.0\n",
    "    valid_data_fake['fake'] = 1.0\n",
    "    \n",
    "    if valid_balance_fake_full is None:\n",
    "        valid_balance_fake_full = valid_data_fake.sample(n=sampleNum, random_state=1,replace=False)\n",
    "    else:\n",
    "        valid_balance_fake_full = pd.concat([valid_balance_fake_full, \n",
    "                                       valid_data_fake.sample(n=sampleNum, random_state=1,replace=False)],\n",
    "                                       ignore_index=True)"
   ]
  },
  {
   "cell_type": "code",
   "execution_count": 16,
   "metadata": {},
   "outputs": [
    {
     "data": {
      "text/html": [
       "<div>\n",
       "<style scoped>\n",
       "    .dataframe tbody tr th:only-of-type {\n",
       "        vertical-align: middle;\n",
       "    }\n",
       "\n",
       "    .dataframe tbody tr th {\n",
       "        vertical-align: top;\n",
       "    }\n",
       "\n",
       "    .dataframe thead th {\n",
       "        text-align: right;\n",
       "    }\n",
       "</style>\n",
       "<table border=\"1\" class=\"dataframe\">\n",
       "  <thead>\n",
       "    <tr style=\"text-align: right;\">\n",
       "      <th></th>\n",
       "      <th>image_path</th>\n",
       "      <th>real</th>\n",
       "      <th>fake</th>\n",
       "    </tr>\n",
       "  </thead>\n",
       "  <tbody>\n",
       "    <tr>\n",
       "      <th>0</th>\n",
       "      <td>/home/umit/xDataset/Sentinel-img/valid-real/va...</td>\n",
       "      <td>1.0</td>\n",
       "      <td>0.0</td>\n",
       "    </tr>\n",
       "    <tr>\n",
       "      <th>1</th>\n",
       "      <td>/home/umit/xDataset/Sentinel-img/valid-real/va...</td>\n",
       "      <td>1.0</td>\n",
       "      <td>0.0</td>\n",
       "    </tr>\n",
       "    <tr>\n",
       "      <th>2</th>\n",
       "      <td>/home/umit/xDataset/Sentinel-img/valid-real/va...</td>\n",
       "      <td>1.0</td>\n",
       "      <td>0.0</td>\n",
       "    </tr>\n",
       "    <tr>\n",
       "      <th>3</th>\n",
       "      <td>/home/umit/xDataset/Sentinel-img/valid-real/va...</td>\n",
       "      <td>1.0</td>\n",
       "      <td>0.0</td>\n",
       "    </tr>\n",
       "    <tr>\n",
       "      <th>4</th>\n",
       "      <td>/home/umit/xDataset/Sentinel-img/valid-real/va...</td>\n",
       "      <td>1.0</td>\n",
       "      <td>0.0</td>\n",
       "    </tr>\n",
       "  </tbody>\n",
       "</table>\n",
       "</div>"
      ],
      "text/plain": [
       "                                          image_path  real  fake\n",
       "0  /home/umit/xDataset/Sentinel-img/valid-real/va...   1.0   0.0\n",
       "1  /home/umit/xDataset/Sentinel-img/valid-real/va...   1.0   0.0\n",
       "2  /home/umit/xDataset/Sentinel-img/valid-real/va...   1.0   0.0\n",
       "3  /home/umit/xDataset/Sentinel-img/valid-real/va...   1.0   0.0\n",
       "4  /home/umit/xDataset/Sentinel-img/valid-real/va...   1.0   0.0"
      ]
     },
     "execution_count": 16,
     "metadata": {},
     "output_type": "execute_result"
    }
   ],
   "source": [
    "valid_data = pd.concat([valid_balance_real_full, valid_balance_fake_full],ignore_index=True)\n",
    "valid_data.head()"
   ]
  },
  {
   "cell_type": "markdown",
   "metadata": {},
   "source": [
    "## HYPERPARAMETER"
   ]
  },
  {
   "cell_type": "code",
   "execution_count": 56,
   "metadata": {},
   "outputs": [
    {
     "name": "stdout",
     "output_type": "stream",
     "text": [
      "240\n"
     ]
    }
   ],
   "source": [
    "BATCH_SIZE = 64\n",
    "NUM_EPOCHS = 30\n",
    "LEARNING_RATE = 8e-4\n",
    "\n",
    "TRAIN_START = True\n",
    "TRAIN_SIZE = train_data['image_path'].shape[0]\n",
    "VALID_SIZE = valid_data['image_path'].shape[0]\n",
    "MODEL_NAME = 'efficientnet-b1'\n",
    "#MODEL_NAME = 'efficientnet-b5'\n",
    "\n",
    "IMAGE_SIZE = EfficientNet.get_image_size(MODEL_NAME)\n",
    "print(IMAGE_SIZE)\n",
    "\n",
    "device = 'cuda:0'\n",
    "\n",
    "START_EPOCH = 0\n",
    "RESUME_EPOCH = 0 # LOAD EPOCH - CONTINUE +1\n",
    "LOAD_MODEL_CHECKPOINT = False\n",
    "LOAD_MODEL_CHECKPOINT_PATH = './checkpoint/epoch-%d.pth' %RESUME_EPOCH\n",
    "\n",
    "TEST_BATCH_SIZE = 100\n",
    "LOAD_MODEL_DEPLOY_NUMBER = 22\n",
    "LOAD_MODEL_DEPLOY = True  \n",
    "LOAD_MODEL_DEPLOY_PATH = './checkpoint/deploy-%d' %LOAD_MODEL_DEPLOY_NUMBER"
   ]
  },
  {
   "cell_type": "markdown",
   "metadata": {},
   "source": [
    "## MODEL"
   ]
  },
  {
   "cell_type": "code",
   "execution_count": 18,
   "metadata": {},
   "outputs": [],
   "source": [
    "class DeepFakeTrainDataset(Dataset):\n",
    "    \n",
    "    def __init__(self, image_paths, labels):\n",
    "        \n",
    "        self.paths = image_paths\n",
    "        self.labels = labels\n",
    "        \n",
    "        self.transform = Compose([\n",
    "            HorizontalFlip(p=0.5),\n",
    "            RandomResizedCrop(IMAGE_SIZE, IMAGE_SIZE, scale=(0.5, 1), p=0.5),\n",
    "            Resize(IMAGE_SIZE, IMAGE_SIZE, always_apply=True),\n",
    "            Normalize((0.485, 0.456, 0.406), (0.229, 0.224, 0.225), always_apply=True),\n",
    "            ToTensor()]) #normalized for pretrained network\n",
    "                                              \n",
    "    def __len__(self):\n",
    "        return self.paths.shape[0]\n",
    "    \n",
    "    def __getitem__(self, i): \n",
    "        \n",
    "        image_bgr = cv2.imread(self.paths[i])\n",
    "        image = cv2.cvtColor(image_bgr, cv2.COLOR_BGR2RGB)\n",
    "        image = self.transform(image = image)['image']\n",
    "        \n",
    "        label = torch.tensor(np.argmax(self.labels.loc[i,:].values))\n",
    "         \n",
    "        return image, label"
   ]
  },
  {
   "cell_type": "code",
   "execution_count": 19,
   "metadata": {},
   "outputs": [],
   "source": [
    "class DeepFakeValidDataset(Dataset):\n",
    "    \n",
    "    def __init__(self, image_paths, labels):\n",
    "        \n",
    "        self.paths = image_paths\n",
    "        self.labels = labels\n",
    "        \n",
    "        self.transform = Compose([\n",
    "            Resize(IMAGE_SIZE,IMAGE_SIZE, always_apply=True),\n",
    "            Normalize((0.485, 0.456, 0.406), (0.229, 0.224, 0.225), always_apply=True),\n",
    "            ToTensor()]) #normalized for pretrained network \n",
    "        \n",
    "    def __len__(self):\n",
    "        return self.paths.shape[0]\n",
    "    \n",
    "    def __getitem__(self, i): \n",
    "        \n",
    "        image_bgr = cv2.imread(self.paths[i])\n",
    "        image = cv2.cvtColor(image_bgr, cv2.COLOR_BGR2RGB)\n",
    "        image = self.transform(image = image)['image']\n",
    "        \n",
    "        label = torch.tensor(np.argmax(self.labels.loc[i,:].values))\n",
    "        \n",
    "        return image, label"
   ]
  },
  {
   "cell_type": "code",
   "execution_count": 20,
   "metadata": {},
   "outputs": [],
   "source": [
    "def train_fn(net, loader):\n",
    "    \n",
    "    running_loss = 0\n",
    "    preds_for_acc = []\n",
    "    labels_for_acc = []\n",
    "    \n",
    "    step_loss = []\n",
    "    step_accuracy = []\n",
    "    \n",
    "    imgNum = 0\n",
    "    \n",
    "    pbar = tqdm(total = len(loader), desc='Training')\n",
    "\n",
    "    for i, (images, labels) in enumerate(loader):\n",
    "        \n",
    "        images, labels = images.to(device), labels.to(device)\n",
    "        net.train()\n",
    "        optimizer.zero_grad()\n",
    "        # forward\n",
    "        predictions = net(images)\n",
    "        # loss\n",
    "        loss = loss_fn(predictions, labels)\n",
    "        # backpropagation\n",
    "        loss.backward()\n",
    "        optimizer.step()\n",
    "        scheduler.step()\n",
    "        \n",
    "        #from IPython.core.debugger import Tracer; Tracer()() \n",
    "        \n",
    "        running_loss += loss.item()*labels.shape[0]\n",
    "        imgNum = imgNum + labels.shape[0]\n",
    "        \n",
    "        labels_for_acc = np.concatenate((labels_for_acc, labels.cpu().numpy()), 0)\n",
    "        preds_for_acc = np.concatenate((preds_for_acc, np.argmax(predictions.cpu().detach().numpy(), 1)), 0)\n",
    "            \n",
    "        pbar.update()\n",
    "        \n",
    "    accuracy = accuracy_score(labels_for_acc, preds_for_acc)\n",
    "    \n",
    "    pbar.close()\n",
    "    return running_loss/TRAIN_SIZE, accuracy\n",
    "\n",
    "def valid_fn(net, loader):\n",
    "    \n",
    "    running_loss = 0\n",
    "    preds_for_acc = []\n",
    "    labels_for_acc = []\n",
    "    \n",
    "    pbar = tqdm(total = len(loader), desc='Validation')\n",
    "    \n",
    "    with torch.no_grad():\n",
    "        \n",
    "        for _, (images, labels) in enumerate(loader):\n",
    "            \n",
    "            images, labels = images.to(device), labels.to(device)\n",
    "            net.eval()\n",
    "            \n",
    "            predictions = net(images)\n",
    "            loss = loss_fn(predictions, labels)\n",
    "            \n",
    "            running_loss += loss.item()*labels.shape[0]\n",
    "            labels_for_acc = np.concatenate((labels_for_acc, labels.cpu().numpy()), 0)\n",
    "            preds_for_acc = np.concatenate((preds_for_acc, np.argmax(predictions.cpu().detach().numpy(), 1)), 0)\n",
    "            \n",
    "            pbar.update()\n",
    "            \n",
    "        accuracy = accuracy_score(labels_for_acc, preds_for_acc)\n",
    "        conf_mat = confusion_matrix(labels_for_acc, preds_for_acc)\n",
    "    \n",
    "    pbar.close()\n",
    "    return running_loss/VALID_SIZE, accuracy, conf_mat"
   ]
  },
  {
   "cell_type": "code",
   "execution_count": 21,
   "metadata": {},
   "outputs": [],
   "source": [
    "train_dataset = DeepFakeTrainDataset(train_data['image_path'], train_data.loc[:, ['real','fake']])\n",
    "trainloader = DataLoader(train_dataset, shuffle=True, batch_size = BATCH_SIZE, num_workers = 2)\n",
    "\n",
    "valid_dataset = DeepFakeValidDataset(valid_data['image_path'], valid_data.loc[:, ['real','fake']])\n",
    "validloader = DataLoader(valid_dataset, shuffle=False, batch_size = TEST_BATCH_SIZE, num_workers = 2)"
   ]
  },
  {
   "cell_type": "code",
   "execution_count": 22,
   "metadata": {},
   "outputs": [
    {
     "name": "stdout",
     "output_type": "stream",
     "text": [
      "Loaded pretrained weights for efficientnet-b1\n"
     ]
    }
   ],
   "source": [
    "model = EfficientNet.from_pretrained(MODEL_NAME) \n",
    "num_ftrs = model._fc.in_features\n",
    "model._fc = nn.Sequential(nn.Linear(num_ftrs,1000,bias=True),\n",
    "                          nn.ReLU(),\n",
    "                          nn.Dropout(p=0.5),\n",
    "                          nn.Linear(1000,2, bias = True))\n",
    "\n",
    "# summary(model, input_size=(3, 224, 224))\n",
    "model.to(device)\n",
    "optimizer = AdamW(model.parameters(), lr = LEARNING_RATE, weight_decay = 1e-3)\n",
    "num_train_steps = int(len(train_dataset) / BATCH_SIZE * NUM_EPOCHS)\n",
    "scheduler = get_cosine_schedule_with_warmup(optimizer, num_warmup_steps=len(train_dataset)/BATCH_SIZE*5, num_training_steps=num_train_steps)\n",
    "loss_fn = torch.nn.CrossEntropyLoss()\n",
    "# loss_fn = torch.nn.BCELoss() # No Sigmoid\n",
    "# loss_fn = torch.nn.BCEWithLogitsLoss() #  Sigmoid +  torch.nn.BCELoss()"
   ]
  },
  {
   "cell_type": "code",
   "execution_count": 23,
   "metadata": {},
   "outputs": [
    {
     "name": "stdout",
     "output_type": "stream",
     "text": [
      "START_EPOCH = 0\n"
     ]
    },
    {
     "data": {
      "application/vnd.jupyter.widget-view+json": {
       "model_id": "07e011ef40a543a6b26577c54f48536a",
       "version_major": 2,
       "version_minor": 0
      },
      "text/plain": [
       "HBox(children=(FloatProgress(value=0.0, description='Training', max=382.0, style=ProgressStyle(description_wid…"
      ]
     },
     "metadata": {},
     "output_type": "display_data"
    },
    {
     "name": "stdout",
     "output_type": "stream",
     "text": [
      "\n"
     ]
    },
    {
     "data": {
      "application/vnd.jupyter.widget-view+json": {
       "model_id": "5a742613fb9941f0b27a4f6183b899ae",
       "version_major": 2,
       "version_minor": 0
      },
      "text/plain": [
       "HBox(children=(FloatProgress(value=0.0, description='Validation', max=32.0, style=ProgressStyle(description_wi…"
      ]
     },
     "metadata": {},
     "output_type": "display_data"
    },
    {
     "name": "stdout",
     "output_type": "stream",
     "text": [
      "\n",
      "Epoch: 1, Train loss: 0.3811327566929721, Val loss: 0.7746907274938145, Train acc: 0.8070771118838208, Val acc: 0.7283989834815756\n"
     ]
    },
    {
     "data": {
      "application/vnd.jupyter.widget-view+json": {
       "model_id": "baa5a58ade80495ba65a43e2d3f5f6bb",
       "version_major": 2,
       "version_minor": 0
      },
      "text/plain": [
       "HBox(children=(FloatProgress(value=0.0, description='Training', max=382.0, style=ProgressStyle(description_wid…"
      ]
     },
     "metadata": {},
     "output_type": "display_data"
    },
    {
     "name": "stdout",
     "output_type": "stream",
     "text": [
      "\n"
     ]
    },
    {
     "data": {
      "application/vnd.jupyter.widget-view+json": {
       "model_id": "b3d6c5f9fc5c48a2bc176f2222aea6ce",
       "version_major": 2,
       "version_minor": 0
      },
      "text/plain": [
       "HBox(children=(FloatProgress(value=0.0, description='Validation', max=32.0, style=ProgressStyle(description_wi…"
      ]
     },
     "metadata": {},
     "output_type": "display_data"
    },
    {
     "name": "stdout",
     "output_type": "stream",
     "text": [
      "\n",
      "Epoch: 2, Train loss: 0.11352880060837346, Val loss: 0.4998901409334876, Train acc: 0.956719165473512, Val acc: 0.8065438373570522\n"
     ]
    },
    {
     "data": {
      "application/vnd.jupyter.widget-view+json": {
       "model_id": "b9d940ab95a5443595127f04a39277de",
       "version_major": 2,
       "version_minor": 0
      },
      "text/plain": [
       "HBox(children=(FloatProgress(value=0.0, description='Training', max=382.0, style=ProgressStyle(description_wid…"
      ]
     },
     "metadata": {},
     "output_type": "display_data"
    },
    {
     "name": "stdout",
     "output_type": "stream",
     "text": [
      "\n"
     ]
    },
    {
     "data": {
      "application/vnd.jupyter.widget-view+json": {
       "model_id": "43072ee20b064c89a3a91a4c0e24dd0e",
       "version_major": 2,
       "version_minor": 0
      },
      "text/plain": [
       "HBox(children=(FloatProgress(value=0.0, description='Validation', max=32.0, style=ProgressStyle(description_wi…"
      ]
     },
     "metadata": {},
     "output_type": "display_data"
    },
    {
     "name": "stdout",
     "output_type": "stream",
     "text": [
      "\n",
      "Epoch: 3, Train loss: 0.07380962475088872, Val loss: 0.859276528203957, Train acc: 0.9721006340764983, Val acc: 0.7989199491740788\n"
     ]
    },
    {
     "data": {
      "application/vnd.jupyter.widget-view+json": {
       "model_id": "ec6aff5150704157a3a86eff2d7383e9",
       "version_major": 2,
       "version_minor": 0
      },
      "text/plain": [
       "HBox(children=(FloatProgress(value=0.0, description='Training', max=382.0, style=ProgressStyle(description_wid…"
      ]
     },
     "metadata": {},
     "output_type": "display_data"
    },
    {
     "name": "stdout",
     "output_type": "stream",
     "text": [
      "\n"
     ]
    },
    {
     "data": {
      "application/vnd.jupyter.widget-view+json": {
       "model_id": "c84c11b37eec40079e39ce2e01c2a624",
       "version_major": 2,
       "version_minor": 0
      },
      "text/plain": [
       "HBox(children=(FloatProgress(value=0.0, description='Validation', max=32.0, style=ProgressStyle(description_wi…"
      ]
     },
     "metadata": {},
     "output_type": "display_data"
    },
    {
     "name": "stdout",
     "output_type": "stream",
     "text": [
      "\n",
      "Epoch: 4, Train loss: 0.06793981145516474, Val loss: 0.8702285739260677, Train acc: 0.9759460012272448, Val acc: 0.7220457433290979\n"
     ]
    },
    {
     "data": {
      "application/vnd.jupyter.widget-view+json": {
       "model_id": "13b83c2253aa4ea28363ca1721d1149f",
       "version_major": 2,
       "version_minor": 0
      },
      "text/plain": [
       "HBox(children=(FloatProgress(value=0.0, description='Training', max=382.0, style=ProgressStyle(description_wid…"
      ]
     },
     "metadata": {},
     "output_type": "display_data"
    },
    {
     "name": "stdout",
     "output_type": "stream",
     "text": [
      "\n"
     ]
    },
    {
     "data": {
      "application/vnd.jupyter.widget-view+json": {
       "model_id": "91c27db1d17a41be903599de80b4862a",
       "version_major": 2,
       "version_minor": 0
      },
      "text/plain": [
       "HBox(children=(FloatProgress(value=0.0, description='Validation', max=32.0, style=ProgressStyle(description_wi…"
      ]
     },
     "metadata": {},
     "output_type": "display_data"
    },
    {
     "name": "stdout",
     "output_type": "stream",
     "text": [
      "\n",
      "Epoch: 5, Train loss: 0.06413534974260646, Val loss: 0.5380383259232193, Train acc: 0.9768050726119861, Val acc: 0.8398983481575604\n"
     ]
    },
    {
     "data": {
      "application/vnd.jupyter.widget-view+json": {
       "model_id": "fd511d3e4a5b475fa4b6f2367b271be3",
       "version_major": 2,
       "version_minor": 0
      },
      "text/plain": [
       "HBox(children=(FloatProgress(value=0.0, description='Training', max=382.0, style=ProgressStyle(description_wid…"
      ]
     },
     "metadata": {},
     "output_type": "display_data"
    },
    {
     "name": "stdout",
     "output_type": "stream",
     "text": [
      "\n"
     ]
    },
    {
     "data": {
      "application/vnd.jupyter.widget-view+json": {
       "model_id": "762f6e06e6444aa5b37e322c8c9a389a",
       "version_major": 2,
       "version_minor": 0
      },
      "text/plain": [
       "HBox(children=(FloatProgress(value=0.0, description='Validation', max=32.0, style=ProgressStyle(description_wi…"
      ]
     },
     "metadata": {},
     "output_type": "display_data"
    },
    {
     "name": "stdout",
     "output_type": "stream",
     "text": [
      "\n",
      "Epoch: 6, Train loss: 0.0610661769610018, Val loss: 0.8398282876500938, Train acc: 0.9785232153814686, Val acc: 0.7445997458703939\n"
     ]
    },
    {
     "data": {
      "application/vnd.jupyter.widget-view+json": {
       "model_id": "94161434e2854a389a851220a3917ea8",
       "version_major": 2,
       "version_minor": 0
      },
      "text/plain": [
       "HBox(children=(FloatProgress(value=0.0, description='Training', max=382.0, style=ProgressStyle(description_wid…"
      ]
     },
     "metadata": {},
     "output_type": "display_data"
    },
    {
     "name": "stdout",
     "output_type": "stream",
     "text": [
      "\n"
     ]
    },
    {
     "data": {
      "application/vnd.jupyter.widget-view+json": {
       "model_id": "04648c9da9f640f7b15d974cdfc3af86",
       "version_major": 2,
       "version_minor": 0
      },
      "text/plain": [
       "HBox(children=(FloatProgress(value=0.0, description='Validation', max=32.0, style=ProgressStyle(description_wi…"
      ]
     },
     "metadata": {},
     "output_type": "display_data"
    },
    {
     "name": "stdout",
     "output_type": "stream",
     "text": [
      "\n",
      "Epoch: 7, Train loss: 0.052118456692888795, Val loss: 0.6615087314966824, Train acc: 0.9832276539169564, Val acc: 0.8354510800508259\n"
     ]
    },
    {
     "data": {
      "application/vnd.jupyter.widget-view+json": {
       "model_id": "cedfa928c2c84cc084770460b225c33a",
       "version_major": 2,
       "version_minor": 0
      },
      "text/plain": [
       "HBox(children=(FloatProgress(value=0.0, description='Training', max=382.0, style=ProgressStyle(description_wid…"
      ]
     },
     "metadata": {},
     "output_type": "display_data"
    },
    {
     "name": "stdout",
     "output_type": "stream",
     "text": [
      "\n"
     ]
    },
    {
     "data": {
      "application/vnd.jupyter.widget-view+json": {
       "model_id": "fa64d36bbb924963b898953ff8477067",
       "version_major": 2,
       "version_minor": 0
      },
      "text/plain": [
       "HBox(children=(FloatProgress(value=0.0, description='Validation', max=32.0, style=ProgressStyle(description_wi…"
      ]
     },
     "metadata": {},
     "output_type": "display_data"
    },
    {
     "name": "stdout",
     "output_type": "stream",
     "text": [
      "\n",
      "Epoch: 8, Train loss: 0.046269645786499974, Val loss: 0.8796627214497956, Train acc: 0.9843730824299448, Val acc: 0.8538754764930114\n"
     ]
    },
    {
     "data": {
      "application/vnd.jupyter.widget-view+json": {
       "model_id": "35d2d79a189d41e9b6f185a07a7e2eb0",
       "version_major": 2,
       "version_minor": 0
      },
      "text/plain": [
       "HBox(children=(FloatProgress(value=0.0, description='Training', max=382.0, style=ProgressStyle(description_wid…"
      ]
     },
     "metadata": {},
     "output_type": "display_data"
    },
    {
     "name": "stdout",
     "output_type": "stream",
     "text": [
      "\n"
     ]
    },
    {
     "data": {
      "application/vnd.jupyter.widget-view+json": {
       "model_id": "d4a7120c0d4a4c4d9a4b26ec4861a537",
       "version_major": 2,
       "version_minor": 0
      },
      "text/plain": [
       "HBox(children=(FloatProgress(value=0.0, description='Validation', max=32.0, style=ProgressStyle(description_wi…"
      ]
     },
     "metadata": {},
     "output_type": "display_data"
    },
    {
     "name": "stdout",
     "output_type": "stream",
     "text": [
      "\n",
      "Epoch: 9, Train loss: 0.03477303524749073, Val loss: 0.738534108751005, Train acc: 0.9883411740642258, Val acc: 0.8580050825921219\n"
     ]
    },
    {
     "data": {
      "application/vnd.jupyter.widget-view+json": {
       "model_id": "775c6960c009464190364e4d3796705a",
       "version_major": 2,
       "version_minor": 0
      },
      "text/plain": [
       "HBox(children=(FloatProgress(value=0.0, description='Training', max=382.0, style=ProgressStyle(description_wid…"
      ]
     },
     "metadata": {},
     "output_type": "display_data"
    },
    {
     "name": "stdout",
     "output_type": "stream",
     "text": [
      "\n"
     ]
    },
    {
     "data": {
      "application/vnd.jupyter.widget-view+json": {
       "model_id": "d13f8ad75f4b45a099d2c952dad4e211",
       "version_major": 2,
       "version_minor": 0
      },
      "text/plain": [
       "HBox(children=(FloatProgress(value=0.0, description='Validation', max=32.0, style=ProgressStyle(description_wi…"
      ]
     },
     "metadata": {},
     "output_type": "display_data"
    },
    {
     "name": "stdout",
     "output_type": "stream",
     "text": [
      "\n",
      "Epoch: 10, Train loss: 0.03054268676630458, Val loss: 0.8684266176751638, Train acc: 0.9889957046430763, Val acc: 0.8341804320203303\n"
     ]
    },
    {
     "data": {
      "application/vnd.jupyter.widget-view+json": {
       "model_id": "bda2f274b1794e21991bf10cc8a2cdcd",
       "version_major": 2,
       "version_minor": 0
      },
      "text/plain": [
       "HBox(children=(FloatProgress(value=0.0, description='Training', max=382.0, style=ProgressStyle(description_wid…"
      ]
     },
     "metadata": {},
     "output_type": "display_data"
    },
    {
     "name": "stdout",
     "output_type": "stream",
     "text": [
      "\n"
     ]
    },
    {
     "data": {
      "application/vnd.jupyter.widget-view+json": {
       "model_id": "898adb39e01f47268cdbc32a1b3ae458",
       "version_major": 2,
       "version_minor": 0
      },
      "text/plain": [
       "HBox(children=(FloatProgress(value=0.0, description='Validation', max=32.0, style=ProgressStyle(description_wi…"
      ]
     },
     "metadata": {},
     "output_type": "display_data"
    },
    {
     "name": "stdout",
     "output_type": "stream",
     "text": [
      "\n",
      "Epoch: 11, Train loss: 0.028514240226388515, Val loss: 0.5167707313311297, Train acc: 0.9907138474125589, Val acc: 0.8535578144853876\n"
     ]
    },
    {
     "data": {
      "application/vnd.jupyter.widget-view+json": {
       "model_id": "81bb846706d2492888503c7c97101ad2",
       "version_major": 2,
       "version_minor": 0
      },
      "text/plain": [
       "HBox(children=(FloatProgress(value=0.0, description='Training', max=382.0, style=ProgressStyle(description_wid…"
      ]
     },
     "metadata": {},
     "output_type": "display_data"
    },
    {
     "name": "stdout",
     "output_type": "stream",
     "text": [
      "\n"
     ]
    },
    {
     "data": {
      "application/vnd.jupyter.widget-view+json": {
       "model_id": "bddfb1f929814663b182cace793baa5a",
       "version_major": 2,
       "version_minor": 0
      },
      "text/plain": [
       "HBox(children=(FloatProgress(value=0.0, description='Validation', max=32.0, style=ProgressStyle(description_wi…"
      ]
     },
     "metadata": {},
     "output_type": "display_data"
    },
    {
     "name": "stdout",
     "output_type": "stream",
     "text": [
      "\n",
      "Epoch: 12, Train loss: 0.024752565430190377, Val loss: 0.8786280273993557, Train acc: 0.992104724892616, Val acc: 0.8202033036848793\n"
     ]
    },
    {
     "data": {
      "application/vnd.jupyter.widget-view+json": {
       "model_id": "1fd6262d99f0402280b2f4c8a70e3845",
       "version_major": 2,
       "version_minor": 0
      },
      "text/plain": [
       "HBox(children=(FloatProgress(value=0.0, description='Training', max=382.0, style=ProgressStyle(description_wid…"
      ]
     },
     "metadata": {},
     "output_type": "display_data"
    },
    {
     "name": "stdout",
     "output_type": "stream",
     "text": [
      "\n"
     ]
    },
    {
     "data": {
      "application/vnd.jupyter.widget-view+json": {
       "model_id": "fa7f1467d24e4d89a40dc18648bbec9b",
       "version_major": 2,
       "version_minor": 0
      },
      "text/plain": [
       "HBox(children=(FloatProgress(value=0.0, description='Validation', max=32.0, style=ProgressStyle(description_wi…"
      ]
     },
     "metadata": {},
     "output_type": "display_data"
    },
    {
     "name": "stdout",
     "output_type": "stream",
     "text": [
      "\n",
      "Epoch: 13, Train loss: 0.02357805971980878, Val loss: 0.6921058313961329, Train acc: 0.992350173859685, Val acc: 0.8815120711562897\n"
     ]
    },
    {
     "data": {
      "application/vnd.jupyter.widget-view+json": {
       "model_id": "7211ac491e7b42adbf9ec1bdea509b7a",
       "version_major": 2,
       "version_minor": 0
      },
      "text/plain": [
       "HBox(children=(FloatProgress(value=0.0, description='Training', max=382.0, style=ProgressStyle(description_wid…"
      ]
     },
     "metadata": {},
     "output_type": "display_data"
    },
    {
     "name": "stdout",
     "output_type": "stream",
     "text": [
      "\n"
     ]
    },
    {
     "data": {
      "application/vnd.jupyter.widget-view+json": {
       "model_id": "54dbf1d396dd49c98de746208bc8cb73",
       "version_major": 2,
       "version_minor": 0
      },
      "text/plain": [
       "HBox(children=(FloatProgress(value=0.0, description='Validation', max=32.0, style=ProgressStyle(description_wi…"
      ]
     },
     "metadata": {},
     "output_type": "display_data"
    },
    {
     "name": "stdout",
     "output_type": "stream",
     "text": [
      "\n",
      "Epoch: 14, Train loss: 0.02255199722340683, Val loss: 0.5868956000370174, Train acc: 0.992350173859685, Val acc: 0.829733163913596\n"
     ]
    },
    {
     "data": {
      "application/vnd.jupyter.widget-view+json": {
       "model_id": "42f9a1efc8e9453fb1765bdc50c74ee6",
       "version_major": 2,
       "version_minor": 0
      },
      "text/plain": [
       "HBox(children=(FloatProgress(value=0.0, description='Training', max=382.0, style=ProgressStyle(description_wid…"
      ]
     },
     "metadata": {},
     "output_type": "display_data"
    },
    {
     "name": "stdout",
     "output_type": "stream",
     "text": [
      "\n"
     ]
    },
    {
     "data": {
      "application/vnd.jupyter.widget-view+json": {
       "model_id": "b41b56eb224e4e389dbdbbf089891bf3",
       "version_major": 2,
       "version_minor": 0
      },
      "text/plain": [
       "HBox(children=(FloatProgress(value=0.0, description='Validation', max=32.0, style=ProgressStyle(description_wi…"
      ]
     },
     "metadata": {},
     "output_type": "display_data"
    },
    {
     "name": "stdout",
     "output_type": "stream",
     "text": [
      "\n",
      "Epoch: 15, Train loss: 0.014429751135931592, Val loss: 0.7015155510079906, Train acc: 0.9950910206586214, Val acc: 0.8602287166454892\n"
     ]
    },
    {
     "data": {
      "application/vnd.jupyter.widget-view+json": {
       "model_id": "e27bcead8e2647ad8ba0890753831a9f",
       "version_major": 2,
       "version_minor": 0
      },
      "text/plain": [
       "HBox(children=(FloatProgress(value=0.0, description='Training', max=382.0, style=ProgressStyle(description_wid…"
      ]
     },
     "metadata": {},
     "output_type": "display_data"
    },
    {
     "name": "stdout",
     "output_type": "stream",
     "text": [
      "\n"
     ]
    },
    {
     "data": {
      "application/vnd.jupyter.widget-view+json": {
       "model_id": "366fd1d82cc54ddd9d29bbdcd1e4c060",
       "version_major": 2,
       "version_minor": 0
      },
      "text/plain": [
       "HBox(children=(FloatProgress(value=0.0, description='Validation', max=32.0, style=ProgressStyle(description_wi…"
      ]
     },
     "metadata": {},
     "output_type": "display_data"
    },
    {
     "name": "stdout",
     "output_type": "stream",
     "text": [
      "\n",
      "Epoch: 16, Train loss: 0.013862749719138869, Val loss: 1.174034896561121, Train acc: 0.9951319288197995, Val acc: 0.8618170266836086\n"
     ]
    },
    {
     "data": {
      "application/vnd.jupyter.widget-view+json": {
       "model_id": "c32bda017d9348789d664095bd133584",
       "version_major": 2,
       "version_minor": 0
      },
      "text/plain": [
       "HBox(children=(FloatProgress(value=0.0, description='Training', max=382.0, style=ProgressStyle(description_wid…"
      ]
     },
     "metadata": {},
     "output_type": "display_data"
    },
    {
     "name": "stdout",
     "output_type": "stream",
     "text": [
      "\n"
     ]
    },
    {
     "data": {
      "application/vnd.jupyter.widget-view+json": {
       "model_id": "1c9146d01e4d44b49cc23f663bf6637f",
       "version_major": 2,
       "version_minor": 0
      },
      "text/plain": [
       "HBox(children=(FloatProgress(value=0.0, description='Validation', max=32.0, style=ProgressStyle(description_wi…"
      ]
     },
     "metadata": {},
     "output_type": "display_data"
    },
    {
     "name": "stdout",
     "output_type": "stream",
     "text": [
      "\n",
      "Epoch: 17, Train loss: 0.012194000847758046, Val loss: 0.8827047601171794, Train acc: 0.9963182654939661, Val acc: 0.883418043202033\n"
     ]
    },
    {
     "data": {
      "application/vnd.jupyter.widget-view+json": {
       "model_id": "a201aafb1b4c4683997b7c47e701a536",
       "version_major": 2,
       "version_minor": 0
      },
      "text/plain": [
       "HBox(children=(FloatProgress(value=0.0, description='Training', max=382.0, style=ProgressStyle(description_wid…"
      ]
     },
     "metadata": {},
     "output_type": "display_data"
    },
    {
     "name": "stdout",
     "output_type": "stream",
     "text": [
      "\n"
     ]
    },
    {
     "data": {
      "application/vnd.jupyter.widget-view+json": {
       "model_id": "56c346ac58614dfc823c0cffe61a3eec",
       "version_major": 2,
       "version_minor": 0
      },
      "text/plain": [
       "HBox(children=(FloatProgress(value=0.0, description='Validation', max=32.0, style=ProgressStyle(description_wi…"
      ]
     },
     "metadata": {},
     "output_type": "display_data"
    },
    {
     "name": "stdout",
     "output_type": "stream",
     "text": [
      "\n",
      "Epoch: 18, Train loss: 0.009316617917017255, Val loss: 0.666623037029176, Train acc: 0.9964818981386787, Val acc: 0.886277001270648\n"
     ]
    },
    {
     "data": {
      "application/vnd.jupyter.widget-view+json": {
       "model_id": "33674440bb4441d7810c572c193e526b",
       "version_major": 2,
       "version_minor": 0
      },
      "text/plain": [
       "HBox(children=(FloatProgress(value=0.0, description='Training', max=382.0, style=ProgressStyle(description_wid…"
      ]
     },
     "metadata": {},
     "output_type": "display_data"
    },
    {
     "name": "stdout",
     "output_type": "stream",
     "text": [
      "\n"
     ]
    },
    {
     "data": {
      "application/vnd.jupyter.widget-view+json": {
       "model_id": "fe4461a9fcf14ea0ac7c88a9896f0da9",
       "version_major": 2,
       "version_minor": 0
      },
      "text/plain": [
       "HBox(children=(FloatProgress(value=0.0, description='Validation', max=32.0, style=ProgressStyle(description_wi…"
      ]
     },
     "metadata": {},
     "output_type": "display_data"
    },
    {
     "name": "stdout",
     "output_type": "stream",
     "text": [
      "\n",
      "Epoch: 19, Train loss: 0.008100764111194345, Val loss: 0.8577922893998129, Train acc: 0.9972182450398854, Val acc: 0.8767471410419314\n"
     ]
    },
    {
     "data": {
      "application/vnd.jupyter.widget-view+json": {
       "model_id": "6e91cc14c15a45d3b47b506ee6dca8ab",
       "version_major": 2,
       "version_minor": 0
      },
      "text/plain": [
       "HBox(children=(FloatProgress(value=0.0, description='Training', max=382.0, style=ProgressStyle(description_wid…"
      ]
     },
     "metadata": {},
     "output_type": "display_data"
    },
    {
     "name": "stdout",
     "output_type": "stream",
     "text": [
      "\n"
     ]
    },
    {
     "data": {
      "application/vnd.jupyter.widget-view+json": {
       "model_id": "262f946f853f4a47b250633942ab53a8",
       "version_major": 2,
       "version_minor": 0
      },
      "text/plain": [
       "HBox(children=(FloatProgress(value=0.0, description='Validation', max=32.0, style=ProgressStyle(description_wi…"
      ]
     },
     "metadata": {},
     "output_type": "display_data"
    },
    {
     "name": "stdout",
     "output_type": "stream",
     "text": [
      "\n",
      "Epoch: 20, Train loss: 0.0062502954800860485, Val loss: 0.6373242504771661, Train acc: 0.997627326651667, Val acc: 0.8923125794155019\n"
     ]
    },
    {
     "data": {
      "application/vnd.jupyter.widget-view+json": {
       "model_id": "164331a9cfc9482cb357ad6ea6e14f35",
       "version_major": 2,
       "version_minor": 0
      },
      "text/plain": [
       "HBox(children=(FloatProgress(value=0.0, description='Training', max=382.0, style=ProgressStyle(description_wid…"
      ]
     },
     "metadata": {},
     "output_type": "display_data"
    },
    {
     "name": "stdout",
     "output_type": "stream",
     "text": [
      "\n"
     ]
    },
    {
     "data": {
      "application/vnd.jupyter.widget-view+json": {
       "model_id": "aac9ff78a36149c980acbeed7bd431fa",
       "version_major": 2,
       "version_minor": 0
      },
      "text/plain": [
       "HBox(children=(FloatProgress(value=0.0, description='Validation', max=32.0, style=ProgressStyle(description_wi…"
      ]
     },
     "metadata": {},
     "output_type": "display_data"
    },
    {
     "name": "stdout",
     "output_type": "stream",
     "text": [
      "\n",
      "Epoch: 21, Train loss: 0.004995803918145535, Val loss: 0.5517983364729445, Train acc: 0.9983636735528738, Val acc: 0.8913595933926303\n"
     ]
    },
    {
     "data": {
      "application/vnd.jupyter.widget-view+json": {
       "model_id": "a64ec7eba404439095dbc96b305eb3b4",
       "version_major": 2,
       "version_minor": 0
      },
      "text/plain": [
       "HBox(children=(FloatProgress(value=0.0, description='Training', max=382.0, style=ProgressStyle(description_wid…"
      ]
     },
     "metadata": {},
     "output_type": "display_data"
    },
    {
     "name": "stdout",
     "output_type": "stream",
     "text": [
      "\n"
     ]
    },
    {
     "data": {
      "application/vnd.jupyter.widget-view+json": {
       "model_id": "442b2a945c6545b8813fdbdcb71f1a7a",
       "version_major": 2,
       "version_minor": 0
      },
      "text/plain": [
       "HBox(children=(FloatProgress(value=0.0, description='Validation', max=32.0, style=ProgressStyle(description_wi…"
      ]
     },
     "metadata": {},
     "output_type": "display_data"
    },
    {
     "name": "stdout",
     "output_type": "stream",
     "text": [
      "\n",
      "Epoch: 22, Train loss: 0.0035319766472041375, Val loss: 0.6136001528109385, Train acc: 0.9987727551646554, Val acc: 0.9047013977128335\n"
     ]
    },
    {
     "data": {
      "application/vnd.jupyter.widget-view+json": {
       "model_id": "1762eef508b7498dbb91b6ab2158870b",
       "version_major": 2,
       "version_minor": 0
      },
      "text/plain": [
       "HBox(children=(FloatProgress(value=0.0, description='Training', max=382.0, style=ProgressStyle(description_wid…"
      ]
     },
     "metadata": {},
     "output_type": "display_data"
    },
    {
     "name": "stdout",
     "output_type": "stream",
     "text": [
      "\n"
     ]
    },
    {
     "data": {
      "application/vnd.jupyter.widget-view+json": {
       "model_id": "50f748957aef4a669b6b3561d3c59d0d",
       "version_major": 2,
       "version_minor": 0
      },
      "text/plain": [
       "HBox(children=(FloatProgress(value=0.0, description='Validation', max=32.0, style=ProgressStyle(description_wi…"
      ]
     },
     "metadata": {},
     "output_type": "display_data"
    },
    {
     "name": "stdout",
     "output_type": "stream",
     "text": [
      "\n",
      "Epoch: 23, Train loss: 0.0027062386780261636, Val loss: 0.6953110740705851, Train acc: 0.9991409286152587, Val acc: 0.8970775095298602\n"
     ]
    },
    {
     "data": {
      "application/vnd.jupyter.widget-view+json": {
       "model_id": "3697ae459f9e498799647b82288454ca",
       "version_major": 2,
       "version_minor": 0
      },
      "text/plain": [
       "HBox(children=(FloatProgress(value=0.0, description='Training', max=382.0, style=ProgressStyle(description_wid…"
      ]
     },
     "metadata": {},
     "output_type": "display_data"
    },
    {
     "name": "stdout",
     "output_type": "stream",
     "text": [
      "\n"
     ]
    },
    {
     "data": {
      "application/vnd.jupyter.widget-view+json": {
       "model_id": "ee0b2ed652b94593bc22b17932aa654f",
       "version_major": 2,
       "version_minor": 0
      },
      "text/plain": [
       "HBox(children=(FloatProgress(value=0.0, description='Validation', max=32.0, style=ProgressStyle(description_wi…"
      ]
     },
     "metadata": {},
     "output_type": "display_data"
    },
    {
     "name": "stdout",
     "output_type": "stream",
     "text": [
      "\n",
      "Epoch: 24, Train loss: 0.0019190714851954804, Val loss: 0.8167201620082843, Train acc: 0.999468193904684, Val acc: 0.8792884371029225\n"
     ]
    },
    {
     "data": {
      "application/vnd.jupyter.widget-view+json": {
       "model_id": "6c5a2abafc5241879d269bf0f8fd27b8",
       "version_major": 2,
       "version_minor": 0
      },
      "text/plain": [
       "HBox(children=(FloatProgress(value=0.0, description='Training', max=382.0, style=ProgressStyle(description_wid…"
      ]
     },
     "metadata": {},
     "output_type": "display_data"
    },
    {
     "name": "stdout",
     "output_type": "stream",
     "text": [
      "\n"
     ]
    },
    {
     "data": {
      "application/vnd.jupyter.widget-view+json": {
       "model_id": "2ecbcc663130482ba350555c6e7fab92",
       "version_major": 2,
       "version_minor": 0
      },
      "text/plain": [
       "HBox(children=(FloatProgress(value=0.0, description='Validation', max=32.0, style=ProgressStyle(description_wi…"
      ]
     },
     "metadata": {},
     "output_type": "display_data"
    },
    {
     "name": "stdout",
     "output_type": "stream",
     "text": [
      "\n",
      "Epoch: 25, Train loss: 0.0019072221095452196, Val loss: 1.0311865672241929, Train acc: 0.9992227449376151, Val acc: 0.8691232528589581\n"
     ]
    },
    {
     "data": {
      "application/vnd.jupyter.widget-view+json": {
       "model_id": "7f958226c50e4097925db5306195e0cd",
       "version_major": 2,
       "version_minor": 0
      },
      "text/plain": [
       "HBox(children=(FloatProgress(value=0.0, description='Training', max=382.0, style=ProgressStyle(description_wid…"
      ]
     },
     "metadata": {},
     "output_type": "display_data"
    },
    {
     "name": "stdout",
     "output_type": "stream",
     "text": [
      "\n"
     ]
    },
    {
     "data": {
      "application/vnd.jupyter.widget-view+json": {
       "model_id": "e0e47cdac3d848fa8adc76cda93647d7",
       "version_major": 2,
       "version_minor": 0
      },
      "text/plain": [
       "HBox(children=(FloatProgress(value=0.0, description='Validation', max=32.0, style=ProgressStyle(description_wi…"
      ]
     },
     "metadata": {},
     "output_type": "display_data"
    },
    {
     "name": "stdout",
     "output_type": "stream",
     "text": [
      "\n",
      "Epoch: 26, Train loss: 0.0013505812119413848, Val loss: 0.9305249090854367, Train acc: 0.9995500102270403, Val acc: 0.8732528589580686\n"
     ]
    },
    {
     "data": {
      "application/vnd.jupyter.widget-view+json": {
       "model_id": "90f4702f826e4e82af6c18a279827447",
       "version_major": 2,
       "version_minor": 0
      },
      "text/plain": [
       "HBox(children=(FloatProgress(value=0.0, description='Training', max=382.0, style=ProgressStyle(description_wid…"
      ]
     },
     "metadata": {},
     "output_type": "display_data"
    },
    {
     "name": "stdout",
     "output_type": "stream",
     "text": [
      "\n"
     ]
    },
    {
     "data": {
      "application/vnd.jupyter.widget-view+json": {
       "model_id": "16befd11c25446c3876eaf3459b1943f",
       "version_major": 2,
       "version_minor": 0
      },
      "text/plain": [
       "HBox(children=(FloatProgress(value=0.0, description='Validation', max=32.0, style=ProgressStyle(description_wi…"
      ]
     },
     "metadata": {},
     "output_type": "display_data"
    },
    {
     "name": "stdout",
     "output_type": "stream",
     "text": [
      "\n",
      "Epoch: 27, Train loss: 0.0009068420326304263, Val loss: 0.9862059527650722, Train acc: 0.9997136428717529, Val acc: 0.877700127064803\n"
     ]
    },
    {
     "data": {
      "application/vnd.jupyter.widget-view+json": {
       "model_id": "a4758c0d1db44d7dbc851b49c2e986d9",
       "version_major": 2,
       "version_minor": 0
      },
      "text/plain": [
       "HBox(children=(FloatProgress(value=0.0, description='Training', max=382.0, style=ProgressStyle(description_wid…"
      ]
     },
     "metadata": {},
     "output_type": "display_data"
    },
    {
     "name": "stdout",
     "output_type": "stream",
     "text": [
      "\n"
     ]
    },
    {
     "data": {
      "application/vnd.jupyter.widget-view+json": {
       "model_id": "859aff3102a14ec7ba5b0405b9b64e98",
       "version_major": 2,
       "version_minor": 0
      },
      "text/plain": [
       "HBox(children=(FloatProgress(value=0.0, description='Validation', max=32.0, style=ProgressStyle(description_wi…"
      ]
     },
     "metadata": {},
     "output_type": "display_data"
    },
    {
     "name": "stdout",
     "output_type": "stream",
     "text": [
      "\n",
      "Epoch: 28, Train loss: 0.00069569958868048, Val loss: 1.046761829103077, Train acc: 0.9997545510329311, Val acc: 0.8821473951715375\n"
     ]
    },
    {
     "data": {
      "application/vnd.jupyter.widget-view+json": {
       "model_id": "32d37496458d4f69a8cd737288b7331b",
       "version_major": 2,
       "version_minor": 0
      },
      "text/plain": [
       "HBox(children=(FloatProgress(value=0.0, description='Training', max=382.0, style=ProgressStyle(description_wid…"
      ]
     },
     "metadata": {},
     "output_type": "display_data"
    },
    {
     "name": "stdout",
     "output_type": "stream",
     "text": [
      "\n"
     ]
    },
    {
     "data": {
      "application/vnd.jupyter.widget-view+json": {
       "model_id": "50b98d39b894402d833e5e0bf4386902",
       "version_major": 2,
       "version_minor": 0
      },
      "text/plain": [
       "HBox(children=(FloatProgress(value=0.0, description='Validation', max=32.0, style=ProgressStyle(description_wi…"
      ]
     },
     "metadata": {},
     "output_type": "display_data"
    },
    {
     "name": "stdout",
     "output_type": "stream",
     "text": [
      "\n",
      "Epoch: 29, Train loss: 0.0017821855878139548, Val loss: 1.002919453346517, Train acc: 0.9993045612599714, Val acc: 0.8837357052096569\n"
     ]
    },
    {
     "data": {
      "application/vnd.jupyter.widget-view+json": {
       "model_id": "b7d982dda269462fb141165fa019fc92",
       "version_major": 2,
       "version_minor": 0
      },
      "text/plain": [
       "HBox(children=(FloatProgress(value=0.0, description='Training', max=382.0, style=ProgressStyle(description_wid…"
      ]
     },
     "metadata": {},
     "output_type": "display_data"
    },
    {
     "name": "stdout",
     "output_type": "stream",
     "text": [
      "\n"
     ]
    },
    {
     "data": {
      "application/vnd.jupyter.widget-view+json": {
       "model_id": "c2c1762afd1841f0bfe4030f0cd19d98",
       "version_major": 2,
       "version_minor": 0
      },
      "text/plain": [
       "HBox(children=(FloatProgress(value=0.0, description='Validation', max=32.0, style=ProgressStyle(description_wi…"
      ]
     },
     "metadata": {},
     "output_type": "display_data"
    },
    {
     "name": "stdout",
     "output_type": "stream",
     "text": [
      "\n",
      "Epoch: 30, Train loss: 0.001199962320345324, Val loss: 1.0194930927271764, Train acc: 0.9996318265493966, Val acc: 0.883418043202033\n"
     ]
    }
   ],
   "source": [
    "#%matplotlib inline\n",
    "\n",
    "train_loss = []\n",
    "valid_loss = []\n",
    "train_acc = []\n",
    "val_acc = []\n",
    "\n",
    "if LOAD_MODEL_CHECKPOINT:\n",
    "    loaded_checkpoint = torch.load(LOAD_MODEL_CHECKPOINT_PATH)\n",
    "    START_EPOCH = loaded_checkpoint[\"epoch\"]\n",
    "    model.load_state_dict(loaded_checkpoint[\"model_state_dict\"])\n",
    "    optimizer.load_state_dict(loaded_checkpoint[\"optimizer_state_dict\"])\n",
    "    scheduler = get_cosine_schedule_with_warmup(optimizer, \n",
    "                                                num_warmup_steps=len(train_dataset)/BATCH_SIZE*5, \n",
    "                                                num_training_steps=num_train_steps,\n",
    "                                                last_epoch=loaded_checkpoint[\"epoch\"])\n",
    "print(\"START_EPOCH = \" + str(START_EPOCH))\n",
    "if TRAIN_START:\n",
    "    for epoch in range(START_EPOCH+1, NUM_EPOCHS+1):\n",
    "\n",
    "        tl, ta = train_fn(model, loader = trainloader)\n",
    "        vl, va, conf_mat = valid_fn(model, loader = validloader)\n",
    "        train_loss.append(tl)\n",
    "        valid_loss.append(vl)\n",
    "        train_acc.append(ta)\n",
    "        val_acc.append(va)\n",
    "\n",
    "        # model save for checkpoint\n",
    "        if epoch%1==0:\n",
    "\n",
    "            checkpoint = {\n",
    "                \"epoch\":epoch,\n",
    "                \"model_state_dict\":model.state_dict(),\n",
    "                \"optimizer_state_dict\":optimizer.state_dict()}\n",
    "            path = './checkpoint/epoch-' + str(epoch) + '.pth'\n",
    "            torch.save(checkpoint,path)\n",
    "\n",
    "        # model save for deploy \n",
    "        if epoch%1==0:\n",
    "\n",
    "            model_save_path = \"./checkpoint/deploy-%d\" % epoch\n",
    "            with open(model_save_path, 'wb') as f:\n",
    "                torch.save(model.state_dict(), f)\n",
    "\n",
    "        printstr = 'Epoch: '+ str(epoch) + ', Train loss: ' + str(tl) + ', Val loss: ' + str(vl) + ', Train acc: ' + str(ta) + ', Val acc: ' + str(va)\n",
    "        tqdm.write(printstr)"
   ]
  },
  {
   "cell_type": "markdown",
   "metadata": {},
   "source": [
    "## STATISTICS\n",
    "https://github.com/taylover-pei/SSDG-CVPR2020/blob/master/utils/statistic.py"
   ]
  },
  {
   "cell_type": "code",
   "execution_count": 24,
   "metadata": {},
   "outputs": [],
   "source": [
    "def eval_state(probs, labels, thr):\n",
    "    predict = probs >= thr\n",
    "    TN = np.sum((labels == 0) & (predict == False))\n",
    "    FN = np.sum((labels == 1) & (predict == False))\n",
    "    FP = np.sum((labels == 0) & (predict == True))\n",
    "    TP = np.sum((labels == 1) & (predict == True))\n",
    "    return TN, FN, FP, TP"
   ]
  },
  {
   "cell_type": "code",
   "execution_count": 25,
   "metadata": {},
   "outputs": [],
   "source": [
    "def calculate(probs, labels):\n",
    "    TN, FN, FP, TP = eval_state(probs, labels, 0.5)\n",
    "    APCER = 1.0 if (FP + TN == 0) else FP / float(FP + TN)\n",
    "    NPCER = 1.0 if (FN + TP == 0) else FN / float(FN + TP)\n",
    "    ACER = (APCER + NPCER) / 2.0\n",
    "    ACC = (TP + TN) / (TN + FN + FP + TP) #labels.shape[0]\n",
    "    return APCER, NPCER, ACER, ACC"
   ]
  },
  {
   "cell_type": "code",
   "execution_count": 26,
   "metadata": {},
   "outputs": [],
   "source": [
    "def calculate_threshold(probs, labels, threshold):\n",
    "    TN, FN, FP, TP = eval_state(probs, labels, threshold)\n",
    "    ACC = (TP + TN) / (TN + FN + FP + TP) #labels.shape[0]\n",
    "    return ACC"
   ]
  },
  {
   "cell_type": "code",
   "execution_count": 27,
   "metadata": {},
   "outputs": [],
   "source": [
    "def get_threshold(probs, grid_density):\n",
    "    Min, Max = min(probs), max(probs)\n",
    "    thresholds = []\n",
    "    for i in range(grid_density + 1):\n",
    "        thresholds.append(0.0 + i * 1.0 / float(grid_density))\n",
    "    thresholds.append(1.1)\n",
    "    return thresholds"
   ]
  },
  {
   "cell_type": "code",
   "execution_count": 28,
   "metadata": {},
   "outputs": [],
   "source": [
    "def get_EER_states(probs, labels, grid_density = 10000):\n",
    "    thresholds = get_threshold(probs, grid_density)\n",
    "    min_dist = 1.0\n",
    "    min_dist_states = []\n",
    "    FRR_list = []\n",
    "    FAR_list = []\n",
    "    for thr in thresholds:\n",
    "        TN, FN, FP, TP = eval_state(probs, labels, thr)\n",
    "        if(FN + TP == 0):\n",
    "            FRR = TPR = 1.0\n",
    "            FAR = FP / float(FP + TN)\n",
    "            TNR = TN / float(TN + FP)\n",
    "        elif(FP + TN == 0):\n",
    "            TNR = FAR = 1.0\n",
    "            FRR = FN / float(FN + TP)\n",
    "            TPR = TP / float(TP + FN)\n",
    "        else:\n",
    "            FAR = FP / float(FP + TN)\n",
    "            FRR = FN / float(FN + TP)\n",
    "            TNR = TN / float(TN + FP)\n",
    "            TPR = TP / float(TP + FN)\n",
    "        dist = math.fabs(FRR - FAR)\n",
    "        FAR_list.append(FAR)\n",
    "        FRR_list.append(FRR)\n",
    "        if dist <= min_dist:\n",
    "            min_dist = dist\n",
    "            min_dist_states = [FAR, FRR, thr]\n",
    "    EER = (min_dist_states[0] + min_dist_states[1]) / 2.0\n",
    "    thr = min_dist_states[2]\n",
    "    return EER, thr, FRR_list, FAR_list"
   ]
  },
  {
   "cell_type": "code",
   "execution_count": 29,
   "metadata": {},
   "outputs": [],
   "source": [
    "def get_HTER_at_thr(probs, labels, thr):\n",
    "    TN, FN, FP, TP = eval_state(probs, labels, thr)\n",
    "    if (FN + TP == 0):\n",
    "        FRR = 1.0\n",
    "        FAR = FP / float(FP + TN)\n",
    "    elif(FP + TN == 0):\n",
    "        FAR = 1.0\n",
    "        FRR = FN / float(FN + TP)\n",
    "    else:\n",
    "        FAR = FP / float(FP + TN)\n",
    "        FRR = FN / float(FN + TP)\n",
    "    HTER = (FAR + FRR) / 2.0\n",
    "    return HTER"
   ]
  },
  {
   "cell_type": "markdown",
   "metadata": {},
   "source": [
    "## TEST"
   ]
  },
  {
   "cell_type": "code",
   "execution_count": 30,
   "metadata": {},
   "outputs": [],
   "source": [
    "data_dir = [[\"/home/umit/xDataset/Sentinel-img/test-real\",5626],\n",
    "            ]"
   ]
  },
  {
   "cell_type": "code",
   "execution_count": 31,
   "metadata": {},
   "outputs": [],
   "source": [
    "test_balance_real_full = None\n",
    "for x in data_dir:\n",
    "    \n",
    "    _dir = x[0]\n",
    "    sampleNum = x[1]\n",
    "    \n",
    "    data_samples = []\n",
    "    test_data_real = []\n",
    "    \n",
    "    # JPEG\n",
    "    _list_jpeg = glob.glob(_dir + '/*.jpeg')\n",
    "    data_samples += _list_jpeg\n",
    "    # JPG\n",
    "    _list_jpg = glob.glob(_dir + '/*.jpg')\n",
    "    data_samples += _list_jpg\n",
    "    # PNG\n",
    "    _list_png = glob.glob(_dir + '/*.png')\n",
    "    data_samples += _list_png\n",
    "    \n",
    "    test_data_real = pd.DataFrame(data_samples,columns = ['image_path'])\n",
    "    test_data_real['real'] = 1\n",
    "    test_data_real['fake'] = 0\n",
    "    \n",
    "    if test_balance_real_full is None:\n",
    "        test_balance_real_full = test_data_real.sample(n=sampleNum, random_state=1,replace=False)\n",
    "    else:\n",
    "        test_balance_real_full = pd.concat([test_balance_real_full, \n",
    "                                       test_data_real.sample(n=sampleNum, random_state=1,replace=False)],\n",
    "                                       ignore_index=True)"
   ]
  },
  {
   "cell_type": "code",
   "execution_count": 32,
   "metadata": {},
   "outputs": [
    {
     "data": {
      "text/html": [
       "<div>\n",
       "<style scoped>\n",
       "    .dataframe tbody tr th:only-of-type {\n",
       "        vertical-align: middle;\n",
       "    }\n",
       "\n",
       "    .dataframe tbody tr th {\n",
       "        vertical-align: top;\n",
       "    }\n",
       "\n",
       "    .dataframe thead th {\n",
       "        text-align: right;\n",
       "    }\n",
       "</style>\n",
       "<table border=\"1\" class=\"dataframe\">\n",
       "  <thead>\n",
       "    <tr style=\"text-align: right;\">\n",
       "      <th></th>\n",
       "      <th>image_path</th>\n",
       "      <th>real</th>\n",
       "      <th>fake</th>\n",
       "    </tr>\n",
       "  </thead>\n",
       "  <tbody>\n",
       "    <tr>\n",
       "      <th>5137</th>\n",
       "      <td>/home/umit/xDataset/Sentinel-img/test-real/tes...</td>\n",
       "      <td>1</td>\n",
       "      <td>0</td>\n",
       "    </tr>\n",
       "    <tr>\n",
       "      <th>3516</th>\n",
       "      <td>/home/umit/xDataset/Sentinel-img/test-real/tes...</td>\n",
       "      <td>1</td>\n",
       "      <td>0</td>\n",
       "    </tr>\n",
       "    <tr>\n",
       "      <th>5571</th>\n",
       "      <td>/home/umit/xDataset/Sentinel-img/test-real/tes...</td>\n",
       "      <td>1</td>\n",
       "      <td>0</td>\n",
       "    </tr>\n",
       "    <tr>\n",
       "      <th>5409</th>\n",
       "      <td>/home/umit/xDataset/Sentinel-img/test-real/tes...</td>\n",
       "      <td>1</td>\n",
       "      <td>0</td>\n",
       "    </tr>\n",
       "    <tr>\n",
       "      <th>3187</th>\n",
       "      <td>/home/umit/xDataset/Sentinel-img/test-real/tes...</td>\n",
       "      <td>1</td>\n",
       "      <td>0</td>\n",
       "    </tr>\n",
       "  </tbody>\n",
       "</table>\n",
       "</div>"
      ],
      "text/plain": [
       "                                             image_path  real  fake\n",
       "5137  /home/umit/xDataset/Sentinel-img/test-real/tes...     1     0\n",
       "3516  /home/umit/xDataset/Sentinel-img/test-real/tes...     1     0\n",
       "5571  /home/umit/xDataset/Sentinel-img/test-real/tes...     1     0\n",
       "5409  /home/umit/xDataset/Sentinel-img/test-real/tes...     1     0\n",
       "3187  /home/umit/xDataset/Sentinel-img/test-real/tes...     1     0"
      ]
     },
     "execution_count": 32,
     "metadata": {},
     "output_type": "execute_result"
    }
   ],
   "source": [
    "test_balance_real_full.head()"
   ]
  },
  {
   "cell_type": "code",
   "execution_count": 33,
   "metadata": {},
   "outputs": [],
   "source": [
    "data_dir = [[\"/home/umit/xDataset/Sentinel-img/test-fake\",4865],\n",
    "            ]"
   ]
  },
  {
   "cell_type": "code",
   "execution_count": 34,
   "metadata": {},
   "outputs": [],
   "source": [
    "test_balance_fake_full = None\n",
    "for x in data_dir:\n",
    "    \n",
    "    _dir = x[0]\n",
    "    sampleNum = x[1]\n",
    "    \n",
    "    data_samples = []\n",
    "    test_data_fake = []\n",
    "    \n",
    "    # JPEG\n",
    "    _list_jpeg = glob.glob(_dir + '/*.jpeg')\n",
    "    data_samples += _list_jpeg\n",
    "    # JPG\n",
    "    _list_jpg = glob.glob(_dir + '/*.jpg')\n",
    "    data_samples += _list_jpg\n",
    "    # PNG\n",
    "    _list_png = glob.glob(_dir + '/*.png')\n",
    "    data_samples += _list_png\n",
    "\n",
    "    test_data_fake = pd.DataFrame(data_samples,columns = ['image_path'])\n",
    "    test_data_fake['real'] = 0.0\n",
    "    test_data_fake['fake'] = 1.0\n",
    "    \n",
    "    if test_balance_fake_full is None:\n",
    "        test_balance_fake_full = test_data_fake.sample(n=sampleNum, random_state=1,replace=False)\n",
    "    else:\n",
    "        test_balance_fake_full = pd.concat([test_balance_fake_full, \n",
    "                                       test_data_fake.sample(n=sampleNum, random_state=1,replace=False)],\n",
    "                                       ignore_index=True)"
   ]
  },
  {
   "cell_type": "code",
   "execution_count": 35,
   "metadata": {},
   "outputs": [
    {
     "data": {
      "text/html": [
       "<div>\n",
       "<style scoped>\n",
       "    .dataframe tbody tr th:only-of-type {\n",
       "        vertical-align: middle;\n",
       "    }\n",
       "\n",
       "    .dataframe tbody tr th {\n",
       "        vertical-align: top;\n",
       "    }\n",
       "\n",
       "    .dataframe thead th {\n",
       "        text-align: right;\n",
       "    }\n",
       "</style>\n",
       "<table border=\"1\" class=\"dataframe\">\n",
       "  <thead>\n",
       "    <tr style=\"text-align: right;\">\n",
       "      <th></th>\n",
       "      <th>image_path</th>\n",
       "      <th>real</th>\n",
       "      <th>fake</th>\n",
       "    </tr>\n",
       "  </thead>\n",
       "  <tbody>\n",
       "    <tr>\n",
       "      <th>600</th>\n",
       "      <td>/home/umit/xDataset/Sentinel-img/test-fake/tes...</td>\n",
       "      <td>0.0</td>\n",
       "      <td>1.0</td>\n",
       "    </tr>\n",
       "    <tr>\n",
       "      <th>3033</th>\n",
       "      <td>/home/umit/xDataset/Sentinel-img/test-fake/tes...</td>\n",
       "      <td>0.0</td>\n",
       "      <td>1.0</td>\n",
       "    </tr>\n",
       "    <tr>\n",
       "      <th>248</th>\n",
       "      <td>/home/umit/xDataset/Sentinel-img/test-fake/tes...</td>\n",
       "      <td>0.0</td>\n",
       "      <td>1.0</td>\n",
       "    </tr>\n",
       "    <tr>\n",
       "      <th>1892</th>\n",
       "      <td>/home/umit/xDataset/Sentinel-img/test-fake/tes...</td>\n",
       "      <td>0.0</td>\n",
       "      <td>1.0</td>\n",
       "    </tr>\n",
       "    <tr>\n",
       "      <th>3438</th>\n",
       "      <td>/home/umit/xDataset/Sentinel-img/test-fake/tes...</td>\n",
       "      <td>0.0</td>\n",
       "      <td>1.0</td>\n",
       "    </tr>\n",
       "  </tbody>\n",
       "</table>\n",
       "</div>"
      ],
      "text/plain": [
       "                                             image_path  real  fake\n",
       "600   /home/umit/xDataset/Sentinel-img/test-fake/tes...   0.0   1.0\n",
       "3033  /home/umit/xDataset/Sentinel-img/test-fake/tes...   0.0   1.0\n",
       "248   /home/umit/xDataset/Sentinel-img/test-fake/tes...   0.0   1.0\n",
       "1892  /home/umit/xDataset/Sentinel-img/test-fake/tes...   0.0   1.0\n",
       "3438  /home/umit/xDataset/Sentinel-img/test-fake/tes...   0.0   1.0"
      ]
     },
     "execution_count": 35,
     "metadata": {},
     "output_type": "execute_result"
    }
   ],
   "source": [
    "test_balance_fake_full.head()"
   ]
  },
  {
   "cell_type": "code",
   "execution_count": 36,
   "metadata": {},
   "outputs": [
    {
     "data": {
      "text/plain": [
       "10491"
      ]
     },
     "execution_count": 36,
     "metadata": {},
     "output_type": "execute_result"
    }
   ],
   "source": [
    "test_data = pd.concat([test_balance_real_full, test_balance_fake_full],ignore_index=True)\n",
    "len(test_data)"
   ]
  },
  {
   "cell_type": "code",
   "execution_count": 37,
   "metadata": {},
   "outputs": [],
   "source": [
    "class DeepFakeTestDataset(Dataset):\n",
    "    \n",
    "    def __init__(self, image_paths, labels):\n",
    "        \n",
    "        self.paths = image_paths\n",
    "        self.labels = labels\n",
    "        \n",
    "        self.transform = Compose([Resize(IMAGE_SIZE,IMAGE_SIZE, always_apply=True),\n",
    "                                       Normalize((0.485, 0.456, 0.406), (0.229, 0.224, 0.225), always_apply=True),\n",
    "                                       ToTensor()]) #normalized for pretrained network\n",
    "        \n",
    "    def __len__(self):\n",
    "        return self.paths.shape[0]\n",
    "    \n",
    "    def __getitem__(self, i):\n",
    "        \n",
    "        image_bgr = cv2.imread(self.paths[i])\n",
    "        image = cv2.cvtColor(image_bgr, cv2.COLOR_BGR2RGB)\n",
    "        image = self.transform(image=image)['image']\n",
    "        \n",
    "        label = torch.tensor(np.argmax(self.labels.loc[i,:].values))\n",
    "\n",
    "        return image, label"
   ]
  },
  {
   "cell_type": "code",
   "execution_count": 38,
   "metadata": {},
   "outputs": [],
   "source": [
    "test_dataset = DeepFakeTestDataset(test_data['image_path'], test_data.loc[:, ['real','fake']])\n",
    "testloader = DataLoader(test_dataset, shuffle=False, batch_size = TEST_BATCH_SIZE, num_workers = 2)"
   ]
  },
  {
   "cell_type": "code",
   "execution_count": 57,
   "metadata": {},
   "outputs": [],
   "source": [
    "if LOAD_MODEL_DEPLOY:\n",
    "    # model load for deploy\n",
    "    device='cuda:0'\n",
    "    model.load_state_dict(torch.load(open(LOAD_MODEL_DEPLOY_PATH, 'rb'), map_location=device))\n",
    "    model.eval()"
   ]
  },
  {
   "cell_type": "code",
   "execution_count": 58,
   "metadata": {},
   "outputs": [],
   "source": [
    "#from IPython.core.debugger import Tracer; Tracer()()\n",
    "def test_fn(net, loader):\n",
    "\n",
    "    preds_pair = []\n",
    "    score_max = []\n",
    "    labels_for_acc = []\n",
    "    preds_for_acc = []\n",
    "    \n",
    "    pbar = tqdm(total = len(loader), desc='Test')\n",
    "    \n",
    "    with torch.no_grad():\n",
    "\n",
    "        for i, (images, labels) in enumerate(loader):\n",
    "            \n",
    "            images, labels = images.to(device), labels.to(device)\n",
    "            net.eval()\n",
    "            predictions = net(images)\n",
    "            predictions_normalize = softmax(predictions.cpu().detach().numpy(),1)\n",
    "            \n",
    "            # assign initial values\n",
    "            if i==0:\n",
    "                preds_pair = predictions_normalize\n",
    "            else:\n",
    "                preds_pair = np.concatenate((preds_pair, predictions_normalize), 0)\n",
    "            \n",
    "            labels_for_acc = np.concatenate((labels_for_acc, labels.cpu().numpy()), 0)\n",
    "            \n",
    "            pbar.update()\n",
    "             \n",
    "    pbar.close()\n",
    "    \n",
    "    return preds_pair, labels_for_acc"
   ]
  },
  {
   "cell_type": "code",
   "execution_count": 59,
   "metadata": {},
   "outputs": [
    {
     "data": {
      "application/vnd.jupyter.widget-view+json": {
       "model_id": "84f17ee6d6464f40ab787b825fb38532",
       "version_major": 2,
       "version_minor": 0
      },
      "text/plain": [
       "HBox(children=(FloatProgress(value=0.0, description='Test', max=105.0, style=ProgressStyle(description_width='…"
      ]
     },
     "metadata": {},
     "output_type": "display_data"
    },
    {
     "name": "stdout",
     "output_type": "stream",
     "text": [
      "\n"
     ]
    }
   ],
   "source": [
    "np.set_printoptions(precision=3,suppress=True,threshold=5)\n",
    "\n",
    "subs = []\n",
    "repeat = 1\n",
    "for i in range(repeat): #average over 3 runs\n",
    "    \n",
    "    preds_pair, labels_for_acc = test_fn(model, testloader)\n",
    "    output = pd.DataFrame(preds_pair, columns = ['predict_real','predict_fake'])\n",
    "    output.drop(0, inplace = True)\n",
    "    output.reset_index(drop=True,inplace=True)\n",
    "    subs.append(output)\n",
    "\n",
    "sub_1 = sum(subs)/repeat"
   ]
  },
  {
   "cell_type": "code",
   "execution_count": 60,
   "metadata": {},
   "outputs": [],
   "source": [
    "score_real = preds_pair[:,0] # real = 1, fake = 0\n",
    "preds_for_acc = np.argmax(preds_pair, 1)\n",
    "# Convert Real = 1, Fake = 0 \n",
    "preds_for_acc = 1 - preds_for_acc\n",
    "labels_for_acc = 1 - labels_for_acc"
   ]
  },
  {
   "cell_type": "code",
   "execution_count": 61,
   "metadata": {},
   "outputs": [
    {
     "name": "stdout",
     "output_type": "stream",
     "text": [
      "Test Accuracy = 0.8559717853398151\n",
      "APCER = 0.25837615621788285\n",
      "NPCER = 0.04514752932811945\n",
      "ACER = 0.15176184277300114\n",
      "ACC = 0.8559717853398151\n",
      "3608 254 1257 5372\n"
     ]
    }
   ],
   "source": [
    "accuracy = accuracy_score(labels_for_acc, preds_for_acc)\n",
    "conf_mat = confusion_matrix(labels_for_acc, preds_for_acc)\n",
    "\n",
    "print(\"Test Accuracy = \" + str(accuracy))\n",
    "\n",
    "TP = conf_mat[1,1] # Real True\n",
    "FN = conf_mat[1,0] # Real False\n",
    "TN = conf_mat[0,0] # Fake True\n",
    "FP = conf_mat[0,1] # Fake False\n",
    "\n",
    "APCER = 1.0 if (FP + TN == 0) else FP / float(FP + TN)\n",
    "NPCER = 1.0 if (FN + TP == 0) else FN / float(FN + TP) # BPCER\n",
    "ACER = (APCER + NPCER) / 2.0\n",
    "ACC = (TP + TN) / (TP + TN + FP + FN)\n",
    "print(\"APCER = \" + str(APCER))\n",
    "print(\"NPCER = \" + str(NPCER))\n",
    "print(\"ACER = \" + str(ACER))\n",
    "print(\"ACC = \" + str(ACC))\n",
    "\n",
    "print(TN, FN, FP, TP)"
   ]
  },
  {
   "cell_type": "code",
   "execution_count": 62,
   "metadata": {
    "scrolled": true
   },
   "outputs": [
    {
     "data": {
      "text/plain": [
       "<matplotlib.axes._subplots.AxesSubplot at 0x7fe585b3e5f8>"
      ]
     },
     "execution_count": 62,
     "metadata": {},
     "output_type": "execute_result"
    },
    {
     "data": {
      "image/png": "[encoded data removed]",
      "text/plain": [
       "<Figure size 432x288 with 2 Axes>"
      ]
     },
     "metadata": {
      "needs_background": "light"
     },
     "output_type": "display_data"
    }
   ],
   "source": [
    "predict_labels = ['pred_fake','pred_real']\n",
    "labels = ['fake','real']\n",
    "sns.heatmap(conf_mat, xticklabels=predict_labels, yticklabels=labels, linewidths=2, annot=True, fmt=\"d\")"
   ]
  },
  {
   "cell_type": "code",
   "execution_count": 63,
   "metadata": {},
   "outputs": [],
   "source": [
    "def eval_state(probs, labels, thr):\n",
    "    predict = probs >= thr\n",
    "    TN = np.sum((labels == 0) & (predict == False))\n",
    "    FN = np.sum((labels == 1) & (predict == False))\n",
    "    FP = np.sum((labels == 0) & (predict == True))\n",
    "    TP = np.sum((labels == 1) & (predict == True))\n",
    "    return TN, FN, FP, TP"
   ]
  },
  {
   "cell_type": "code",
   "execution_count": 64,
   "metadata": {},
   "outputs": [
    {
     "name": "stdout",
     "output_type": "stream",
     "text": [
      "3608 254 1257 5372\n"
     ]
    }
   ],
   "source": [
    "TN, FN, FP, TP = eval_state(score_real,labels_for_acc,0.5)\n",
    "print(TN, FN, FP, TP)"
   ]
  },
  {
   "cell_type": "code",
   "execution_count": 65,
   "metadata": {},
   "outputs": [
    {
     "data": {
      "text/plain": [
       "(0.25837615621788285,\n",
       " 0.04514752932811945,\n",
       " 0.15176184277300114,\n",
       " 0.8559717853398151)"
      ]
     },
     "execution_count": 65,
     "metadata": {},
     "output_type": "execute_result"
    }
   ],
   "source": [
    "APCER, NPCER, ACER, ACC = calculate(score_real, labels_for_acc)\n",
    "APCER, NPCER, ACER, ACC "
   ]
  },
  {
   "cell_type": "code",
   "execution_count": 66,
   "metadata": {},
   "outputs": [
    {
     "data": {
      "text/plain": [
       "(0.12963945840940372, 0.9959)"
      ]
     },
     "execution_count": 66,
     "metadata": {},
     "output_type": "execute_result"
    }
   ],
   "source": [
    "EER, thr, FRR_list, FAR_list = get_EER_states(score_real, labels_for_acc, grid_density = 10000)\n",
    "EER, thr"
   ]
  },
  {
   "cell_type": "code",
   "execution_count": 74,
   "metadata": {},
   "outputs": [
    {
     "data": {
      "text/plain": [
       "0.15176184277300114"
      ]
     },
     "execution_count": 74,
     "metadata": {},
     "output_type": "execute_result"
    }
   ],
   "source": [
    "HTER = get_HTER_at_thr(score_real, labels_for_acc, 0.5)\n",
    "HTER"
   ]
  },
  {
   "cell_type": "code",
   "execution_count": 75,
   "metadata": {},
   "outputs": [
    {
     "data": {
      "text/plain": [
       "0.8703650748260414"
      ]
     },
     "execution_count": 75,
     "metadata": {},
     "output_type": "execute_result"
    }
   ],
   "source": [
    "ACC_thr = calculate_threshold(score_real, labels_for_acc, thr)\n",
    "ACC_thr"
   ]
  },
  {
   "cell_type": "code",
   "execution_count": 76,
   "metadata": {},
   "outputs": [
    {
     "data": {
      "image/png": "[encoded data removed]",
      "text/plain": [
       "<Figure size 432x288 with 1 Axes>"
      ]
     },
     "metadata": {
      "needs_background": "light"
     },
     "output_type": "display_data"
    }
   ],
   "source": [
    "plt.plot(FAR_list, FRR_list, marker='.', label='ROC (FAR-FRR)')\n",
    "# axis labels\n",
    "plt.xlabel('False Alarm Rate')\n",
    "plt.ylabel('False Rejection Rate')\n",
    "plt.xlim(0, 1)\n",
    "plt.ylim(0, 1)\n",
    "plt.grid()\n",
    "# show the legend\n",
    "plt.legend()\n",
    "# save and show plot\n",
    "plt.savefig('./results/Test Results.png')\n",
    "plt.show()"
   ]
  },
  {
   "cell_type": "code",
   "execution_count": 70,
   "metadata": {},
   "outputs": [
    {
     "data": {
      "text/html": [
       "<div>\n",
       "<style scoped>\n",
       "    .dataframe tbody tr th:only-of-type {\n",
       "        vertical-align: middle;\n",
       "    }\n",
       "\n",
       "    .dataframe tbody tr th {\n",
       "        vertical-align: top;\n",
       "    }\n",
       "\n",
       "    .dataframe thead th {\n",
       "        text-align: right;\n",
       "    }\n",
       "</style>\n",
       "<table border=\"1\" class=\"dataframe\">\n",
       "  <thead>\n",
       "    <tr style=\"text-align: right;\">\n",
       "      <th></th>\n",
       "      <th>predict_real</th>\n",
       "      <th>predict_fake</th>\n",
       "      <th>real</th>\n",
       "      <th>fake</th>\n",
       "    </tr>\n",
       "  </thead>\n",
       "  <tbody>\n",
       "    <tr>\n",
       "      <th>0</th>\n",
       "      <td>0.999999</td>\n",
       "      <td>1.726678e-06</td>\n",
       "      <td>1.0</td>\n",
       "      <td>0.0</td>\n",
       "    </tr>\n",
       "    <tr>\n",
       "      <th>1</th>\n",
       "      <td>0.999972</td>\n",
       "      <td>2.752471e-05</td>\n",
       "      <td>1.0</td>\n",
       "      <td>0.0</td>\n",
       "    </tr>\n",
       "    <tr>\n",
       "      <th>2</th>\n",
       "      <td>0.001685</td>\n",
       "      <td>9.983151e-01</td>\n",
       "      <td>1.0</td>\n",
       "      <td>0.0</td>\n",
       "    </tr>\n",
       "    <tr>\n",
       "      <th>3</th>\n",
       "      <td>1.000000</td>\n",
       "      <td>2.569816e-11</td>\n",
       "      <td>1.0</td>\n",
       "      <td>0.0</td>\n",
       "    </tr>\n",
       "    <tr>\n",
       "      <th>4</th>\n",
       "      <td>1.000000</td>\n",
       "      <td>4.926172e-08</td>\n",
       "      <td>1.0</td>\n",
       "      <td>0.0</td>\n",
       "    </tr>\n",
       "  </tbody>\n",
       "</table>\n",
       "</div>"
      ],
      "text/plain": [
       "   predict_real  predict_fake  real  fake\n",
       "0      0.999999  1.726678e-06   1.0   0.0\n",
       "1      0.999972  2.752471e-05   1.0   0.0\n",
       "2      0.001685  9.983151e-01   1.0   0.0\n",
       "3      1.000000  2.569816e-11   1.0   0.0\n",
       "4      1.000000  4.926172e-08   1.0   0.0"
      ]
     },
     "execution_count": 70,
     "metadata": {},
     "output_type": "execute_result"
    }
   ],
   "source": [
    "sub_1['real'] = test_data['real']\n",
    "sub_1['fake'] = test_data['fake']\n",
    "sub_1.head()"
   ]
  },
  {
   "cell_type": "code",
   "execution_count": 71,
   "metadata": {},
   "outputs": [],
   "source": [
    "sub = sub_1.copy()\n",
    "sub['image_path'] = test_data['image_path']\n",
    "sub = sub[['image_path','predict_real','predict_fake','real','fake']]\n",
    "\n",
    "sub.to_csv('./results/submission.csv', index = False)"
   ]
  },
  {
   "cell_type": "code",
   "execution_count": 72,
   "metadata": {},
   "outputs": [
    {
     "data": {
      "text/html": [
       "<div>\n",
       "<style scoped>\n",
       "    .dataframe tbody tr th:only-of-type {\n",
       "        vertical-align: middle;\n",
       "    }\n",
       "\n",
       "    .dataframe tbody tr th {\n",
       "        vertical-align: top;\n",
       "    }\n",
       "\n",
       "    .dataframe thead th {\n",
       "        text-align: right;\n",
       "    }\n",
       "</style>\n",
       "<table border=\"1\" class=\"dataframe\">\n",
       "  <thead>\n",
       "    <tr style=\"text-align: right;\">\n",
       "      <th></th>\n",
       "      <th>image_path</th>\n",
       "      <th>predict_real</th>\n",
       "      <th>predict_fake</th>\n",
       "      <th>real</th>\n",
       "      <th>fake</th>\n",
       "    </tr>\n",
       "  </thead>\n",
       "  <tbody>\n",
       "    <tr>\n",
       "      <th>0</th>\n",
       "      <td>/home/umit/xDataset/Sentinel-img/test-real/tes...</td>\n",
       "      <td>9.999986e-01</td>\n",
       "      <td>1.726678e-06</td>\n",
       "      <td>1.0</td>\n",
       "      <td>0.0</td>\n",
       "    </tr>\n",
       "    <tr>\n",
       "      <th>1</th>\n",
       "      <td>/home/umit/xDataset/Sentinel-img/test-real/tes...</td>\n",
       "      <td>9.999723e-01</td>\n",
       "      <td>2.752471e-05</td>\n",
       "      <td>1.0</td>\n",
       "      <td>0.0</td>\n",
       "    </tr>\n",
       "    <tr>\n",
       "      <th>2</th>\n",
       "      <td>/home/umit/xDataset/Sentinel-img/test-real/tes...</td>\n",
       "      <td>1.684771e-03</td>\n",
       "      <td>9.983151e-01</td>\n",
       "      <td>1.0</td>\n",
       "      <td>0.0</td>\n",
       "    </tr>\n",
       "    <tr>\n",
       "      <th>3</th>\n",
       "      <td>/home/umit/xDataset/Sentinel-img/test-real/tes...</td>\n",
       "      <td>1.000000e+00</td>\n",
       "      <td>2.569816e-11</td>\n",
       "      <td>1.0</td>\n",
       "      <td>0.0</td>\n",
       "    </tr>\n",
       "    <tr>\n",
       "      <th>4</th>\n",
       "      <td>/home/umit/xDataset/Sentinel-img/test-real/tes...</td>\n",
       "      <td>1.000000e+00</td>\n",
       "      <td>4.926172e-08</td>\n",
       "      <td>1.0</td>\n",
       "      <td>0.0</td>\n",
       "    </tr>\n",
       "    <tr>\n",
       "      <th>...</th>\n",
       "      <td>...</td>\n",
       "      <td>...</td>\n",
       "      <td>...</td>\n",
       "      <td>...</td>\n",
       "      <td>...</td>\n",
       "    </tr>\n",
       "    <tr>\n",
       "      <th>10485</th>\n",
       "      <td>/home/umit/xDataset/Sentinel-img/test-fake/tes...</td>\n",
       "      <td>3.957798e-01</td>\n",
       "      <td>6.042202e-01</td>\n",
       "      <td>0.0</td>\n",
       "      <td>1.0</td>\n",
       "    </tr>\n",
       "    <tr>\n",
       "      <th>10486</th>\n",
       "      <td>/home/umit/xDataset/Sentinel-img/test-fake/tes...</td>\n",
       "      <td>1.760505e-09</td>\n",
       "      <td>1.000000e+00</td>\n",
       "      <td>0.0</td>\n",
       "      <td>1.0</td>\n",
       "    </tr>\n",
       "    <tr>\n",
       "      <th>10487</th>\n",
       "      <td>/home/umit/xDataset/Sentinel-img/test-fake/tes...</td>\n",
       "      <td>6.956750e-03</td>\n",
       "      <td>9.930432e-01</td>\n",
       "      <td>0.0</td>\n",
       "      <td>1.0</td>\n",
       "    </tr>\n",
       "    <tr>\n",
       "      <th>10488</th>\n",
       "      <td>/home/umit/xDataset/Sentinel-img/test-fake/tes...</td>\n",
       "      <td>9.765472e-01</td>\n",
       "      <td>2.345277e-02</td>\n",
       "      <td>0.0</td>\n",
       "      <td>1.0</td>\n",
       "    </tr>\n",
       "    <tr>\n",
       "      <th>10489</th>\n",
       "      <td>/home/umit/xDataset/Sentinel-img/test-fake/tes...</td>\n",
       "      <td>9.915231e-01</td>\n",
       "      <td>8.476754e-03</td>\n",
       "      <td>0.0</td>\n",
       "      <td>1.0</td>\n",
       "    </tr>\n",
       "  </tbody>\n",
       "</table>\n",
       "<p>10490 rows × 5 columns</p>\n",
       "</div>"
      ],
      "text/plain": [
       "                                              image_path  predict_real  \\\n",
       "0      /home/umit/xDataset/Sentinel-img/test-real/tes...  9.999986e-01   \n",
       "1      /home/umit/xDataset/Sentinel-img/test-real/tes...  9.999723e-01   \n",
       "2      /home/umit/xDataset/Sentinel-img/test-real/tes...  1.684771e-03   \n",
       "3      /home/umit/xDataset/Sentinel-img/test-real/tes...  1.000000e+00   \n",
       "4      /home/umit/xDataset/Sentinel-img/test-real/tes...  1.000000e+00   \n",
       "...                                                  ...           ...   \n",
       "10485  /home/umit/xDataset/Sentinel-img/test-fake/tes...  3.957798e-01   \n",
       "10486  /home/umit/xDataset/Sentinel-img/test-fake/tes...  1.760505e-09   \n",
       "10487  /home/umit/xDataset/Sentinel-img/test-fake/tes...  6.956750e-03   \n",
       "10488  /home/umit/xDataset/Sentinel-img/test-fake/tes...  9.765472e-01   \n",
       "10489  /home/umit/xDataset/Sentinel-img/test-fake/tes...  9.915231e-01   \n",
       "\n",
       "       predict_fake  real  fake  \n",
       "0      1.726678e-06   1.0   0.0  \n",
       "1      2.752471e-05   1.0   0.0  \n",
       "2      9.983151e-01   1.0   0.0  \n",
       "3      2.569816e-11   1.0   0.0  \n",
       "4      4.926172e-08   1.0   0.0  \n",
       "...             ...   ...   ...  \n",
       "10485  6.042202e-01   0.0   1.0  \n",
       "10486  1.000000e+00   0.0   1.0  \n",
       "10487  9.930432e-01   0.0   1.0  \n",
       "10488  2.345277e-02   0.0   1.0  \n",
       "10489  8.476754e-03   0.0   1.0  \n",
       "\n",
       "[10490 rows x 5 columns]"
      ]
     },
     "execution_count": 72,
     "metadata": {},
     "output_type": "execute_result"
    }
   ],
   "source": [
    "sub"
   ]
  },
  {
   "cell_type": "markdown",
   "metadata": {},
   "source": [
    "## Clear GPU memory"
   ]
  },
  {
   "cell_type": "code",
   "execution_count": 55,
   "metadata": {},
   "outputs": [],
   "source": [
    "CLEAR_MEMORY = False\n",
    "if CLEAR_MEMORY:\n",
    "    del model\n",
    "    del optimizer\n",
    "    del scheduler\n",
    "    torch.cuda.empty_cache()"
   ]
  }
 ],
 "metadata": {
  "kernelspec": {
   "display_name": "Python 3",
   "language": "python",
   "name": "python3"
  },
  "language_info": {
   "codemirror_mode": {
    "name": "ipython",
    "version": 3
   },
   "file_extension": ".py",
   "mimetype": "text/x-python",
   "name": "python",
   "nbconvert_exporter": "python",
   "pygments_lexer": "ipython3",
   "version": "3.6.9"
  }
 },
 "nbformat": 4,
 "nbformat_minor": 4
}
