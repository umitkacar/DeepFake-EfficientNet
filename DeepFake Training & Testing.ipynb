{
 "cells": [
  {
   "cell_type": "code",
   "execution_count": 1,
   "metadata": {},
   "outputs": [],
   "source": [
    "import glob\n",
    "import pandas as pd\n",
    "import matplotlib.pyplot as plt\n",
    "import numpy as np\n",
    "from PIL import Image\n",
    "import cv2\n",
    "import math\n",
    "from IPython import display\n",
    "import time"
   ]
  },
  {
   "cell_type": "code",
   "execution_count": 2,
   "metadata": {},
   "outputs": [
    {
     "name": "stderr",
     "output_type": "stream",
     "text": [
      "I0730 14:57:16.945373 140090784081728 file_utils.py:39] PyTorch version 1.2.0 available.\n",
      "I0730 14:57:17.966139 140090784081728 file_utils.py:55] TensorFlow version 2.2.0-dev20200218 available.\n"
     ]
    }
   ],
   "source": [
    "# !pip install efficientnet_pytorch\n",
    "# !pip install torchsummary seaborn transformers albumentations\n",
    "\n",
    "# torch\n",
    "import torch\n",
    "from torch.utils.data import Dataset, DataLoader\n",
    "import torch.nn as nn #conv2d \n",
    "from torchvision import transforms, models\n",
    "from efficientnet_pytorch import EfficientNet\n",
    "from torchsummary import summary\n",
    "\n",
    "import seaborn as sns\n",
    "from tqdm.notebook import tqdm\n",
    "\n",
    "from sklearn.metrics import accuracy_score, confusion_matrix\n",
    "from scipy.special import softmax\n",
    "\n",
    "from transformers import get_cosine_schedule_with_warmup\n",
    "from transformers import AdamW\n",
    "\n",
    "from albumentations import *\n",
    "from albumentations import (VerticalFlip, \n",
    "                            HorizontalFlip, \n",
    "                            Flip, \n",
    "                            RandomRotate90, \n",
    "                            Rotate, \n",
    "                            ShiftScaleRotate, \n",
    "                            CenterCrop, \n",
    "                            OpticalDistortion, \n",
    "                            GridDistortion, \n",
    "                            ElasticTransform, \n",
    "                            JpegCompression, \n",
    "                            HueSaturationValue,\n",
    "                            RGBShift, \n",
    "                            RandomBrightness, \n",
    "                            RandomContrast, \n",
    "                            Blur, \n",
    "                            MotionBlur, \n",
    "                            MedianBlur, \n",
    "                            GaussNoise, \n",
    "                            CLAHE, \n",
    "                            ChannelShuffle, \n",
    "                            InvertImg, \n",
    "                            RandomGamma, \n",
    "                            ToGray, \n",
    "                            PadIfNeeded \n",
    "                           )\n",
    "from albumentations.pytorch import ToTensor\n",
    "\n",
    "import gc\n",
    "\n",
    "import warnings\n",
    "warnings.filterwarnings(\"ignore\")"
   ]
  },
  {
   "cell_type": "markdown",
   "metadata": {},
   "source": [
    "## TRAIN SET"
   ]
  },
  {
   "cell_type": "code",
   "execution_count": 3,
   "metadata": {},
   "outputs": [],
   "source": [
    "data_dir = [[\"/home/umit/xDataset/Sentinel-img/train-real\",6817],\n",
    "           ]"
   ]
  },
  {
   "cell_type": "code",
   "execution_count": 4,
   "metadata": {},
   "outputs": [],
   "source": [
    "train_balance_real_full = None\n",
    "for x in data_dir:\n",
    "    \n",
    "    _dir = x[0]\n",
    "    sampleNum = x[1]\n",
    "    \n",
    "    data_samples = []\n",
    "    train_data_real = []\n",
    "    \n",
    "    # JPEG\n",
    "    _list_jpeg = glob.glob(_dir + '/*.jpeg')\n",
    "    data_samples += _list_jpeg\n",
    "    # JPG\n",
    "    _list_jpg = glob.glob(_dir + '/*.jpg')\n",
    "    data_samples += _list_jpg\n",
    "    # PNG\n",
    "    _list_png = glob.glob(_dir + '/*.png')\n",
    "    data_samples += _list_png\n",
    "    \n",
    "    train_data_real = pd.DataFrame(data_samples,columns = ['image_path'])\n",
    "    train_data_real['real'] = 1\n",
    "    train_data_real['fake'] = 0\n",
    "    \n",
    "    if train_balance_real_full is None:\n",
    "        train_balance_real_full = train_data_real.sample(n=sampleNum, random_state=1,replace=False)\n",
    "    else:\n",
    "        train_balance_real_full = pd.concat([train_balance_real_full, \n",
    "                                       train_data_real.sample(n=sampleNum, random_state=1,replace=False)],\n",
    "                                       ignore_index=True)"
   ]
  },
  {
   "cell_type": "code",
   "execution_count": 5,
   "metadata": {},
   "outputs": [
    {
     "data": {
      "text/html": [
       "<div>\n",
       "<style scoped>\n",
       "    .dataframe tbody tr th:only-of-type {\n",
       "        vertical-align: middle;\n",
       "    }\n",
       "\n",
       "    .dataframe tbody tr th {\n",
       "        vertical-align: top;\n",
       "    }\n",
       "\n",
       "    .dataframe thead th {\n",
       "        text-align: right;\n",
       "    }\n",
       "</style>\n",
       "<table border=\"1\" class=\"dataframe\">\n",
       "  <thead>\n",
       "    <tr style=\"text-align: right;\">\n",
       "      <th></th>\n",
       "      <th>image_path</th>\n",
       "      <th>real</th>\n",
       "      <th>fake</th>\n",
       "    </tr>\n",
       "  </thead>\n",
       "  <tbody>\n",
       "    <tr>\n",
       "      <th>6305</th>\n",
       "      <td>/home/umit/xDataset/Sentinel-img/train-real/tr...</td>\n",
       "      <td>1</td>\n",
       "      <td>0</td>\n",
       "    </tr>\n",
       "    <tr>\n",
       "      <th>6082</th>\n",
       "      <td>/home/umit/xDataset/Sentinel-img/train-real/tr...</td>\n",
       "      <td>1</td>\n",
       "      <td>0</td>\n",
       "    </tr>\n",
       "    <tr>\n",
       "      <th>3922</th>\n",
       "      <td>/home/umit/xDataset/Sentinel-img/train-real/tr...</td>\n",
       "      <td>1</td>\n",
       "      <td>0</td>\n",
       "    </tr>\n",
       "    <tr>\n",
       "      <th>544</th>\n",
       "      <td>/home/umit/xDataset/Sentinel-img/train-real/tr...</td>\n",
       "      <td>1</td>\n",
       "      <td>0</td>\n",
       "    </tr>\n",
       "    <tr>\n",
       "      <th>1041</th>\n",
       "      <td>/home/umit/xDataset/Sentinel-img/train-real/tr...</td>\n",
       "      <td>1</td>\n",
       "      <td>0</td>\n",
       "    </tr>\n",
       "  </tbody>\n",
       "</table>\n",
       "</div>"
      ],
      "text/plain": [
       "                                             image_path  real  fake\n",
       "6305  /home/umit/xDataset/Sentinel-img/train-real/tr...     1     0\n",
       "6082  /home/umit/xDataset/Sentinel-img/train-real/tr...     1     0\n",
       "3922  /home/umit/xDataset/Sentinel-img/train-real/tr...     1     0\n",
       "544   /home/umit/xDataset/Sentinel-img/train-real/tr...     1     0\n",
       "1041  /home/umit/xDataset/Sentinel-img/train-real/tr...     1     0"
      ]
     },
     "execution_count": 5,
     "metadata": {},
     "output_type": "execute_result"
    }
   ],
   "source": [
    "train_balance_real_full.head()"
   ]
  },
  {
   "cell_type": "code",
   "execution_count": 6,
   "metadata": {},
   "outputs": [],
   "source": [
    "data_dir = [[\"/home/umit/xDataset/Sentinel-img/train-fake\",5275],\n",
    "            ]"
   ]
  },
  {
   "cell_type": "code",
   "execution_count": 7,
   "metadata": {},
   "outputs": [],
   "source": [
    "train_balance_fake_full = None\n",
    "for x in data_dir:\n",
    "    \n",
    "    _dir = x[0]\n",
    "    sampleNum = x[1]\n",
    "    \n",
    "    data_samples = []\n",
    "    train_data_fake = []\n",
    "    \n",
    "    # JPEG\n",
    "    _list_jpeg = glob.glob(_dir + '/*.jpeg')\n",
    "    data_samples += _list_jpeg\n",
    "    # JPG\n",
    "    _list_jpg = glob.glob(_dir + '/*.jpg')\n",
    "    data_samples += _list_jpg\n",
    "    # PNG\n",
    "    _list_png = glob.glob(_dir + '/*.png')\n",
    "    data_samples += _list_png\n",
    "\n",
    "    train_data_fake = pd.DataFrame(data_samples,columns = ['image_path'])\n",
    "    train_data_fake['real'] = 0.0\n",
    "    train_data_fake['fake'] = 1.0\n",
    "    \n",
    "    if train_balance_fake_full is None:\n",
    "        train_balance_fake_full = train_data_fake.sample(n=sampleNum, random_state=1,replace=False)\n",
    "    else:\n",
    "        train_balance_fake_full = pd.concat([train_balance_fake_full, \n",
    "                                       train_data_fake.sample(n=sampleNum, random_state=1,replace=False)],\n",
    "                                       ignore_index=True)"
   ]
  },
  {
   "cell_type": "code",
   "execution_count": 8,
   "metadata": {},
   "outputs": [
    {
     "data": {
      "text/html": [
       "<div>\n",
       "<style scoped>\n",
       "    .dataframe tbody tr th:only-of-type {\n",
       "        vertical-align: middle;\n",
       "    }\n",
       "\n",
       "    .dataframe tbody tr th {\n",
       "        vertical-align: top;\n",
       "    }\n",
       "\n",
       "    .dataframe thead th {\n",
       "        text-align: right;\n",
       "    }\n",
       "</style>\n",
       "<table border=\"1\" class=\"dataframe\">\n",
       "  <thead>\n",
       "    <tr style=\"text-align: right;\">\n",
       "      <th></th>\n",
       "      <th>image_path</th>\n",
       "      <th>real</th>\n",
       "      <th>fake</th>\n",
       "    </tr>\n",
       "  </thead>\n",
       "  <tbody>\n",
       "    <tr>\n",
       "      <th>440</th>\n",
       "      <td>/home/umit/xDataset/Sentinel-img/train-fake/tr...</td>\n",
       "      <td>0.0</td>\n",
       "      <td>1.0</td>\n",
       "    </tr>\n",
       "    <tr>\n",
       "      <th>1488</th>\n",
       "      <td>/home/umit/xDataset/Sentinel-img/train-fake/tr...</td>\n",
       "      <td>0.0</td>\n",
       "      <td>1.0</td>\n",
       "    </tr>\n",
       "    <tr>\n",
       "      <th>3092</th>\n",
       "      <td>/home/umit/xDataset/Sentinel-img/train-fake/tr...</td>\n",
       "      <td>0.0</td>\n",
       "      <td>1.0</td>\n",
       "    </tr>\n",
       "    <tr>\n",
       "      <th>2039</th>\n",
       "      <td>/home/umit/xDataset/Sentinel-img/train-fake/tr...</td>\n",
       "      <td>0.0</td>\n",
       "      <td>1.0</td>\n",
       "    </tr>\n",
       "    <tr>\n",
       "      <th>4579</th>\n",
       "      <td>/home/umit/xDataset/Sentinel-img/train-fake/tr...</td>\n",
       "      <td>0.0</td>\n",
       "      <td>1.0</td>\n",
       "    </tr>\n",
       "  </tbody>\n",
       "</table>\n",
       "</div>"
      ],
      "text/plain": [
       "                                             image_path  real  fake\n",
       "440   /home/umit/xDataset/Sentinel-img/train-fake/tr...   0.0   1.0\n",
       "1488  /home/umit/xDataset/Sentinel-img/train-fake/tr...   0.0   1.0\n",
       "3092  /home/umit/xDataset/Sentinel-img/train-fake/tr...   0.0   1.0\n",
       "2039  /home/umit/xDataset/Sentinel-img/train-fake/tr...   0.0   1.0\n",
       "4579  /home/umit/xDataset/Sentinel-img/train-fake/tr...   0.0   1.0"
      ]
     },
     "execution_count": 8,
     "metadata": {},
     "output_type": "execute_result"
    }
   ],
   "source": [
    "train_balance_fake_full.head()"
   ]
  },
  {
   "cell_type": "code",
   "execution_count": 9,
   "metadata": {},
   "outputs": [
    {
     "data": {
      "text/html": [
       "<div>\n",
       "<style scoped>\n",
       "    .dataframe tbody tr th:only-of-type {\n",
       "        vertical-align: middle;\n",
       "    }\n",
       "\n",
       "    .dataframe tbody tr th {\n",
       "        vertical-align: top;\n",
       "    }\n",
       "\n",
       "    .dataframe thead th {\n",
       "        text-align: right;\n",
       "    }\n",
       "</style>\n",
       "<table border=\"1\" class=\"dataframe\">\n",
       "  <thead>\n",
       "    <tr style=\"text-align: right;\">\n",
       "      <th></th>\n",
       "      <th>image_path</th>\n",
       "      <th>real</th>\n",
       "      <th>fake</th>\n",
       "    </tr>\n",
       "  </thead>\n",
       "  <tbody>\n",
       "    <tr>\n",
       "      <th>12087</th>\n",
       "      <td>/home/umit/xDataset/Sentinel-img/train-fake/tr...</td>\n",
       "      <td>0.0</td>\n",
       "      <td>1.0</td>\n",
       "    </tr>\n",
       "    <tr>\n",
       "      <th>12088</th>\n",
       "      <td>/home/umit/xDataset/Sentinel-img/train-fake/tr...</td>\n",
       "      <td>0.0</td>\n",
       "      <td>1.0</td>\n",
       "    </tr>\n",
       "    <tr>\n",
       "      <th>12089</th>\n",
       "      <td>/home/umit/xDataset/Sentinel-img/train-fake/tr...</td>\n",
       "      <td>0.0</td>\n",
       "      <td>1.0</td>\n",
       "    </tr>\n",
       "    <tr>\n",
       "      <th>12090</th>\n",
       "      <td>/home/umit/xDataset/Sentinel-img/train-fake/tr...</td>\n",
       "      <td>0.0</td>\n",
       "      <td>1.0</td>\n",
       "    </tr>\n",
       "    <tr>\n",
       "      <th>12091</th>\n",
       "      <td>/home/umit/xDataset/Sentinel-img/train-fake/tr...</td>\n",
       "      <td>0.0</td>\n",
       "      <td>1.0</td>\n",
       "    </tr>\n",
       "  </tbody>\n",
       "</table>\n",
       "</div>"
      ],
      "text/plain": [
       "                                              image_path  real  fake\n",
       "12087  /home/umit/xDataset/Sentinel-img/train-fake/tr...   0.0   1.0\n",
       "12088  /home/umit/xDataset/Sentinel-img/train-fake/tr...   0.0   1.0\n",
       "12089  /home/umit/xDataset/Sentinel-img/train-fake/tr...   0.0   1.0\n",
       "12090  /home/umit/xDataset/Sentinel-img/train-fake/tr...   0.0   1.0\n",
       "12091  /home/umit/xDataset/Sentinel-img/train-fake/tr...   0.0   1.0"
      ]
     },
     "execution_count": 9,
     "metadata": {},
     "output_type": "execute_result"
    }
   ],
   "source": [
    "train_data = pd.concat([train_balance_real_full, train_balance_fake_full],ignore_index=True)\n",
    "train_data.tail()"
   ]
  },
  {
   "cell_type": "code",
   "execution_count": 10,
   "metadata": {},
   "outputs": [
    {
     "data": {
      "text/plain": [
       "Text(0.5, 1.0, 'Real')"
      ]
     },
     "execution_count": 10,
     "metadata": {},
     "output_type": "execute_result"
    },
    {
     "data": {
      "image/png": "[encoded data removed]",
      "text/plain": [
       "<Figure size 1152x720 with 4 Axes>"
      ]
     },
     "metadata": {
      "needs_background": "light"
     },
     "output_type": "display_data"
    }
   ],
   "source": [
    "# Push CTRL + ENTER for update\n",
    "rand_fake = len(train_data['image_path'][train_data['fake']==1])\n",
    "rand_real = len(train_data['image_path'][train_data['real']==1])\n",
    "\n",
    "img_fake_1= plt.imread(train_data['image_path'][train_data['fake']==1].iloc[np.random.randint(rand_fake)])\n",
    "img_fake_2= plt.imread(train_data['image_path'][train_data['fake']==1].iloc[np.random.randint(rand_fake)])\n",
    "img_real_1= plt.imread(train_data['image_path'][train_data['real']==1].iloc[np.random.randint(rand_real)])\n",
    "img_real_2= plt.imread(train_data['image_path'][train_data['real']==1].iloc[np.random.randint(rand_real)])\n",
    "\n",
    "fig = plt.figure(figsize=(16,10))\n",
    "\n",
    "ax = fig.add_subplot(2, 2, 1)\n",
    "ax.imshow(img_fake_1)\n",
    "ax.set_title('Fake', fontsize = 20)\n",
    "\n",
    "ax = fig.add_subplot(2, 2, 2)\n",
    "ax.imshow(img_fake_2)\n",
    "ax.set_title('Fake', fontsize = 20)\n",
    "\n",
    "ax = fig.add_subplot(2, 2, 3)\n",
    "ax.imshow(img_real_1)\n",
    "ax.set_title('Real', fontsize = 20)\n",
    "\n",
    "ax = fig.add_subplot(2, 2, 4)\n",
    "ax.imshow(img_real_2)\n",
    "ax.set_title('Real', fontsize = 20)"
   ]
  },
  {
   "cell_type": "markdown",
   "metadata": {},
   "source": [
    "## VALIDATION SET"
   ]
  },
  {
   "cell_type": "code",
   "execution_count": 11,
   "metadata": {},
   "outputs": [],
   "source": [
    "data_dir = [[\"/home/umit/xDataset/Sentinel-img/valid-real\",1812],\n",
    "            ]"
   ]
  },
  {
   "cell_type": "code",
   "execution_count": 12,
   "metadata": {},
   "outputs": [],
   "source": [
    "valid_balance_real_full = None\n",
    "for x in data_dir:\n",
    "    \n",
    "    _dir = x[0]\n",
    "    sampleNum = x[1]\n",
    "    \n",
    "    data_samples = []\n",
    "    valid_data_real = []\n",
    "    \n",
    "    # JPEG\n",
    "    _list_jpeg = glob.glob(_dir + '/*.jpeg')\n",
    "    data_samples += _list_jpeg\n",
    "    # JPG\n",
    "    _list_jpg = glob.glob(_dir + '/*.jpg')\n",
    "    data_samples += _list_jpg\n",
    "    # PNG\n",
    "    _list_png = glob.glob(_dir + '/*.png')\n",
    "    data_samples += _list_png\n",
    "    \n",
    "    valid_data_real = pd.DataFrame(data_samples,columns = ['image_path'])\n",
    "    valid_data_real['real'] = 1\n",
    "    valid_data_real['fake'] = 0\n",
    "    \n",
    "    if valid_balance_real_full is None:\n",
    "        valid_balance_real_full = valid_data_real.sample(n=sampleNum, random_state=1,replace=False)\n",
    "    else:\n",
    "        valid_balance_real_full = pd.concat([valid_balance_real_full, \n",
    "                                       valid_data_real.sample(n=sampleNum, random_state=1,replace=False)],\n",
    "                                       ignore_index=True)"
   ]
  },
  {
   "cell_type": "code",
   "execution_count": 13,
   "metadata": {},
   "outputs": [
    {
     "data": {
      "text/html": [
       "<div>\n",
       "<style scoped>\n",
       "    .dataframe tbody tr th:only-of-type {\n",
       "        vertical-align: middle;\n",
       "    }\n",
       "\n",
       "    .dataframe tbody tr th {\n",
       "        vertical-align: top;\n",
       "    }\n",
       "\n",
       "    .dataframe thead th {\n",
       "        text-align: right;\n",
       "    }\n",
       "</style>\n",
       "<table border=\"1\" class=\"dataframe\">\n",
       "  <thead>\n",
       "    <tr style=\"text-align: right;\">\n",
       "      <th></th>\n",
       "      <th>image_path</th>\n",
       "      <th>real</th>\n",
       "      <th>fake</th>\n",
       "    </tr>\n",
       "  </thead>\n",
       "  <tbody>\n",
       "    <tr>\n",
       "      <th>1141</th>\n",
       "      <td>/home/umit/xDataset/Sentinel-img/valid-real/va...</td>\n",
       "      <td>1</td>\n",
       "      <td>0</td>\n",
       "    </tr>\n",
       "    <tr>\n",
       "      <th>966</th>\n",
       "      <td>/home/umit/xDataset/Sentinel-img/valid-real/va...</td>\n",
       "      <td>1</td>\n",
       "      <td>0</td>\n",
       "    </tr>\n",
       "    <tr>\n",
       "      <th>707</th>\n",
       "      <td>/home/umit/xDataset/Sentinel-img/valid-real/va...</td>\n",
       "      <td>1</td>\n",
       "      <td>0</td>\n",
       "    </tr>\n",
       "    <tr>\n",
       "      <th>1208</th>\n",
       "      <td>/home/umit/xDataset/Sentinel-img/valid-real/va...</td>\n",
       "      <td>1</td>\n",
       "      <td>0</td>\n",
       "    </tr>\n",
       "    <tr>\n",
       "      <th>1308</th>\n",
       "      <td>/home/umit/xDataset/Sentinel-img/valid-real/va...</td>\n",
       "      <td>1</td>\n",
       "      <td>0</td>\n",
       "    </tr>\n",
       "  </tbody>\n",
       "</table>\n",
       "</div>"
      ],
      "text/plain": [
       "                                             image_path  real  fake\n",
       "1141  /home/umit/xDataset/Sentinel-img/valid-real/va...     1     0\n",
       "966   /home/umit/xDataset/Sentinel-img/valid-real/va...     1     0\n",
       "707   /home/umit/xDataset/Sentinel-img/valid-real/va...     1     0\n",
       "1208  /home/umit/xDataset/Sentinel-img/valid-real/va...     1     0\n",
       "1308  /home/umit/xDataset/Sentinel-img/valid-real/va...     1     0"
      ]
     },
     "execution_count": 13,
     "metadata": {},
     "output_type": "execute_result"
    }
   ],
   "source": [
    "valid_balance_real_full.head()"
   ]
  },
  {
   "cell_type": "code",
   "execution_count": 14,
   "metadata": {},
   "outputs": [],
   "source": [
    "data_dir = [[\"/home/umit/xDataset/Sentinel-img/valid-fake\",1336],\n",
    "            ]"
   ]
  },
  {
   "cell_type": "code",
   "execution_count": 15,
   "metadata": {},
   "outputs": [],
   "source": [
    "valid_balance_fake_full = None\n",
    "for x in data_dir:\n",
    "    \n",
    "    _dir = x[0]\n",
    "    sampleNum = x[1]\n",
    "    \n",
    "    data_samples = []\n",
    "    valid_data_fake = []\n",
    "    \n",
    "    # JPEG\n",
    "    _list_jpeg = glob.glob(_dir + '/*.jpeg')\n",
    "    data_samples += _list_jpeg\n",
    "    # JPG\n",
    "    _list_jpg = glob.glob(_dir + '/*.jpg')\n",
    "    data_samples += _list_jpg\n",
    "    # PNG\n",
    "    _list_png = glob.glob(_dir + '/*.png')\n",
    "    data_samples += _list_png\n",
    "\n",
    "    valid_data_fake = pd.DataFrame(data_samples,columns = ['image_path'])\n",
    "    valid_data_fake['real'] = 0.0\n",
    "    valid_data_fake['fake'] = 1.0\n",
    "    \n",
    "    if valid_balance_fake_full is None:\n",
    "        valid_balance_fake_full = valid_data_fake.sample(n=sampleNum, random_state=1,replace=False)\n",
    "    else:\n",
    "        valid_balance_fake_full = pd.concat([valid_balance_fake_full, \n",
    "                                       valid_data_fake.sample(n=sampleNum, random_state=1,replace=False)],\n",
    "                                       ignore_index=True)"
   ]
  },
  {
   "cell_type": "code",
   "execution_count": 16,
   "metadata": {},
   "outputs": [
    {
     "data": {
      "text/html": [
       "<div>\n",
       "<style scoped>\n",
       "    .dataframe tbody tr th:only-of-type {\n",
       "        vertical-align: middle;\n",
       "    }\n",
       "\n",
       "    .dataframe tbody tr th {\n",
       "        vertical-align: top;\n",
       "    }\n",
       "\n",
       "    .dataframe thead th {\n",
       "        text-align: right;\n",
       "    }\n",
       "</style>\n",
       "<table border=\"1\" class=\"dataframe\">\n",
       "  <thead>\n",
       "    <tr style=\"text-align: right;\">\n",
       "      <th></th>\n",
       "      <th>image_path</th>\n",
       "      <th>real</th>\n",
       "      <th>fake</th>\n",
       "    </tr>\n",
       "  </thead>\n",
       "  <tbody>\n",
       "    <tr>\n",
       "      <th>0</th>\n",
       "      <td>/home/umit/xDataset/Sentinel-img/valid-real/va...</td>\n",
       "      <td>1.0</td>\n",
       "      <td>0.0</td>\n",
       "    </tr>\n",
       "    <tr>\n",
       "      <th>1</th>\n",
       "      <td>/home/umit/xDataset/Sentinel-img/valid-real/va...</td>\n",
       "      <td>1.0</td>\n",
       "      <td>0.0</td>\n",
       "    </tr>\n",
       "    <tr>\n",
       "      <th>2</th>\n",
       "      <td>/home/umit/xDataset/Sentinel-img/valid-real/va...</td>\n",
       "      <td>1.0</td>\n",
       "      <td>0.0</td>\n",
       "    </tr>\n",
       "    <tr>\n",
       "      <th>3</th>\n",
       "      <td>/home/umit/xDataset/Sentinel-img/valid-real/va...</td>\n",
       "      <td>1.0</td>\n",
       "      <td>0.0</td>\n",
       "    </tr>\n",
       "    <tr>\n",
       "      <th>4</th>\n",
       "      <td>/home/umit/xDataset/Sentinel-img/valid-real/va...</td>\n",
       "      <td>1.0</td>\n",
       "      <td>0.0</td>\n",
       "    </tr>\n",
       "  </tbody>\n",
       "</table>\n",
       "</div>"
      ],
      "text/plain": [
       "                                          image_path  real  fake\n",
       "0  /home/umit/xDataset/Sentinel-img/valid-real/va...   1.0   0.0\n",
       "1  /home/umit/xDataset/Sentinel-img/valid-real/va...   1.0   0.0\n",
       "2  /home/umit/xDataset/Sentinel-img/valid-real/va...   1.0   0.0\n",
       "3  /home/umit/xDataset/Sentinel-img/valid-real/va...   1.0   0.0\n",
       "4  /home/umit/xDataset/Sentinel-img/valid-real/va...   1.0   0.0"
      ]
     },
     "execution_count": 16,
     "metadata": {},
     "output_type": "execute_result"
    }
   ],
   "source": [
    "valid_data = pd.concat([valid_balance_real_full, valid_balance_fake_full],ignore_index=True)\n",
    "valid_data.head()"
   ]
  },
  {
   "cell_type": "markdown",
   "metadata": {},
   "source": [
    "## HYPERPARAMETER"
   ]
  },
  {
   "cell_type": "code",
   "execution_count": 17,
   "metadata": {},
   "outputs": [
    {
     "name": "stdout",
     "output_type": "stream",
     "text": [
      "240\n"
     ]
    }
   ],
   "source": [
    "BATCH_SIZE = 32\n",
    "NUM_EPOCHS = 20\n",
    "LEARNING_RATE = 8e-4\n",
    "\n",
    "TRAIN_START = True\n",
    "TRAIN_SIZE = train_data['image_path'].shape[0]\n",
    "VALID_SIZE = valid_data['image_path'].shape[0]\n",
    "MODEL_NAME = 'efficientnet-b1'\n",
    "#MODEL_NAME = 'efficientnet-b5'\n",
    "\n",
    "IMAGE_SIZE = EfficientNet.get_image_size(MODEL_NAME)\n",
    "print(IMAGE_SIZE)\n",
    "\n",
    "device = 'cuda:0'\n",
    "\n",
    "START_EPOCH = 0\n",
    "RESUME_EPOCH = 0 # LOAD EPOCH - CONTINUE +1\n",
    "LOAD_MODEL_CHECKPOINT = False\n",
    "LOAD_MODEL_CHECKPOINT_PATH = './checkpoint/epoch-%d.pth' %RESUME_EPOCH\n",
    "\n",
    "TEST_BATCH_SIZE = 100\n",
    "LOAD_MODEL_DEPLOY_NUMBER = 1\n",
    "LOAD_MODEL_DEPLOY = False  \n",
    "LOAD_MODEL_DEPLOY_PATH = './checkpoint/deploy-%d' %LOAD_MODEL_DEPLOY_NUMBER"
   ]
  },
  {
   "cell_type": "markdown",
   "metadata": {},
   "source": [
    "## MODEL"
   ]
  },
  {
   "cell_type": "code",
   "execution_count": 18,
   "metadata": {},
   "outputs": [],
   "source": [
    "class DeepFakeTrainDataset(Dataset):\n",
    "    \n",
    "    def __init__(self, image_paths, labels):\n",
    "        \n",
    "        self.paths = image_paths\n",
    "        self.labels = labels\n",
    "        \n",
    "        self.transform = Compose([\n",
    "            HorizontalFlip(p=0.5),\n",
    "            RandomResizedCrop(IMAGE_SIZE, IMAGE_SIZE, scale=(0.5, 1), p=0.5),\n",
    "            Resize(IMAGE_SIZE, IMAGE_SIZE, always_apply=True),\n",
    "            Normalize((0.485, 0.456, 0.406), (0.229, 0.224, 0.225), always_apply=True),\n",
    "            ToTensor()]) #normalized for pretrained network\n",
    "                                              \n",
    "    def __len__(self):\n",
    "        return self.paths.shape[0]\n",
    "    \n",
    "    def __getitem__(self, i): \n",
    "        \n",
    "        image_bgr = cv2.imread(self.paths[i])\n",
    "        image = cv2.cvtColor(image_bgr, cv2.COLOR_BGR2RGB)\n",
    "        image = self.transform(image = image)['image']\n",
    "        \n",
    "        label = torch.tensor(np.argmax(self.labels.loc[i,:].values))\n",
    "         \n",
    "        return image, label"
   ]
  },
  {
   "cell_type": "code",
   "execution_count": 19,
   "metadata": {},
   "outputs": [],
   "source": [
    "class DeepFakeValidDataset(Dataset):\n",
    "    \n",
    "    def __init__(self, image_paths, labels):\n",
    "        \n",
    "        self.paths = image_paths\n",
    "        self.labels = labels\n",
    "        \n",
    "        self.transform = Compose([\n",
    "            Resize(IMAGE_SIZE,IMAGE_SIZE, always_apply=True),\n",
    "            Normalize((0.485, 0.456, 0.406), (0.229, 0.224, 0.225), always_apply=True),\n",
    "            ToTensor()]) #normalized for pretrained network \n",
    "        \n",
    "    def __len__(self):\n",
    "        return self.paths.shape[0]\n",
    "    \n",
    "    def __getitem__(self, i): \n",
    "        \n",
    "        image_bgr = cv2.imread(self.paths[i])\n",
    "        image = cv2.cvtColor(image_bgr, cv2.COLOR_BGR2RGB)\n",
    "        image = self.transform(image = image)['image']\n",
    "        \n",
    "        label = torch.tensor(np.argmax(self.labels.loc[i,:].values))\n",
    "        \n",
    "        return image, label"
   ]
  },
  {
   "cell_type": "code",
   "execution_count": 20,
   "metadata": {},
   "outputs": [],
   "source": [
    "def train_fn(net, loader):\n",
    "    \n",
    "    running_loss = 0\n",
    "    preds_for_acc = []\n",
    "    labels_for_acc = []\n",
    "    \n",
    "    step_loss = []\n",
    "    step_accuracy = []\n",
    "    \n",
    "    imgNum = 0\n",
    "    \n",
    "    pbar = tqdm(total = len(loader), desc='Training')\n",
    "\n",
    "    for i, (images, labels) in enumerate(loader):\n",
    "        \n",
    "        images, labels = images.to(device), labels.to(device)\n",
    "        net.train()\n",
    "        optimizer.zero_grad()\n",
    "        # forward\n",
    "        predictions = net(images)\n",
    "        # loss\n",
    "        loss = loss_fn(predictions, labels)\n",
    "        # backpropagation\n",
    "        loss.backward()\n",
    "        optimizer.step()\n",
    "        scheduler.step()\n",
    "        \n",
    "        #from IPython.core.debugger import Tracer; Tracer()() \n",
    "        \n",
    "        running_loss += loss.item()*labels.shape[0]\n",
    "        imgNum = imgNum + labels.shape[0]\n",
    "        \n",
    "        labels_for_acc = np.concatenate((labels_for_acc, labels.cpu().numpy()), 0)\n",
    "        preds_for_acc = np.concatenate((preds_for_acc, np.argmax(predictions.cpu().detach().numpy(), 1)), 0)\n",
    "            \n",
    "        pbar.update()\n",
    "        \n",
    "    accuracy = accuracy_score(labels_for_acc, preds_for_acc)\n",
    "    \n",
    "    pbar.close()\n",
    "    return running_loss/TRAIN_SIZE, accuracy\n",
    "\n",
    "def valid_fn(net, loader):\n",
    "    \n",
    "    running_loss = 0\n",
    "    preds_for_acc = []\n",
    "    labels_for_acc = []\n",
    "    \n",
    "    pbar = tqdm(total = len(loader), desc='Validation')\n",
    "    \n",
    "    with torch.no_grad():\n",
    "        \n",
    "        for _, (images, labels) in enumerate(loader):\n",
    "            \n",
    "            images, labels = images.to(device), labels.to(device)\n",
    "            net.eval()\n",
    "            \n",
    "            predictions = net(images)\n",
    "            loss = loss_fn(predictions, labels)\n",
    "            \n",
    "            running_loss += loss.item()*labels.shape[0]\n",
    "            labels_for_acc = np.concatenate((labels_for_acc, labels.cpu().numpy()), 0)\n",
    "            preds_for_acc = np.concatenate((preds_for_acc, np.argmax(predictions.cpu().detach().numpy(), 1)), 0)\n",
    "            \n",
    "            pbar.update()\n",
    "            \n",
    "        accuracy = accuracy_score(labels_for_acc, preds_for_acc)\n",
    "        conf_mat = confusion_matrix(labels_for_acc, preds_for_acc)\n",
    "    \n",
    "    pbar.close()\n",
    "    return running_loss/VALID_SIZE, accuracy, conf_mat"
   ]
  },
  {
   "cell_type": "code",
   "execution_count": 21,
   "metadata": {},
   "outputs": [],
   "source": [
    "train_dataset = DeepFakeTrainDataset(train_data['image_path'], train_data.loc[:, ['real','fake']])\n",
    "trainloader = DataLoader(train_dataset, shuffle=True, batch_size = BATCH_SIZE, num_workers = 2)\n",
    "\n",
    "valid_dataset = DeepFakeValidDataset(valid_data['image_path'], valid_data.loc[:, ['real','fake']])\n",
    "validloader = DataLoader(valid_dataset, shuffle=False, batch_size = TEST_BATCH_SIZE, num_workers = 2)"
   ]
  },
  {
   "cell_type": "code",
   "execution_count": 22,
   "metadata": {},
   "outputs": [
    {
     "name": "stdout",
     "output_type": "stream",
     "text": [
      "Loaded pretrained weights for efficientnet-b1\n"
     ]
    }
   ],
   "source": [
    "model = EfficientNet.from_pretrained(MODEL_NAME) \n",
    "num_ftrs = model._fc.in_features\n",
    "model._fc = nn.Sequential(nn.Linear(num_ftrs,1000,bias=True),\n",
    "                          nn.ReLU(),\n",
    "                          nn.Dropout(p=0.5),\n",
    "                          nn.Linear(1000,2, bias = True))\n",
    "\n",
    "# summary(model, input_size=(3, 224, 224))\n",
    "model.to(device)\n",
    "optimizer = AdamW(model.parameters(), lr = LEARNING_RATE, weight_decay = 1e-3)\n",
    "num_train_steps = int(len(train_dataset) / BATCH_SIZE * NUM_EPOCHS)\n",
    "scheduler = get_cosine_schedule_with_warmup(optimizer, num_warmup_steps=len(train_dataset)/BATCH_SIZE*5, num_training_steps=num_train_steps)\n",
    "loss_fn = torch.nn.CrossEntropyLoss()\n",
    "# loss_fn = torch.nn.BCELoss() # No Sigmoid\n",
    "# loss_fn = torch.nn.BCEWithLogitsLoss() #  Sigmoid +  torch.nn.BCELoss()"
   ]
  },
  {
   "cell_type": "code",
   "execution_count": 23,
   "metadata": {},
   "outputs": [
    {
     "name": "stdout",
     "output_type": "stream",
     "text": [
      "START_EPOCH = 0\n"
     ]
    },
    {
     "data": {
      "application/vnd.jupyter.widget-view+json": {
       "model_id": "17e74349f0bb406ab692e746c96b6890",
       "version_major": 2,
       "version_minor": 0
      },
      "text/plain": [
       "HBox(children=(FloatProgress(value=0.0, description='Training', max=378.0, style=ProgressStyle(description_wid…"
      ]
     },
     "metadata": {},
     "output_type": "display_data"
    },
    {
     "name": "stdout",
     "output_type": "stream",
     "text": [
      "\n"
     ]
    },
    {
     "data": {
      "application/vnd.jupyter.widget-view+json": {
       "model_id": "8e4be17895ea4c97827c8ae8c2c5387f",
       "version_major": 2,
       "version_minor": 0
      },
      "text/plain": [
       "HBox(children=(FloatProgress(value=0.0, description='Validation', max=32.0, style=ProgressStyle(description_wi…"
      ]
     },
     "metadata": {},
     "output_type": "display_data"
    },
    {
     "name": "stdout",
     "output_type": "stream",
     "text": [
      "\n",
      "Epoch: 1, Train loss: 0.4306984350376085, Val loss: 0.48771811270047327, Train acc: 0.7853953026794575, Val acc: 0.7970139771283354\n"
     ]
    },
    {
     "data": {
      "application/vnd.jupyter.widget-view+json": {
       "model_id": "efa579e70f294eada53ec9c896ec3311",
       "version_major": 2,
       "version_minor": 0
      },
      "text/plain": [
       "HBox(children=(FloatProgress(value=0.0, description='Training', max=378.0, style=ProgressStyle(description_wid…"
      ]
     },
     "metadata": {},
     "output_type": "display_data"
    },
    {
     "name": "stdout",
     "output_type": "stream",
     "text": [
      "\n"
     ]
    },
    {
     "data": {
      "application/vnd.jupyter.widget-view+json": {
       "model_id": "588eddf72b3845c1a3c93edac6f5c9f8",
       "version_major": 2,
       "version_minor": 0
      },
      "text/plain": [
       "HBox(children=(FloatProgress(value=0.0, description='Validation', max=32.0, style=ProgressStyle(description_wi…"
      ]
     },
     "metadata": {},
     "output_type": "display_data"
    },
    {
     "name": "stdout",
     "output_type": "stream",
     "text": [
      "\n",
      "Epoch: 2, Train loss: 0.16765445672909707, Val loss: 0.5953202529619844, Train acc: 0.9345021501819385, Val acc: 0.8325921219822109\n"
     ]
    },
    {
     "data": {
      "application/vnd.jupyter.widget-view+json": {
       "model_id": "82d4c84b192b4f58a3326d9c1010978e",
       "version_major": 2,
       "version_minor": 0
      },
      "text/plain": [
       "HBox(children=(FloatProgress(value=0.0, description='Training', max=378.0, style=ProgressStyle(description_wid…"
      ]
     },
     "metadata": {},
     "output_type": "display_data"
    },
    {
     "name": "stdout",
     "output_type": "stream",
     "text": [
      "\n"
     ]
    },
    {
     "data": {
      "application/vnd.jupyter.widget-view+json": {
       "model_id": "31d6209c445d4f72bfcf88362edd89aa",
       "version_major": 2,
       "version_minor": 0
      },
      "text/plain": [
       "HBox(children=(FloatProgress(value=0.0, description='Validation', max=32.0, style=ProgressStyle(description_wi…"
      ]
     },
     "metadata": {},
     "output_type": "display_data"
    },
    {
     "name": "stdout",
     "output_type": "stream",
     "text": [
      "\n",
      "Epoch: 3, Train loss: 0.11957553194806822, Val loss: 1.3265401104316021, Train acc: 0.9540191862388356, Val acc: 0.806861499364676\n"
     ]
    },
    {
     "data": {
      "application/vnd.jupyter.widget-view+json": {
       "model_id": "bdbeb9537a9645fbb95b29aedf0ca1c0",
       "version_major": 2,
       "version_minor": 0
      },
      "text/plain": [
       "HBox(children=(FloatProgress(value=0.0, description='Training', max=378.0, style=ProgressStyle(description_wid…"
      ]
     },
     "metadata": {},
     "output_type": "display_data"
    },
    {
     "name": "stdout",
     "output_type": "stream",
     "text": [
      "\n"
     ]
    },
    {
     "data": {
      "application/vnd.jupyter.widget-view+json": {
       "model_id": "55a7fef715334c0eba258183b72baecb",
       "version_major": 2,
       "version_minor": 0
      },
      "text/plain": [
       "HBox(children=(FloatProgress(value=0.0, description='Validation', max=32.0, style=ProgressStyle(description_wi…"
      ]
     },
     "metadata": {},
     "output_type": "display_data"
    },
    {
     "name": "stdout",
     "output_type": "stream",
     "text": [
      "\n",
      "Epoch: 4, Train loss: 0.1130431232184635, Val loss: 0.6978178959448729, Train acc: 0.9593946410850149, Val acc: 0.7598475222363406\n"
     ]
    },
    {
     "data": {
      "application/vnd.jupyter.widget-view+json": {
       "model_id": "dd5fb8f7253741b7940ca85295def45c",
       "version_major": 2,
       "version_minor": 0
      },
      "text/plain": [
       "HBox(children=(FloatProgress(value=0.0, description='Training', max=378.0, style=ProgressStyle(description_wid…"
      ]
     },
     "metadata": {},
     "output_type": "display_data"
    },
    {
     "name": "stdout",
     "output_type": "stream",
     "text": [
      "\n"
     ]
    },
    {
     "data": {
      "application/vnd.jupyter.widget-view+json": {
       "model_id": "380b07e4b13447a5bc3bc9a9231fc777",
       "version_major": 2,
       "version_minor": 0
      },
      "text/plain": [
       "HBox(children=(FloatProgress(value=0.0, description='Validation', max=32.0, style=ProgressStyle(description_wi…"
      ]
     },
     "metadata": {},
     "output_type": "display_data"
    },
    {
     "name": "stdout",
     "output_type": "stream",
     "text": [
      "\n",
      "Epoch: 5, Train loss: 0.10124061066624032, Val loss: 0.9973264886054484, Train acc: 0.9641085014885875, Val acc: 0.7716010165184244\n"
     ]
    },
    {
     "data": {
      "application/vnd.jupyter.widget-view+json": {
       "model_id": "176211db776a47439e81dfbfca5b2fa5",
       "version_major": 2,
       "version_minor": 0
      },
      "text/plain": [
       "HBox(children=(FloatProgress(value=0.0, description='Training', max=378.0, style=ProgressStyle(description_wid…"
      ]
     },
     "metadata": {},
     "output_type": "display_data"
    },
    {
     "name": "stdout",
     "output_type": "stream",
     "text": [
      "\n"
     ]
    },
    {
     "data": {
      "application/vnd.jupyter.widget-view+json": {
       "model_id": "589e924e6d2f40f2ba87701b4fa1c551",
       "version_major": 2,
       "version_minor": 0
      },
      "text/plain": [
       "HBox(children=(FloatProgress(value=0.0, description='Validation', max=32.0, style=ProgressStyle(description_wi…"
      ]
     },
     "metadata": {},
     "output_type": "display_data"
    },
    {
     "name": "stdout",
     "output_type": "stream",
     "text": [
      "\n",
      "Epoch: 6, Train loss: 0.09869662118601831, Val loss: 0.4567275445676365, Train acc: 0.9676645716175984, Val acc: 0.8103557814485387\n"
     ]
    },
    {
     "data": {
      "application/vnd.jupyter.widget-view+json": {
       "model_id": "482d78f03f0c4a0fa3be65da29efabd0",
       "version_major": 2,
       "version_minor": 0
      },
      "text/plain": [
       "HBox(children=(FloatProgress(value=0.0, description='Training', max=378.0, style=ProgressStyle(description_wid…"
      ]
     },
     "metadata": {},
     "output_type": "display_data"
    },
    {
     "name": "stdout",
     "output_type": "stream",
     "text": [
      "\n"
     ]
    },
    {
     "data": {
      "application/vnd.jupyter.widget-view+json": {
       "model_id": "404562c31a8b490a9f6aa6beeac2cb5d",
       "version_major": 2,
       "version_minor": 0
      },
      "text/plain": [
       "HBox(children=(FloatProgress(value=0.0, description='Validation', max=32.0, style=ProgressStyle(description_wi…"
      ]
     },
     "metadata": {},
     "output_type": "display_data"
    },
    {
     "name": "stdout",
     "output_type": "stream",
     "text": [
      "\n",
      "Epoch: 7, Train loss: 0.08134483219701409, Val loss: 0.7427290171536285, Train acc: 0.9715514389679126, Val acc: 0.806861499364676\n"
     ]
    },
    {
     "data": {
      "application/vnd.jupyter.widget-view+json": {
       "model_id": "91a50dc149f9418894e8677d850d8fdf",
       "version_major": 2,
       "version_minor": 0
      },
      "text/plain": [
       "HBox(children=(FloatProgress(value=0.0, description='Training', max=378.0, style=ProgressStyle(description_wid…"
      ]
     },
     "metadata": {},
     "output_type": "display_data"
    },
    {
     "name": "stdout",
     "output_type": "stream",
     "text": [
      "\n"
     ]
    },
    {
     "data": {
      "application/vnd.jupyter.widget-view+json": {
       "model_id": "9511c4e437c8470ea5f3e9cbfae47884",
       "version_major": 2,
       "version_minor": 0
      },
      "text/plain": [
       "HBox(children=(FloatProgress(value=0.0, description='Validation', max=32.0, style=ProgressStyle(description_wi…"
      ]
     },
     "metadata": {},
     "output_type": "display_data"
    },
    {
     "name": "stdout",
     "output_type": "stream",
     "text": [
      "\n",
      "Epoch: 8, Train loss: 0.06626548028353564, Val loss: 0.480045813806781, Train acc: 0.9752729077075752, Val acc: 0.8427573062261754\n"
     ]
    },
    {
     "data": {
      "application/vnd.jupyter.widget-view+json": {
       "model_id": "93dfc2dd09474778a988cc5da00f3d75",
       "version_major": 2,
       "version_minor": 0
      },
      "text/plain": [
       "HBox(children=(FloatProgress(value=0.0, description='Training', max=378.0, style=ProgressStyle(description_wid…"
      ]
     },
     "metadata": {},
     "output_type": "display_data"
    },
    {
     "name": "stdout",
     "output_type": "stream",
     "text": [
      "\n"
     ]
    },
    {
     "data": {
      "application/vnd.jupyter.widget-view+json": {
       "model_id": "ba86db44a59d45908e73918cc10b1292",
       "version_major": 2,
       "version_minor": 0
      },
      "text/plain": [
       "HBox(children=(FloatProgress(value=0.0, description='Validation', max=32.0, style=ProgressStyle(description_wi…"
      ]
     },
     "metadata": {},
     "output_type": "display_data"
    },
    {
     "name": "stdout",
     "output_type": "stream",
     "text": [
      "\n",
      "Epoch: 9, Train loss: 0.05858984164397004, Val loss: 0.8434789238504715, Train acc: 0.9813099569963613, Val acc: 0.8103557814485387\n"
     ]
    },
    {
     "data": {
      "application/vnd.jupyter.widget-view+json": {
       "model_id": "22b0f7033ef04ee49687bd11766c9ddd",
       "version_major": 2,
       "version_minor": 0
      },
      "text/plain": [
       "HBox(children=(FloatProgress(value=0.0, description='Training', max=378.0, style=ProgressStyle(description_wid…"
      ]
     },
     "metadata": {},
     "output_type": "display_data"
    },
    {
     "name": "stdout",
     "output_type": "stream",
     "text": [
      "\n"
     ]
    },
    {
     "data": {
      "application/vnd.jupyter.widget-view+json": {
       "model_id": "7124305d40674d0399bb2bef3c7b11aa",
       "version_major": 2,
       "version_minor": 0
      },
      "text/plain": [
       "HBox(children=(FloatProgress(value=0.0, description='Validation', max=32.0, style=ProgressStyle(description_wi…"
      ]
     },
     "metadata": {},
     "output_type": "display_data"
    },
    {
     "name": "stdout",
     "output_type": "stream",
     "text": [
      "\n",
      "Epoch: 10, Train loss: 0.041670609337040185, Val loss: 1.3663016196146247, Train acc: 0.9853622229573271, Val acc: 0.7592121982210928\n"
     ]
    },
    {
     "data": {
      "application/vnd.jupyter.widget-view+json": {
       "model_id": "fdfb4065c88340b98f22258fb12d429b",
       "version_major": 2,
       "version_minor": 0
      },
      "text/plain": [
       "HBox(children=(FloatProgress(value=0.0, description='Training', max=378.0, style=ProgressStyle(description_wid…"
      ]
     },
     "metadata": {},
     "output_type": "display_data"
    },
    {
     "name": "stdout",
     "output_type": "stream",
     "text": [
      "\n"
     ]
    },
    {
     "data": {
      "application/vnd.jupyter.widget-view+json": {
       "model_id": "c4e537822cd54f8c9ecf2c3932e3b6b6",
       "version_major": 2,
       "version_minor": 0
      },
      "text/plain": [
       "HBox(children=(FloatProgress(value=0.0, description='Validation', max=32.0, style=ProgressStyle(description_wi…"
      ]
     },
     "metadata": {},
     "output_type": "display_data"
    },
    {
     "name": "stdout",
     "output_type": "stream",
     "text": [
      "\n",
      "Epoch: 11, Train loss: 0.034043632479759785, Val loss: 0.7447058411535192, Train acc: 0.9882566986437314, Val acc: 0.8335451080050826\n"
     ]
    },
    {
     "data": {
      "application/vnd.jupyter.widget-view+json": {
       "model_id": "0d42debf03c34ee4afd987a09f78bbd8",
       "version_major": 2,
       "version_minor": 0
      },
      "text/plain": [
       "HBox(children=(FloatProgress(value=0.0, description='Training', max=378.0, style=ProgressStyle(description_wid…"
      ]
     },
     "metadata": {},
     "output_type": "display_data"
    },
    {
     "name": "stdout",
     "output_type": "stream",
     "text": [
      "\n"
     ]
    },
    {
     "data": {
      "application/vnd.jupyter.widget-view+json": {
       "model_id": "34480e09ee764adf89d2c4c549a3399d",
       "version_major": 2,
       "version_minor": 0
      },
      "text/plain": [
       "HBox(children=(FloatProgress(value=0.0, description='Validation', max=32.0, style=ProgressStyle(description_wi…"
      ]
     },
     "metadata": {},
     "output_type": "display_data"
    },
    {
     "name": "stdout",
     "output_type": "stream",
     "text": [
      "\n",
      "Epoch: 12, Train loss: 0.027635159347116394, Val loss: 0.6442090242608832, Train acc: 0.990985775719484, Val acc: 0.8370393900889453\n"
     ]
    },
    {
     "data": {
      "application/vnd.jupyter.widget-view+json": {
       "model_id": "8be2578b51694f3289ecb8a158d52295",
       "version_major": 2,
       "version_minor": 0
      },
      "text/plain": [
       "HBox(children=(FloatProgress(value=0.0, description='Training', max=378.0, style=ProgressStyle(description_wid…"
      ]
     },
     "metadata": {},
     "output_type": "display_data"
    },
    {
     "name": "stdout",
     "output_type": "stream",
     "text": [
      "\n"
     ]
    },
    {
     "data": {
      "application/vnd.jupyter.widget-view+json": {
       "model_id": "67313ed9a0b74af683d0d488dd4fb8d6",
       "version_major": 2,
       "version_minor": 0
      },
      "text/plain": [
       "HBox(children=(FloatProgress(value=0.0, description='Validation', max=32.0, style=ProgressStyle(description_wi…"
      ]
     },
     "metadata": {},
     "output_type": "display_data"
    },
    {
     "name": "stdout",
     "output_type": "stream",
     "text": [
      "\n",
      "Epoch: 13, Train loss: 0.02155271895161115, Val loss: 0.6286256932280722, Train acc: 0.9937975521005623, Val acc: 0.8246505717916137\n"
     ]
    },
    {
     "data": {
      "application/vnd.jupyter.widget-view+json": {
       "model_id": "35151dd6a05340b89e9afbb7adb57b10",
       "version_major": 2,
       "version_minor": 0
      },
      "text/plain": [
       "HBox(children=(FloatProgress(value=0.0, description='Training', max=378.0, style=ProgressStyle(description_wid…"
      ]
     },
     "metadata": {},
     "output_type": "display_data"
    },
    {
     "name": "stdout",
     "output_type": "stream",
     "text": [
      "\n"
     ]
    },
    {
     "data": {
      "application/vnd.jupyter.widget-view+json": {
       "model_id": "2a0219203f9c403e9056734cd864d4f4",
       "version_major": 2,
       "version_minor": 0
      },
      "text/plain": [
       "HBox(children=(FloatProgress(value=0.0, description='Validation', max=32.0, style=ProgressStyle(description_wi…"
      ]
     },
     "metadata": {},
     "output_type": "display_data"
    },
    {
     "name": "stdout",
     "output_type": "stream",
     "text": [
      "\n",
      "Epoch: 14, Train loss: 0.012589159005716211, Val loss: 0.7727477429706835, Train acc: 0.9952861395964274, Val acc: 0.8424396442185514\n"
     ]
    },
    {
     "data": {
      "application/vnd.jupyter.widget-view+json": {
       "model_id": "5fcad243c3ae40838fdaae32f398a39b",
       "version_major": 2,
       "version_minor": 0
      },
      "text/plain": [
       "HBox(children=(FloatProgress(value=0.0, description='Training', max=378.0, style=ProgressStyle(description_wid…"
      ]
     },
     "metadata": {},
     "output_type": "display_data"
    },
    {
     "name": "stdout",
     "output_type": "stream",
     "text": [
      "\n"
     ]
    },
    {
     "data": {
      "application/vnd.jupyter.widget-view+json": {
       "model_id": "11ff183494034d299290eddfc0ead275",
       "version_major": 2,
       "version_minor": 0
      },
      "text/plain": [
       "HBox(children=(FloatProgress(value=0.0, description='Validation', max=32.0, style=ProgressStyle(description_wi…"
      ]
     },
     "metadata": {},
     "output_type": "display_data"
    },
    {
     "name": "stdout",
     "output_type": "stream",
     "text": [
      "\n",
      "Epoch: 15, Train loss: 0.014001111811418538, Val loss: 0.592565932676783, Train acc: 0.9949553423751241, Val acc: 0.8446632782719187\n"
     ]
    },
    {
     "data": {
      "application/vnd.jupyter.widget-view+json": {
       "model_id": "4efa0334a1cd4f4493cdfefe100cd68c",
       "version_major": 2,
       "version_minor": 0
      },
      "text/plain": [
       "HBox(children=(FloatProgress(value=0.0, description='Training', max=378.0, style=ProgressStyle(description_wid…"
      ]
     },
     "metadata": {},
     "output_type": "display_data"
    },
    {
     "name": "stdout",
     "output_type": "stream",
     "text": [
      "\n"
     ]
    },
    {
     "data": {
      "application/vnd.jupyter.widget-view+json": {
       "model_id": "d726d6d54b0241829e78c2b0882a3df0",
       "version_major": 2,
       "version_minor": 0
      },
      "text/plain": [
       "HBox(children=(FloatProgress(value=0.0, description='Validation', max=32.0, style=ProgressStyle(description_wi…"
      ]
     },
     "metadata": {},
     "output_type": "display_data"
    },
    {
     "name": "stdout",
     "output_type": "stream",
     "text": [
      "\n",
      "Epoch: 16, Train loss: 0.006802815489222262, Val loss: 0.6452889820179764, Train acc: 0.9982633145881574, Val acc: 0.8589580686149937\n"
     ]
    },
    {
     "data": {
      "application/vnd.jupyter.widget-view+json": {
       "model_id": "3ac4c75cd00e4bdeab0cbccaaa16469e",
       "version_major": 2,
       "version_minor": 0
      },
      "text/plain": [
       "HBox(children=(FloatProgress(value=0.0, description='Training', max=378.0, style=ProgressStyle(description_wid…"
      ]
     },
     "metadata": {},
     "output_type": "display_data"
    },
    {
     "name": "stdout",
     "output_type": "stream",
     "text": [
      "\n"
     ]
    },
    {
     "data": {
      "application/vnd.jupyter.widget-view+json": {
       "model_id": "3e62b76674314dfdb4d523d175c94c31",
       "version_major": 2,
       "version_minor": 0
      },
      "text/plain": [
       "HBox(children=(FloatProgress(value=0.0, description='Validation', max=32.0, style=ProgressStyle(description_wi…"
      ]
     },
     "metadata": {},
     "output_type": "display_data"
    },
    {
     "name": "stdout",
     "output_type": "stream",
     "text": [
      "\n",
      "Epoch: 17, Train loss: 0.006814291549742862, Val loss: 0.5695185270326111, Train acc: 0.9977671187562025, Val acc: 0.863722998729352\n"
     ]
    },
    {
     "data": {
      "application/vnd.jupyter.widget-view+json": {
       "model_id": "e1a30202937d4fcb81bf464d5b02fb67",
       "version_major": 2,
       "version_minor": 0
      },
      "text/plain": [
       "HBox(children=(FloatProgress(value=0.0, description='Training', max=378.0, style=ProgressStyle(description_wid…"
      ]
     },
     "metadata": {},
     "output_type": "display_data"
    },
    {
     "name": "stdout",
     "output_type": "stream",
     "text": [
      "\n"
     ]
    },
    {
     "data": {
      "application/vnd.jupyter.widget-view+json": {
       "model_id": "8ad8e94460e443feb357e5748f46bca0",
       "version_major": 2,
       "version_minor": 0
      },
      "text/plain": [
       "HBox(children=(FloatProgress(value=0.0, description='Validation', max=32.0, style=ProgressStyle(description_wi…"
      ]
     },
     "metadata": {},
     "output_type": "display_data"
    },
    {
     "name": "stdout",
     "output_type": "stream",
     "text": [
      "\n",
      "Epoch: 18, Train loss: 0.0028975068699574518, Val loss: 0.6763616212214115, Train acc: 0.9990903076414158, Val acc: 0.852287166454892\n"
     ]
    },
    {
     "data": {
      "application/vnd.jupyter.widget-view+json": {
       "model_id": "992f905a24c1444f9a5d07dc9007f62e",
       "version_major": 2,
       "version_minor": 0
      },
      "text/plain": [
       "HBox(children=(FloatProgress(value=0.0, description='Training', max=378.0, style=ProgressStyle(description_wid…"
      ]
     },
     "metadata": {},
     "output_type": "display_data"
    },
    {
     "name": "stdout",
     "output_type": "stream",
     "text": [
      "\n"
     ]
    },
    {
     "data": {
      "application/vnd.jupyter.widget-view+json": {
       "model_id": "e4d402225db648deb004311225f6e9b5",
       "version_major": 2,
       "version_minor": 0
      },
      "text/plain": [
       "HBox(children=(FloatProgress(value=0.0, description='Validation', max=32.0, style=ProgressStyle(description_wi…"
      ]
     },
     "metadata": {},
     "output_type": "display_data"
    },
    {
     "name": "stdout",
     "output_type": "stream",
     "text": [
      "\n",
      "Epoch: 19, Train loss: 0.004189011773011985, Val loss: 0.6881809313385127, Train acc: 0.9986768111147867, Val acc: 0.8538754764930114\n"
     ]
    },
    {
     "data": {
      "application/vnd.jupyter.widget-view+json": {
       "model_id": "cf9d942aa6cb410ebde3bb47842fb22a",
       "version_major": 2,
       "version_minor": 0
      },
      "text/plain": [
       "HBox(children=(FloatProgress(value=0.0, description='Training', max=378.0, style=ProgressStyle(description_wid…"
      ]
     },
     "metadata": {},
     "output_type": "display_data"
    },
    {
     "name": "stdout",
     "output_type": "stream",
     "text": [
      "\n"
     ]
    },
    {
     "data": {
      "application/vnd.jupyter.widget-view+json": {
       "model_id": "9da591d521054b1f8dc148cfe3b677a6",
       "version_major": 2,
       "version_minor": 0
      },
      "text/plain": [
       "HBox(children=(FloatProgress(value=0.0, description='Validation', max=32.0, style=ProgressStyle(description_wi…"
      ]
     },
     "metadata": {},
     "output_type": "display_data"
    },
    {
     "name": "stdout",
     "output_type": "stream",
     "text": [
      "\n",
      "Epoch: 20, Train loss: 0.003482342540261296, Val loss: 0.6804944546053037, Train acc: 0.9986768111147867, Val acc: 0.8513341804320204\n"
     ]
    }
   ],
   "source": [
    "#%matplotlib inline\n",
    "\n",
    "train_loss = []\n",
    "valid_loss = []\n",
    "train_acc = []\n",
    "val_acc = []\n",
    "\n",
    "if LOAD_MODEL_CHECKPOINT:\n",
    "    loaded_checkpoint = torch.load(LOAD_MODEL_CHECKPOINT_PATH)\n",
    "    START_EPOCH = loaded_checkpoint[\"epoch\"]\n",
    "    model.load_state_dict(loaded_checkpoint[\"model_state_dict\"])\n",
    "    optimizer.load_state_dict(loaded_checkpoint[\"optimizer_state_dict\"])\n",
    "    scheduler = get_cosine_schedule_with_warmup(optimizer, \n",
    "                                                num_warmup_steps=len(train_dataset)/BATCH_SIZE*5, \n",
    "                                                num_training_steps=num_train_steps,\n",
    "                                                last_epoch=loaded_checkpoint[\"epoch\"])\n",
    "print(\"START_EPOCH = \" + str(START_EPOCH))\n",
    "if TRAIN_START:\n",
    "    for epoch in range(START_EPOCH+1, NUM_EPOCHS+1):\n",
    "\n",
    "        tl, ta = train_fn(model, loader = trainloader)\n",
    "        vl, va, conf_mat = valid_fn(model, loader = validloader)\n",
    "        train_loss.append(tl)\n",
    "        valid_loss.append(vl)\n",
    "        train_acc.append(ta)\n",
    "        val_acc.append(va)\n",
    "\n",
    "        # model save for checkpoint\n",
    "        if epoch%1==0:\n",
    "\n",
    "            checkpoint = {\n",
    "                \"epoch\":epoch,\n",
    "                \"model_state_dict\":model.state_dict(),\n",
    "                \"optimizer_state_dict\":optimizer.state_dict()}\n",
    "            path = './checkpoint/epoch-' + str(epoch) + '.pth'\n",
    "            torch.save(checkpoint,path)\n",
    "\n",
    "        # model save for deploy \n",
    "        if epoch%1==0:\n",
    "\n",
    "            model_save_path = \"./checkpoint/deploy-%d\" % epoch\n",
    "            with open(model_save_path, 'wb') as f:\n",
    "                torch.save(model.state_dict(), f)\n",
    "\n",
    "        printstr = 'Epoch: '+ str(epoch) + ', Train loss: ' + str(tl) + ', Val loss: ' + str(vl) + ', Train acc: ' + str(ta) + ', Val acc: ' + str(va)\n",
    "        tqdm.write(printstr)"
   ]
  },
  {
   "cell_type": "markdown",
   "metadata": {},
   "source": [
    "## STATISTICS\n",
    "https://github.com/taylover-pei/SSDG-CVPR2020/blob/master/utils/statistic.py"
   ]
  },
  {
   "cell_type": "code",
   "execution_count": 24,
   "metadata": {},
   "outputs": [],
   "source": [
    "def eval_state(probs, labels, thr):\n",
    "    predict = probs >= thr\n",
    "    TN = np.sum((labels == 0) & (predict == False))\n",
    "    FN = np.sum((labels == 1) & (predict == False))\n",
    "    FP = np.sum((labels == 0) & (predict == True))\n",
    "    TP = np.sum((labels == 1) & (predict == True))\n",
    "    return TN, FN, FP, TP"
   ]
  },
  {
   "cell_type": "code",
   "execution_count": 25,
   "metadata": {},
   "outputs": [],
   "source": [
    "def calculate(probs, labels):\n",
    "    TN, FN, FP, TP = eval_state(probs, labels, 0.5)\n",
    "    APCER = 1.0 if (FP + TN == 0) else FP / float(FP + TN)\n",
    "    NPCER = 1.0 if (FN + TP == 0) else FN / float(FN + TP)\n",
    "    ACER = (APCER + NPCER) / 2.0\n",
    "    ACC = (TP + TN) / (TN + FN + FP + TP) #labels.shape[0]\n",
    "    return APCER, NPCER, ACER, ACC"
   ]
  },
  {
   "cell_type": "code",
   "execution_count": 26,
   "metadata": {},
   "outputs": [],
   "source": [
    "def calculate_threshold(probs, labels, threshold):\n",
    "    TN, FN, FP, TP = eval_state(probs, labels, threshold)\n",
    "    ACC = (TP + TN) / (TN + FN + FP + TP) #labels.shape[0]\n",
    "    return ACC"
   ]
  },
  {
   "cell_type": "code",
   "execution_count": 27,
   "metadata": {},
   "outputs": [],
   "source": [
    "def get_threshold(probs, grid_density):\n",
    "    Min, Max = min(probs), max(probs)\n",
    "    thresholds = []\n",
    "    for i in range(grid_density + 1):\n",
    "        thresholds.append(0.0 + i * 1.0 / float(grid_density))\n",
    "    thresholds.append(1.1)\n",
    "    return thresholds"
   ]
  },
  {
   "cell_type": "code",
   "execution_count": 28,
   "metadata": {},
   "outputs": [],
   "source": [
    "def get_EER_states(probs, labels, grid_density = 10000):\n",
    "    thresholds = get_threshold(probs, grid_density)\n",
    "    min_dist = 1.0\n",
    "    min_dist_states = []\n",
    "    FRR_list = []\n",
    "    FAR_list = []\n",
    "    for thr in thresholds:\n",
    "        TN, FN, FP, TP = eval_state(probs, labels, thr)\n",
    "        if(FN + TP == 0):\n",
    "            FRR = TPR = 1.0\n",
    "            FAR = FP / float(FP + TN)\n",
    "            TNR = TN / float(TN + FP)\n",
    "        elif(FP + TN == 0):\n",
    "            TNR = FAR = 1.0\n",
    "            FRR = FN / float(FN + TP)\n",
    "            TPR = TP / float(TP + FN)\n",
    "        else:\n",
    "            FAR = FP / float(FP + TN)\n",
    "            FRR = FN / float(FN + TP)\n",
    "            TNR = TN / float(TN + FP)\n",
    "            TPR = TP / float(TP + FN)\n",
    "        dist = math.fabs(FRR - FAR)\n",
    "        FAR_list.append(FAR)\n",
    "        FRR_list.append(FRR)\n",
    "        if dist <= min_dist:\n",
    "            min_dist = dist\n",
    "            min_dist_states = [FAR, FRR, thr]\n",
    "    EER = (min_dist_states[0] + min_dist_states[1]) / 2.0\n",
    "    thr = min_dist_states[2]\n",
    "    return EER, thr, FRR_list, FAR_list"
   ]
  },
  {
   "cell_type": "code",
   "execution_count": 29,
   "metadata": {},
   "outputs": [],
   "source": [
    "def get_HTER_at_thr(probs, labels, thr):\n",
    "    TN, FN, FP, TP = eval_state(probs, labels, thr)\n",
    "    if (FN + TP == 0):\n",
    "        FRR = 1.0\n",
    "        FAR = FP / float(FP + TN)\n",
    "    elif(FP + TN == 0):\n",
    "        FAR = 1.0\n",
    "        FRR = FN / float(FN + TP)\n",
    "    else:\n",
    "        FAR = FP / float(FP + TN)\n",
    "        FRR = FN / float(FN + TP)\n",
    "    HTER = (FAR + FRR) / 2.0\n",
    "    return HTER"
   ]
  },
  {
   "cell_type": "markdown",
   "metadata": {},
   "source": [
    "## TEST"
   ]
  },
  {
   "cell_type": "code",
   "execution_count": 30,
   "metadata": {},
   "outputs": [],
   "source": [
    "data_dir = [[\"/home/umit/xDataset/Sentinel-img/test-real\",5626],\n",
    "            ]"
   ]
  },
  {
   "cell_type": "code",
   "execution_count": 31,
   "metadata": {},
   "outputs": [],
   "source": [
    "test_balance_real_full = None\n",
    "for x in data_dir:\n",
    "    \n",
    "    _dir = x[0]\n",
    "    sampleNum = x[1]\n",
    "    \n",
    "    data_samples = []\n",
    "    test_data_real = []\n",
    "    \n",
    "    # JPEG\n",
    "    _list_jpeg = glob.glob(_dir + '/*.jpeg')\n",
    "    data_samples += _list_jpeg\n",
    "    # JPG\n",
    "    _list_jpg = glob.glob(_dir + '/*.jpg')\n",
    "    data_samples += _list_jpg\n",
    "    # PNG\n",
    "    _list_png = glob.glob(_dir + '/*.png')\n",
    "    data_samples += _list_png\n",
    "    \n",
    "    test_data_real = pd.DataFrame(data_samples,columns = ['image_path'])\n",
    "    test_data_real['real'] = 1\n",
    "    test_data_real['fake'] = 0\n",
    "    \n",
    "    if test_balance_real_full is None:\n",
    "        test_balance_real_full = test_data_real.sample(n=sampleNum, random_state=1,replace=False)\n",
    "    else:\n",
    "        test_balance_real_full = pd.concat([test_balance_real_full, \n",
    "                                       test_data_real.sample(n=sampleNum, random_state=1,replace=False)],\n",
    "                                       ignore_index=True)"
   ]
  },
  {
   "cell_type": "code",
   "execution_count": 32,
   "metadata": {},
   "outputs": [
    {
     "data": {
      "text/html": [
       "<div>\n",
       "<style scoped>\n",
       "    .dataframe tbody tr th:only-of-type {\n",
       "        vertical-align: middle;\n",
       "    }\n",
       "\n",
       "    .dataframe tbody tr th {\n",
       "        vertical-align: top;\n",
       "    }\n",
       "\n",
       "    .dataframe thead th {\n",
       "        text-align: right;\n",
       "    }\n",
       "</style>\n",
       "<table border=\"1\" class=\"dataframe\">\n",
       "  <thead>\n",
       "    <tr style=\"text-align: right;\">\n",
       "      <th></th>\n",
       "      <th>image_path</th>\n",
       "      <th>real</th>\n",
       "      <th>fake</th>\n",
       "    </tr>\n",
       "  </thead>\n",
       "  <tbody>\n",
       "    <tr>\n",
       "      <th>5137</th>\n",
       "      <td>/home/umit/xDataset/Sentinel-img/test-real/tes...</td>\n",
       "      <td>1</td>\n",
       "      <td>0</td>\n",
       "    </tr>\n",
       "    <tr>\n",
       "      <th>3516</th>\n",
       "      <td>/home/umit/xDataset/Sentinel-img/test-real/tes...</td>\n",
       "      <td>1</td>\n",
       "      <td>0</td>\n",
       "    </tr>\n",
       "    <tr>\n",
       "      <th>5571</th>\n",
       "      <td>/home/umit/xDataset/Sentinel-img/test-real/tes...</td>\n",
       "      <td>1</td>\n",
       "      <td>0</td>\n",
       "    </tr>\n",
       "    <tr>\n",
       "      <th>5409</th>\n",
       "      <td>/home/umit/xDataset/Sentinel-img/test-real/tes...</td>\n",
       "      <td>1</td>\n",
       "      <td>0</td>\n",
       "    </tr>\n",
       "    <tr>\n",
       "      <th>3187</th>\n",
       "      <td>/home/umit/xDataset/Sentinel-img/test-real/tes...</td>\n",
       "      <td>1</td>\n",
       "      <td>0</td>\n",
       "    </tr>\n",
       "  </tbody>\n",
       "</table>\n",
       "</div>"
      ],
      "text/plain": [
       "                                             image_path  real  fake\n",
       "5137  /home/umit/xDataset/Sentinel-img/test-real/tes...     1     0\n",
       "3516  /home/umit/xDataset/Sentinel-img/test-real/tes...     1     0\n",
       "5571  /home/umit/xDataset/Sentinel-img/test-real/tes...     1     0\n",
       "5409  /home/umit/xDataset/Sentinel-img/test-real/tes...     1     0\n",
       "3187  /home/umit/xDataset/Sentinel-img/test-real/tes...     1     0"
      ]
     },
     "execution_count": 32,
     "metadata": {},
     "output_type": "execute_result"
    }
   ],
   "source": [
    "test_balance_real_full.head()"
   ]
  },
  {
   "cell_type": "code",
   "execution_count": 33,
   "metadata": {},
   "outputs": [],
   "source": [
    "data_dir = [[\"/home/umit/xDataset/Sentinel-img/test-fake\",4865],\n",
    "            ]"
   ]
  },
  {
   "cell_type": "code",
   "execution_count": 34,
   "metadata": {},
   "outputs": [],
   "source": [
    "test_balance_fake_full = None\n",
    "for x in data_dir:\n",
    "    \n",
    "    _dir = x[0]\n",
    "    sampleNum = x[1]\n",
    "    \n",
    "    data_samples = []\n",
    "    test_data_fake = []\n",
    "    \n",
    "    # JPEG\n",
    "    _list_jpeg = glob.glob(_dir + '/*.jpeg')\n",
    "    data_samples += _list_jpeg\n",
    "    # JPG\n",
    "    _list_jpg = glob.glob(_dir + '/*.jpg')\n",
    "    data_samples += _list_jpg\n",
    "    # PNG\n",
    "    _list_png = glob.glob(_dir + '/*.png')\n",
    "    data_samples += _list_png\n",
    "\n",
    "    test_data_fake = pd.DataFrame(data_samples,columns = ['image_path'])\n",
    "    test_data_fake['real'] = 0.0\n",
    "    test_data_fake['fake'] = 1.0\n",
    "    \n",
    "    if test_balance_fake_full is None:\n",
    "        test_balance_fake_full = test_data_fake.sample(n=sampleNum, random_state=1,replace=False)\n",
    "    else:\n",
    "        test_balance_fake_full = pd.concat([test_balance_fake_full, \n",
    "                                       test_data_fake.sample(n=sampleNum, random_state=1,replace=False)],\n",
    "                                       ignore_index=True)"
   ]
  },
  {
   "cell_type": "code",
   "execution_count": 35,
   "metadata": {},
   "outputs": [
    {
     "data": {
      "text/html": [
       "<div>\n",
       "<style scoped>\n",
       "    .dataframe tbody tr th:only-of-type {\n",
       "        vertical-align: middle;\n",
       "    }\n",
       "\n",
       "    .dataframe tbody tr th {\n",
       "        vertical-align: top;\n",
       "    }\n",
       "\n",
       "    .dataframe thead th {\n",
       "        text-align: right;\n",
       "    }\n",
       "</style>\n",
       "<table border=\"1\" class=\"dataframe\">\n",
       "  <thead>\n",
       "    <tr style=\"text-align: right;\">\n",
       "      <th></th>\n",
       "      <th>image_path</th>\n",
       "      <th>real</th>\n",
       "      <th>fake</th>\n",
       "    </tr>\n",
       "  </thead>\n",
       "  <tbody>\n",
       "    <tr>\n",
       "      <th>600</th>\n",
       "      <td>/home/umit/xDataset/Sentinel-img/test-fake/tes...</td>\n",
       "      <td>0.0</td>\n",
       "      <td>1.0</td>\n",
       "    </tr>\n",
       "    <tr>\n",
       "      <th>3033</th>\n",
       "      <td>/home/umit/xDataset/Sentinel-img/test-fake/tes...</td>\n",
       "      <td>0.0</td>\n",
       "      <td>1.0</td>\n",
       "    </tr>\n",
       "    <tr>\n",
       "      <th>248</th>\n",
       "      <td>/home/umit/xDataset/Sentinel-img/test-fake/tes...</td>\n",
       "      <td>0.0</td>\n",
       "      <td>1.0</td>\n",
       "    </tr>\n",
       "    <tr>\n",
       "      <th>1892</th>\n",
       "      <td>/home/umit/xDataset/Sentinel-img/test-fake/tes...</td>\n",
       "      <td>0.0</td>\n",
       "      <td>1.0</td>\n",
       "    </tr>\n",
       "    <tr>\n",
       "      <th>3438</th>\n",
       "      <td>/home/umit/xDataset/Sentinel-img/test-fake/tes...</td>\n",
       "      <td>0.0</td>\n",
       "      <td>1.0</td>\n",
       "    </tr>\n",
       "  </tbody>\n",
       "</table>\n",
       "</div>"
      ],
      "text/plain": [
       "                                             image_path  real  fake\n",
       "600   /home/umit/xDataset/Sentinel-img/test-fake/tes...   0.0   1.0\n",
       "3033  /home/umit/xDataset/Sentinel-img/test-fake/tes...   0.0   1.0\n",
       "248   /home/umit/xDataset/Sentinel-img/test-fake/tes...   0.0   1.0\n",
       "1892  /home/umit/xDataset/Sentinel-img/test-fake/tes...   0.0   1.0\n",
       "3438  /home/umit/xDataset/Sentinel-img/test-fake/tes...   0.0   1.0"
      ]
     },
     "execution_count": 35,
     "metadata": {},
     "output_type": "execute_result"
    }
   ],
   "source": [
    "test_balance_fake_full.head()"
   ]
  },
  {
   "cell_type": "code",
   "execution_count": 36,
   "metadata": {},
   "outputs": [
    {
     "data": {
      "text/plain": [
       "10491"
      ]
     },
     "execution_count": 36,
     "metadata": {},
     "output_type": "execute_result"
    }
   ],
   "source": [
    "test_data = pd.concat([test_balance_real_full, test_balance_fake_full],ignore_index=True)\n",
    "len(test_data)"
   ]
  },
  {
   "cell_type": "code",
   "execution_count": 37,
   "metadata": {},
   "outputs": [],
   "source": [
    "class DeepFakeTestDataset(Dataset):\n",
    "    \n",
    "    def __init__(self, image_paths, labels):\n",
    "        \n",
    "        self.paths = image_paths\n",
    "        self.labels = labels\n",
    "        \n",
    "        self.transform = Compose([Resize(IMAGE_SIZE,IMAGE_SIZE, always_apply=True),\n",
    "                                       Normalize((0.485, 0.456, 0.406), (0.229, 0.224, 0.225), always_apply=True),\n",
    "                                       ToTensor()]) #normalized for pretrained network\n",
    "        \n",
    "    def __len__(self):\n",
    "        return self.paths.shape[0]\n",
    "    \n",
    "    def __getitem__(self, i):\n",
    "        \n",
    "        image_bgr = cv2.imread(self.paths[i])\n",
    "        image = cv2.cvtColor(image_bgr, cv2.COLOR_BGR2RGB)\n",
    "        image = self.transform(image=image)['image']\n",
    "        \n",
    "        label = torch.tensor(np.argmax(self.labels.loc[i,:].values))\n",
    "\n",
    "        return image, label"
   ]
  },
  {
   "cell_type": "code",
   "execution_count": 38,
   "metadata": {},
   "outputs": [],
   "source": [
    "test_dataset = DeepFakeTestDataset(test_data['image_path'], test_data.loc[:, ['real','fake']])\n",
    "testloader = DataLoader(test_dataset, shuffle=False, batch_size = TEST_BATCH_SIZE, num_workers = 2)"
   ]
  },
  {
   "cell_type": "code",
   "execution_count": 39,
   "metadata": {},
   "outputs": [],
   "source": [
    "if LOAD_MODEL_DEPLOY:\n",
    "    # model load for deploy\n",
    "    device='cuda:0'\n",
    "    model.load_state_dict(torch.load(open(LOAD_MODEL_DEPLOY_PATH, 'rb'), map_location=device))\n",
    "    model.eval()"
   ]
  },
  {
   "cell_type": "code",
   "execution_count": 40,
   "metadata": {},
   "outputs": [],
   "source": [
    "#from IPython.core.debugger import Tracer; Tracer()()\n",
    "def test_fn(net, loader):\n",
    "\n",
    "    preds_pair = []\n",
    "    score_max = []\n",
    "    labels_for_acc = []\n",
    "    preds_for_acc = []\n",
    "    \n",
    "    pbar = tqdm(total = len(loader), desc='Test')\n",
    "    \n",
    "    with torch.no_grad():\n",
    "\n",
    "        for i, (images, labels) in enumerate(loader):\n",
    "            \n",
    "            images, labels = images.to(device), labels.to(device)\n",
    "            net.eval()\n",
    "            predictions = net(images)\n",
    "            predictions_normalize = softmax(predictions.cpu().detach().numpy(),1)\n",
    "            \n",
    "            # assign initial values\n",
    "            if i==0:\n",
    "                preds_pair = predictions_normalize\n",
    "            else:\n",
    "                preds_pair = np.concatenate((preds_pair, predictions_normalize), 0)\n",
    "            \n",
    "            labels_for_acc = np.concatenate((labels_for_acc, labels.cpu().numpy()), 0)\n",
    "            \n",
    "            pbar.update()\n",
    "             \n",
    "    pbar.close()\n",
    "    \n",
    "    return preds_pair, labels_for_acc"
   ]
  },
  {
   "cell_type": "code",
   "execution_count": 41,
   "metadata": {},
   "outputs": [
    {
     "data": {
      "application/vnd.jupyter.widget-view+json": {
       "model_id": "5bd812459cde44d1b77672c4d7c6c3f5",
       "version_major": 2,
       "version_minor": 0
      },
      "text/plain": [
       "HBox(children=(FloatProgress(value=0.0, description='Test', max=105.0, style=ProgressStyle(description_width='…"
      ]
     },
     "metadata": {},
     "output_type": "display_data"
    },
    {
     "name": "stdout",
     "output_type": "stream",
     "text": [
      "\n"
     ]
    }
   ],
   "source": [
    "np.set_printoptions(precision=3,suppress=True,threshold=5)\n",
    "\n",
    "subs = []\n",
    "repeat = 1\n",
    "for i in range(repeat): #average over 3 runs\n",
    "    \n",
    "    preds_pair, labels_for_acc = test_fn(model, testloader)\n",
    "    output = pd.DataFrame(preds_pair, columns = ['predict_real','predict_fake'])\n",
    "    output.drop(0, inplace = True)\n",
    "    output.reset_index(drop=True,inplace=True)\n",
    "    subs.append(output)\n",
    "\n",
    "sub_1 = sum(subs)/repeat"
   ]
  },
  {
   "cell_type": "code",
   "execution_count": 42,
   "metadata": {},
   "outputs": [],
   "source": [
    "score_real = preds_pair[:,0] # real = 1, fake = 0\n",
    "preds_for_acc = np.argmax(preds_pair, 1)\n",
    "# Convert Real = 1, Fake = 0 \n",
    "preds_for_acc = 1 - preds_for_acc\n",
    "labels_for_acc = 1 - labels_for_acc"
   ]
  },
  {
   "cell_type": "code",
   "execution_count": 43,
   "metadata": {},
   "outputs": [
    {
     "name": "stdout",
     "output_type": "stream",
     "text": [
      "Test Accuracy = 0.839004861309694\n",
      "APCER = 0.25837615621788285\n",
      "NPCER = 0.0767863490934945\n",
      "ACER = 0.16758125265568868\n",
      "ACC = 0.839004861309694\n",
      "3608 432 1257 5194\n"
     ]
    }
   ],
   "source": [
    "accuracy = accuracy_score(labels_for_acc, preds_for_acc)\n",
    "conf_mat = confusion_matrix(labels_for_acc, preds_for_acc)\n",
    "\n",
    "print(\"Test Accuracy = \" + str(accuracy))\n",
    "\n",
    "TP = conf_mat[1,1] # Real True\n",
    "FN = conf_mat[1,0] # Real False\n",
    "TN = conf_mat[0,0] # Fake True\n",
    "FP = conf_mat[0,1] # Fake False\n",
    "\n",
    "APCER = 1.0 if (FP + TN == 0) else FP / float(FP + TN)\n",
    "NPCER = 1.0 if (FN + TP == 0) else FN / float(FN + TP) # BPCER\n",
    "ACER = (APCER + NPCER) / 2.0\n",
    "ACC = (TP + TN) / (TP + TN + FP + FN)\n",
    "print(\"APCER = \" + str(APCER))\n",
    "print(\"NPCER = \" + str(NPCER))\n",
    "print(\"ACER = \" + str(ACER))\n",
    "print(\"ACC = \" + str(ACC))\n",
    "\n",
    "print(TN, FN, FP, TP)"
   ]
  },
  {
   "cell_type": "code",
   "execution_count": 44,
   "metadata": {
    "scrolled": true
   },
   "outputs": [
    {
     "data": {
      "text/plain": [
       "<matplotlib.axes._subplots.AxesSubplot at 0x7f6853e0f978>"
      ]
     },
     "execution_count": 44,
     "metadata": {},
     "output_type": "execute_result"
    },
    {
     "data": {
      "image/png": "[encoded data removed]",
      "text/plain": [
       "<Figure size 432x288 with 2 Axes>"
      ]
     },
     "metadata": {
      "needs_background": "light"
     },
     "output_type": "display_data"
    }
   ],
   "source": [
    "predict_labels = ['pred_fake','pred_real']\n",
    "labels = ['fake','real']\n",
    "sns.heatmap(conf_mat, xticklabels=predict_labels, yticklabels=labels, linewidths=2, annot=True, fmt=\"d\")"
   ]
  },
  {
   "cell_type": "code",
   "execution_count": 45,
   "metadata": {},
   "outputs": [],
   "source": [
    "def eval_state(probs, labels, thr):\n",
    "    predict = probs >= thr\n",
    "    TN = np.sum((labels == 0) & (predict == False))\n",
    "    FN = np.sum((labels == 1) & (predict == False))\n",
    "    FP = np.sum((labels == 0) & (predict == True))\n",
    "    TP = np.sum((labels == 1) & (predict == True))\n",
    "    return TN, FN, FP, TP"
   ]
  },
  {
   "cell_type": "code",
   "execution_count": 46,
   "metadata": {},
   "outputs": [
    {
     "name": "stdout",
     "output_type": "stream",
     "text": [
      "3608 432 1257 5194\n"
     ]
    }
   ],
   "source": [
    "TN, FN, FP, TP = eval_state(score_real,labels_for_acc,0.5)\n",
    "print(TN, FN, FP, TP)"
   ]
  },
  {
   "cell_type": "code",
   "execution_count": 47,
   "metadata": {},
   "outputs": [
    {
     "data": {
      "text/plain": [
       "(0.25837615621788285,\n",
       " 0.0767863490934945,\n",
       " 0.16758125265568868,\n",
       " 0.839004861309694)"
      ]
     },
     "execution_count": 47,
     "metadata": {},
     "output_type": "execute_result"
    }
   ],
   "source": [
    "APCER, NPCER, ACER, ACC = calculate(score_real, labels_for_acc)\n",
    "APCER, NPCER, ACER, ACC "
   ]
  },
  {
   "cell_type": "code",
   "execution_count": 48,
   "metadata": {},
   "outputs": [
    {
     "data": {
      "text/plain": [
       "(0.15793931712585343, 0.9883)"
      ]
     },
     "execution_count": 48,
     "metadata": {},
     "output_type": "execute_result"
    }
   ],
   "source": [
    "EER, thr, FRR_list, FAR_list = get_EER_states(score_real, labels_for_acc, grid_density = 10000)\n",
    "EER, thr"
   ]
  },
  {
   "cell_type": "code",
   "execution_count": 49,
   "metadata": {},
   "outputs": [
    {
     "data": {
      "text/plain": [
       "0.15793931712585343"
      ]
     },
     "execution_count": 49,
     "metadata": {},
     "output_type": "execute_result"
    }
   ],
   "source": [
    "HTER = get_HTER_at_thr(score_real, labels_for_acc, thr)\n",
    "HTER"
   ]
  },
  {
   "cell_type": "code",
   "execution_count": 50,
   "metadata": {},
   "outputs": [
    {
     "data": {
      "text/plain": [
       "0.842055094843199"
      ]
     },
     "execution_count": 50,
     "metadata": {},
     "output_type": "execute_result"
    }
   ],
   "source": [
    "ACC_thr = calculate_threshold(score_real, labels_for_acc, thr)\n",
    "ACC_thr"
   ]
  },
  {
   "cell_type": "code",
   "execution_count": 51,
   "metadata": {},
   "outputs": [
    {
     "data": {
      "image/png": "[encoded data removed]",
      "text/plain": [
       "<Figure size 432x288 with 1 Axes>"
      ]
     },
     "metadata": {
      "needs_background": "light"
     },
     "output_type": "display_data"
    }
   ],
   "source": [
    "plt.plot(FAR_list, FRR_list, marker='.', label='ROC (FAR-FRR)')\n",
    "# axis labels\n",
    "plt.xlabel('False Alarm Rate')\n",
    "plt.ylabel('False Rejection Rate')\n",
    "plt.xlim(0, 1)\n",
    "plt.ylim(0, 1)\n",
    "plt.grid()\n",
    "# show the legend\n",
    "plt.legend()\n",
    "# save and show plot\n",
    "plt.savefig('./results/Test Results.png')\n",
    "plt.show()"
   ]
  },
  {
   "cell_type": "code",
   "execution_count": 52,
   "metadata": {},
   "outputs": [
    {
     "data": {
      "text/html": [
       "<div>\n",
       "<style scoped>\n",
       "    .dataframe tbody tr th:only-of-type {\n",
       "        vertical-align: middle;\n",
       "    }\n",
       "\n",
       "    .dataframe tbody tr th {\n",
       "        vertical-align: top;\n",
       "    }\n",
       "\n",
       "    .dataframe thead th {\n",
       "        text-align: right;\n",
       "    }\n",
       "</style>\n",
       "<table border=\"1\" class=\"dataframe\">\n",
       "  <thead>\n",
       "    <tr style=\"text-align: right;\">\n",
       "      <th></th>\n",
       "      <th>predict_real</th>\n",
       "      <th>predict_fake</th>\n",
       "      <th>real</th>\n",
       "      <th>fake</th>\n",
       "    </tr>\n",
       "  </thead>\n",
       "  <tbody>\n",
       "    <tr>\n",
       "      <th>0</th>\n",
       "      <td>0.999965</td>\n",
       "      <td>3.501520e-05</td>\n",
       "      <td>1.0</td>\n",
       "      <td>0.0</td>\n",
       "    </tr>\n",
       "    <tr>\n",
       "      <th>1</th>\n",
       "      <td>0.985192</td>\n",
       "      <td>1.480773e-02</td>\n",
       "      <td>1.0</td>\n",
       "      <td>0.0</td>\n",
       "    </tr>\n",
       "    <tr>\n",
       "      <th>2</th>\n",
       "      <td>0.025589</td>\n",
       "      <td>9.744110e-01</td>\n",
       "      <td>1.0</td>\n",
       "      <td>0.0</td>\n",
       "    </tr>\n",
       "    <tr>\n",
       "      <th>3</th>\n",
       "      <td>1.000000</td>\n",
       "      <td>4.836811e-08</td>\n",
       "      <td>1.0</td>\n",
       "      <td>0.0</td>\n",
       "    </tr>\n",
       "    <tr>\n",
       "      <th>4</th>\n",
       "      <td>1.000000</td>\n",
       "      <td>1.354459e-14</td>\n",
       "      <td>1.0</td>\n",
       "      <td>0.0</td>\n",
       "    </tr>\n",
       "  </tbody>\n",
       "</table>\n",
       "</div>"
      ],
      "text/plain": [
       "   predict_real  predict_fake  real  fake\n",
       "0      0.999965  3.501520e-05   1.0   0.0\n",
       "1      0.985192  1.480773e-02   1.0   0.0\n",
       "2      0.025589  9.744110e-01   1.0   0.0\n",
       "3      1.000000  4.836811e-08   1.0   0.0\n",
       "4      1.000000  1.354459e-14   1.0   0.0"
      ]
     },
     "execution_count": 52,
     "metadata": {},
     "output_type": "execute_result"
    }
   ],
   "source": [
    "sub_1['real'] = test_data['real']\n",
    "sub_1['fake'] = test_data['fake']\n",
    "sub_1.head()"
   ]
  },
  {
   "cell_type": "code",
   "execution_count": 53,
   "metadata": {},
   "outputs": [],
   "source": [
    "sub = sub_1.copy()\n",
    "sub['image_path'] = test_data['image_path']\n",
    "sub = sub[['image_path','predict_real','predict_fake','real','fake']]\n",
    "\n",
    "sub.to_csv('./results/submission.csv', index = False)"
   ]
  },
  {
   "cell_type": "code",
   "execution_count": 54,
   "metadata": {},
   "outputs": [
    {
     "data": {
      "text/html": [
       "<div>\n",
       "<style scoped>\n",
       "    .dataframe tbody tr th:only-of-type {\n",
       "        vertical-align: middle;\n",
       "    }\n",
       "\n",
       "    .dataframe tbody tr th {\n",
       "        vertical-align: top;\n",
       "    }\n",
       "\n",
       "    .dataframe thead th {\n",
       "        text-align: right;\n",
       "    }\n",
       "</style>\n",
       "<table border=\"1\" class=\"dataframe\">\n",
       "  <thead>\n",
       "    <tr style=\"text-align: right;\">\n",
       "      <th></th>\n",
       "      <th>image_path</th>\n",
       "      <th>predict_real</th>\n",
       "      <th>predict_fake</th>\n",
       "      <th>real</th>\n",
       "      <th>fake</th>\n",
       "    </tr>\n",
       "  </thead>\n",
       "  <tbody>\n",
       "    <tr>\n",
       "      <th>0</th>\n",
       "      <td>/home/umit/xDataset/Sentinel-img/test-real/tes...</td>\n",
       "      <td>0.999965</td>\n",
       "      <td>3.501520e-05</td>\n",
       "      <td>1.0</td>\n",
       "      <td>0.0</td>\n",
       "    </tr>\n",
       "    <tr>\n",
       "      <th>1</th>\n",
       "      <td>/home/umit/xDataset/Sentinel-img/test-real/tes...</td>\n",
       "      <td>0.985192</td>\n",
       "      <td>1.480773e-02</td>\n",
       "      <td>1.0</td>\n",
       "      <td>0.0</td>\n",
       "    </tr>\n",
       "    <tr>\n",
       "      <th>2</th>\n",
       "      <td>/home/umit/xDataset/Sentinel-img/test-real/tes...</td>\n",
       "      <td>0.025589</td>\n",
       "      <td>9.744110e-01</td>\n",
       "      <td>1.0</td>\n",
       "      <td>0.0</td>\n",
       "    </tr>\n",
       "    <tr>\n",
       "      <th>3</th>\n",
       "      <td>/home/umit/xDataset/Sentinel-img/test-real/tes...</td>\n",
       "      <td>1.000000</td>\n",
       "      <td>4.836811e-08</td>\n",
       "      <td>1.0</td>\n",
       "      <td>0.0</td>\n",
       "    </tr>\n",
       "    <tr>\n",
       "      <th>4</th>\n",
       "      <td>/home/umit/xDataset/Sentinel-img/test-real/tes...</td>\n",
       "      <td>1.000000</td>\n",
       "      <td>1.354459e-14</td>\n",
       "      <td>1.0</td>\n",
       "      <td>0.0</td>\n",
       "    </tr>\n",
       "    <tr>\n",
       "      <th>...</th>\n",
       "      <td>...</td>\n",
       "      <td>...</td>\n",
       "      <td>...</td>\n",
       "      <td>...</td>\n",
       "      <td>...</td>\n",
       "    </tr>\n",
       "    <tr>\n",
       "      <th>10485</th>\n",
       "      <td>/home/umit/xDataset/Sentinel-img/test-fake/tes...</td>\n",
       "      <td>0.000003</td>\n",
       "      <td>9.999971e-01</td>\n",
       "      <td>0.0</td>\n",
       "      <td>1.0</td>\n",
       "    </tr>\n",
       "    <tr>\n",
       "      <th>10486</th>\n",
       "      <td>/home/umit/xDataset/Sentinel-img/test-fake/tes...</td>\n",
       "      <td>0.041386</td>\n",
       "      <td>9.586145e-01</td>\n",
       "      <td>0.0</td>\n",
       "      <td>1.0</td>\n",
       "    </tr>\n",
       "    <tr>\n",
       "      <th>10487</th>\n",
       "      <td>/home/umit/xDataset/Sentinel-img/test-fake/tes...</td>\n",
       "      <td>0.815397</td>\n",
       "      <td>1.846031e-01</td>\n",
       "      <td>0.0</td>\n",
       "      <td>1.0</td>\n",
       "    </tr>\n",
       "    <tr>\n",
       "      <th>10488</th>\n",
       "      <td>/home/umit/xDataset/Sentinel-img/test-fake/tes...</td>\n",
       "      <td>0.476767</td>\n",
       "      <td>5.232332e-01</td>\n",
       "      <td>0.0</td>\n",
       "      <td>1.0</td>\n",
       "    </tr>\n",
       "    <tr>\n",
       "      <th>10489</th>\n",
       "      <td>/home/umit/xDataset/Sentinel-img/test-fake/tes...</td>\n",
       "      <td>0.033528</td>\n",
       "      <td>9.664725e-01</td>\n",
       "      <td>0.0</td>\n",
       "      <td>1.0</td>\n",
       "    </tr>\n",
       "  </tbody>\n",
       "</table>\n",
       "<p>10490 rows × 5 columns</p>\n",
       "</div>"
      ],
      "text/plain": [
       "                                              image_path  predict_real  \\\n",
       "0      /home/umit/xDataset/Sentinel-img/test-real/tes...      0.999965   \n",
       "1      /home/umit/xDataset/Sentinel-img/test-real/tes...      0.985192   \n",
       "2      /home/umit/xDataset/Sentinel-img/test-real/tes...      0.025589   \n",
       "3      /home/umit/xDataset/Sentinel-img/test-real/tes...      1.000000   \n",
       "4      /home/umit/xDataset/Sentinel-img/test-real/tes...      1.000000   \n",
       "...                                                  ...           ...   \n",
       "10485  /home/umit/xDataset/Sentinel-img/test-fake/tes...      0.000003   \n",
       "10486  /home/umit/xDataset/Sentinel-img/test-fake/tes...      0.041386   \n",
       "10487  /home/umit/xDataset/Sentinel-img/test-fake/tes...      0.815397   \n",
       "10488  /home/umit/xDataset/Sentinel-img/test-fake/tes...      0.476767   \n",
       "10489  /home/umit/xDataset/Sentinel-img/test-fake/tes...      0.033528   \n",
       "\n",
       "       predict_fake  real  fake  \n",
       "0      3.501520e-05   1.0   0.0  \n",
       "1      1.480773e-02   1.0   0.0  \n",
       "2      9.744110e-01   1.0   0.0  \n",
       "3      4.836811e-08   1.0   0.0  \n",
       "4      1.354459e-14   1.0   0.0  \n",
       "...             ...   ...   ...  \n",
       "10485  9.999971e-01   0.0   1.0  \n",
       "10486  9.586145e-01   0.0   1.0  \n",
       "10487  1.846031e-01   0.0   1.0  \n",
       "10488  5.232332e-01   0.0   1.0  \n",
       "10489  9.664725e-01   0.0   1.0  \n",
       "\n",
       "[10490 rows x 5 columns]"
      ]
     },
     "execution_count": 54,
     "metadata": {},
     "output_type": "execute_result"
    }
   ],
   "source": [
    "sub"
   ]
  },
  {
   "cell_type": "markdown",
   "metadata": {},
   "source": [
    "## Clear GPU memory"
   ]
  },
  {
   "cell_type": "code",
   "execution_count": 55,
   "metadata": {},
   "outputs": [],
   "source": [
    "CLEAR_MEMORY = False\n",
    "if CLEAR_MEMORY:\n",
    "    del model\n",
    "    del optimizer\n",
    "    del scheduler\n",
    "    torch.cuda.empty_cache()"
   ]
  }
 ],
 "metadata": {
  "kernelspec": {
   "display_name": "Python 3",
   "language": "python",
   "name": "python3"
  },
  "language_info": {
   "codemirror_mode": {
    "name": "ipython",
    "version": 3
   },
   "file_extension": ".py",
   "mimetype": "text/x-python",
   "name": "python",
   "nbconvert_exporter": "python",
   "pygments_lexer": "ipython3",
   "version": "3.6.9"
  }
 },
 "nbformat": 4,
 "nbformat_minor": 4
}
