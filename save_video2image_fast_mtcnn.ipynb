{
 "cells": [
  {
   "cell_type": "markdown",
   "metadata": {},
   "source": [
    "## Requirement\n",
    "pip install facenet-pytorch"
   ]
  },
  {
   "cell_type": "code",
   "execution_count": null,
   "metadata": {},
   "outputs": [],
   "source": [
    "from facenet_pytorch import MTCNN\n",
    "from PIL import Image\n",
    "import torch\n",
    "from imutils.video import FileVideoStream\n",
    "import cv2\n",
    "import time\n",
    "import glob\n",
    "from tqdm.notebook import tqdm\n",
    "\n",
    "device = 'cuda' if torch.cuda.is_available() else 'cpu'"
   ]
  },
  {
   "cell_type": "markdown",
   "metadata": {},
   "source": [
    "## Face Detection - FastMTCNN "
   ]
  },
  {
   "cell_type": "code",
   "execution_count": null,
   "metadata": {},
   "outputs": [],
   "source": [
    "class FastMTCNN(object):\n",
    "    \"\"\"Fast MTCNN implementation.\"\"\"\n",
    "    \n",
    "    def __init__(self, stride, resize=1, *args, **kwargs):\n",
    "        \"\"\"Constructor for FastMTCNN class.\n",
    "        \n",
    "        Arguments:\n",
    "            stride (int): The detection stride. Faces will be detected every `stride` frames\n",
    "                and remembered for `stride-1` frames.\n",
    "        \n",
    "        Keyword arguments:\n",
    "            resize (float): Fractional frame scaling. [default: {1}]\n",
    "            *args: Arguments to pass to the MTCNN constructor. See help(MTCNN).\n",
    "            **kwargs: Keyword arguments to pass to the MTCNN constructor. See help(MTCNN).\n",
    "        \"\"\"\n",
    "        self.stride = stride\n",
    "        self.resize = resize\n",
    "        self.mtcnn = MTCNN(*args, **kwargs)\n",
    "        \n",
    "    def __call__(self, frames):\n",
    "        \"\"\"Detect faces in frames using strided MTCNN.\"\"\"\n",
    "        if self.resize != 1:\n",
    "            frames = [\n",
    "                cv2.resize(f, (int(f.shape[1] * self.resize), int(f.shape[0] * self.resize)))\n",
    "                    for f in frames\n",
    "            ]\n",
    "            \n",
    "        boxes, probs = self.mtcnn.detect(frames[::self.stride])\n",
    "\n",
    "        faces = []\n",
    "        for i, frame in enumerate(frames):\n",
    "            box_ind = int(i / self.stride)\n",
    "            if boxes[box_ind] is None:\n",
    "                continue\n",
    "            else:\n",
    "                for box in boxes[box_ind]:\n",
    "                    box = [int(b) for b in box]\n",
    "\n",
    "                    image_rgb = frame[box[1]:box[3], box[0]:box[2]]\n",
    "                    if (len(image_rgb) > 0) and (image_rgb.shape[0] > 10) and (image_rgb.shape[1] > 10):\n",
    "                        faces.append(image_rgb)\n",
    "                        ts = time.time()\n",
    "\n",
    "\n",
    "                        img_path = '/home/umit/xDataset/Sentinel-img/train-real/train-real-%f.jpeg' %ts\n",
    "\n",
    "                        #image_rgb = cv2.resize(image_rgb, (256,256))\n",
    "                        image_bgr = cv2.cvtColor(image_rgb, cv2.COLOR_RGB2BGR)\n",
    "                        cv2.imwrite(img_path, image_bgr)\n",
    "                \n",
    "        return faces"
   ]
  },
  {
   "cell_type": "code",
   "execution_count": null,
   "metadata": {},
   "outputs": [],
   "source": [
    "# help(MTCNN)"
   ]
  },
  {
   "cell_type": "code",
   "execution_count": null,
   "metadata": {},
   "outputs": [],
   "source": [
    "fast_mtcnn = FastMTCNN(\n",
    "    stride=1,\n",
    "    resize=1,\n",
    "    margin=50,\n",
    "    min_face_size=100, #default =20\n",
    "    thresholds=[0.6, 0.7, 0.7],\n",
    "    factor=0.7, # default = 0.709\n",
    "    post_process=True,\n",
    "    select_largest=True,\n",
    "    keep_all=True,\n",
    "    device=device\n",
    ")"
   ]
  },
  {
   "cell_type": "markdown",
   "metadata": {},
   "source": [
    "## VIDEO "
   ]
  },
  {
   "cell_type": "code",
   "execution_count": null,
   "metadata": {},
   "outputs": [],
   "source": [
    "filenames_video = glob.glob('../*.mp4')\n",
    "\n",
    "len(filenames_video)\n",
    "jump = 30 # all frame jump=1\n",
    "def run_video_detection(fast_mtcnn, filenames_video):\n",
    "    \n",
    "    frames = []\n",
    "    frames_processed = 0\n",
    "    faces_detected = 0\n",
    "    batch_size = 60\n",
    "    \n",
    "    for filename in tqdm(filenames_video):\n",
    "        \n",
    "        v_cap = FileVideoStream(filename).start()\n",
    "        v_len = int(v_cap.stream.get(cv2.CAP_PROP_FRAME_COUNT))\n",
    "        print(\"vlen = \"+str(v_len))\n",
    "\n",
    "        for j in range(0,v_len):\n",
    "\n",
    "            frame = v_cap.read()\n",
    "            \n",
    "            if j%jump==0 or j == v_len - 1:\n",
    "                \n",
    "                #frame = cv2.flip(cv2.transpose(frame), flipCode=1)\n",
    "                \n",
    "                frame = cv2.cvtColor(frame, cv2.COLOR_BGR2RGB)\n",
    "                frames.append(frame)\n",
    "\n",
    "                if len(frames) >= batch_size or j == v_len - 1:\n",
    "\n",
    "                    faces = fast_mtcnn(frames)\n",
    "\n",
    "                    frames_processed += len(frames)\n",
    "                    faces_detected += len(faces)\n",
    "\n",
    "                    frames = []\n",
    "                    faces = []\n",
    "                \n",
    "        v_cap.stop()\n",
    "        \n",
    "        print(\"frames_processed = \"+str(frames_processed))\n",
    "        print(\"faces_detected = \"+str(faces_detected))\n",
    "\n",
    "run_video_detection(fast_mtcnn, filenames_video)"
   ]
  },
  {
   "cell_type": "markdown",
   "metadata": {},
   "source": [
    "## IMAGE"
   ]
  },
  {
   "cell_type": "code",
   "execution_count": null,
   "metadata": {},
   "outputs": [],
   "source": [
    "image = True\n",
    "if image == True:\n",
    "    \n",
    "    filenames_image = glob.glob('../*.jpg')\n",
    "    def run_image_detection(fast_mtcnn, filenames_image):\n",
    "\n",
    "        images = []\n",
    "        images_processed = 0\n",
    "        faces_detected = 0\n",
    "\n",
    "        for filename in tqdm(filenames_image):\n",
    "\n",
    "            image = cv2.imread(filename)\n",
    "            image = cv2.cvtColor(image, cv2.COLOR_BGR2RGB)\n",
    "            images.append(image)\n",
    "\n",
    "            face = fast_mtcnn(images)\n",
    "\n",
    "            images_processed += len(images)\n",
    "            faces_detected += len(face)\n",
    "\n",
    "            images = []\n",
    "\n",
    "        print(\"images_processed = \"+str(images_processed))\n",
    "        print(\"faces_detected = \"+str(faces_detected))\n",
    "\n",
    "    run_image_detection(fast_mtcnn, filenames_image)"
   ]
  }
 ],
 "metadata": {
  "kernelspec": {
   "display_name": "Python 3",
   "language": "python",
   "name": "python3"
  },
  "language_info": {
   "codemirror_mode": {
    "name": "ipython",
    "version": 3
   },
   "file_extension": ".py",
   "mimetype": "text/x-python",
   "name": "python",
   "nbconvert_exporter": "python",
   "pygments_lexer": "ipython3",
   "version": "3.6.9"
  }
 },
 "nbformat": 4,
 "nbformat_minor": 4
}
